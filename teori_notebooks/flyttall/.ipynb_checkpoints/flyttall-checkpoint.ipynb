{
 "cells": [
  {
   "cell_type": "markdown",
   "metadata": {},
   "source": [
    "# Representasjon av tall på datamaskin"
   ]
  },
  {
   "cell_type": "markdown",
   "metadata": {},
   "source": [
    "På en datamaskin kan vi kun lagre et endelig antall siffer.\n",
    "Av fysiske årsaker er det både enklest og mest sikkert å bygge \n",
    "datamaskiner slik at informasjon representeres med tallene $0$ og $1$. Desverre\n",
    "er dette krevende for mennesker å lese. Denne interessekonflikten løses\n",
    "i informatikken ved konseptet abstraksjon - programmer skrevet på\n",
    "et nivå, tar kun hensyn til *hva* programmer på nivået under gjør, ikke *hvordan* de gjør det."
   ]
  },
  {
   "cell_type": "markdown",
   "metadata": {},
   "source": [
    "<figure>\n",
    "    <a href=https://slideplayer.com/slide/4949260/  rel='noopener noreferrer' target='_blank'><img src='./abstraction_layers.png' alt='abstraction layers' width='500'></a>\n",
    "    <figcaption> Abstraksjonsnivå på datamaskinen. Fra https://slideplayer.com/slide/4949260/\n",
    "</figure>"
   ]
  },
  {
   "cell_type": "markdown",
   "metadata": {},
   "source": [
    "Som bruker er du gjerne vant til å forholde deg til hvordan det øverste laget i figuren brukes. Vi skal holde oss mye til laget med algoritmer og prorgammeringsspråk. I noen tilfeller trenger vi å kommunisere med operativsystemet. Dette gjøres vanligvis via enten applikasjoner som utforskeren i windows, eller en kommandolinje eller terminal. I et pythonprogram kan du bruke `os`-modulen som du i et python-program importerer med kommandoen `import os`.\n",
    "\n",
    "For flyttall får likevel implementasjonen noen konsekvenser for hvordan de fungerer som det er greit å være klar over.\n",
    "Vi skal derfor se litt på hvordan tall blir representert på datamaskinen - dette er rent orienteringsstoff. Vi skal deretter se på hva denne representasjonen fører til, og se på noen eksempler på programmer der ting går galt.\n",
    "\n",
    "En lakmustest på om du har en grei forståelse av flyttall er om du greier å (med vilje!) konstruere programmer som logisk sett ser greie ut, men som på grunn av bruk av flyttall gir helt gale svar."
   ]
  },
  {
   "cell_type": "markdown",
   "metadata": {},
   "source": [
    "## Representasjon av flyttall\n",
    "\n",
    "\n",
    "\n",
    "\n",
    "\n",
    "\n",
    "\n",
    "\n",
    "\n",
    "\n",
    "\n",
    "\n"
   ]
  },
  {
   "cell_type": "markdown",
   "metadata": {},
   "source": [
    "### Standardform med desimaltall\n",
    "Vi kan skrive tall i titallsystemet på standarform, f.eks\n",
    "\n",
    "$$ \\underbrace{3.125}_{\\text{signifikand}}\\cdot10^5. $$\n",
    "\n",
    "Tallet foran tierpotensen beskriver nøyaktighet med antall signifikante siffer. Det\n",
    "har derfor fått navnet **signifikand**. Sammen med tierpotensen bestemmer den verdien på tallet. Siden tierpotensen er fast\n",
    "i alle tall på standarform, er signifikanden og eksonenten tilstrekkelig informasjon for å representere tallet."
   ]
  },
  {
   "cell_type": "markdown",
   "metadata": {},
   "source": [
    "I tallet $3.125$ kalles tallet $3$ for **mest signifikante siffer**. Tallet $5$ kalles **minst signifikante siffer**.\n",
    "\n",
    "Husk at et tall $a$ er skrevet på standarform dersom $a$ kan skrives på formen\n",
    "\n",
    "$$ k\\cdot10^n, $$\n",
    "der $1\\leq k < 10$ og $n\\in \\mathbb{Z}$."
   ]
  },
  {
   "cell_type": "markdown",
   "metadata": {},
   "source": [
    "## Flyttall (*orienteringsstoff*)\n",
    "### \"Standardform\" med binære tall"
   ]
  },
  {
   "cell_type": "markdown",
   "metadata": {},
   "source": [
    "La $a = 1101.011_2, b = 0.0001101,$ og $c = -101.0011$  være et binære tall. Vi kan \n",
    "omskrive $a, b$ og $c$ som"
   ]
  },
  {
   "cell_type": "markdown",
   "metadata": {},
   "source": [
    "\\begin{align*}\n",
    "a & = 1.101011_2\\cdot2^{3}, \\\\[1.05em]\n",
    "b & = 1.101_2\\cdot2^{-4}, \\\\[1.05em]\n",
    "c & = -1.01011_2\\cdot2^{2}.\n",
    "\\end{align*}\n",
    "\n",
    "Merk at signifikanden *alltid* har $1$ som mest signifikante siffer (dvs tallet til venstre for komma!). Derfor trenger\n",
    "vi ikke representere denne på datamaskinen, vi får altså én bit gratis. Vi lagrer bare tallet bak kommaet som et heltall."
   ]
  },
  {
   "cell_type": "markdown",
   "metadata": {},
   "source": [
    "Datamaskinen kan bare representere et endelig antall bits. Derfor må det gjøres noen begrensninger. Man har valgt å\n",
    "bruke 64 bits til å representere et flyttall. Av disse brukes 53 bits til å representere signifikanden, hvor det\n",
    "første sifferet representerer fortegnet. Deretter må vi ha én bit til å representere fortegnet i eksponenten, som gir\n",
    "10 bits til å representere eksponentens tallverdi."
   ]
  },
  {
   "cell_type": "markdown",
   "metadata": {},
   "source": [
    "### Fordeling av flyttall på datamaskin\n",
    "\n",
    "På bildet under ser du tettheten av flyttall.\n",
    "Siden signifikanden har 52 bits uten hensyn til fortegnet, er det altså\n",
    "$\\displaystyle \\sum_{k=0}^{52}2^k = 2^{52} - 1$ antall punkter som skal befolkes i\n",
    "et intervall $\\displaystyle\\left(2^{n - 1}, 2^{n}\\right]$. Antall\n",
    "punkter holdes konstant mens bredden på intervallene vokser. Derfor ligger flyttallene tettest inne med origo, og avstanden mellom hvert flyttall øker ettersom vi beveger oss lengre unna origo.\n",
    "![Tetthet av flyttall](./power_two_density.png)"
   ]
  },
  {
   "cell_type": "code",
   "execution_count": 53,
   "metadata": {},
   "outputs": [
    {
     "name": "stdout",
     "output_type": "stream",
     "text": [
      "True\n"
     ]
    }
   ],
   "source": [
    "# Demonstrasjon av avrundingsfeil\n",
    "a = 1E10\n",
    "b = 1E-7\n",
    "\n",
    "print(a == a + b)"
   ]
  },
  {
   "cell_type": "code",
   "execution_count": 71,
   "metadata": {},
   "outputs": [
    {
     "name": "stdout",
     "output_type": "stream",
     "text": [
      "a - b:                    0.000000000010000000000000\n",
      "beregnet a - b:           1.4551915228366852e-11\n",
      "estimat på relativ feil:  -0.4551915228366853\n",
      "False\n",
      "False\n"
     ]
    }
   ],
   "source": [
    "a = 100000.00000000000\n",
    "b =  99999.99999999999\n",
    "diff =   0.00000000001\n",
    "print('a - b:                    %.24f' % diff)\n",
    "error_estimate = diff - (a - b)\n",
    "print(\"beregnet a - b:          \", a - b)\n",
    "print(\"estimat på relativ feil: \", error_estimate/diff)\n",
    "print(a - b == 0)\n",
    "print(a == b)"
   ]
  },
  {
   "cell_type": "code",
   "execution_count": 102,
   "metadata": {},
   "outputs": [
    {
     "name": "stdout",
     "output_type": "stream",
     "text": [
      "False\n",
      "absolutt feil:  -1529.0\n",
      "relativ feil:   0.7281777777777778\n",
      "\n",
      "sjekk om x**2 + y**2 == x**2\n",
      "False\n",
      "\n",
      "sjekk om sqrt(x**2 + y**2) == x\n",
      "True\n"
     ]
    }
   ],
   "source": [
    "from pylab import sqrt\n",
    "x = 5.45E9\n",
    "y = 75\n",
    "\n",
    "a = x**2 + y**2\n",
    "a = a - x**2\n",
    "\n",
    "if not (a==y**2):\n",
    "    print(a==y**2)\n",
    "    print('absolutt feil: ', a - y**2)\n",
    "    print('relativ feil:  ', abs(a)/(y**2))\n",
    "    print()\n",
    "\n",
    "print('sjekk om x**2 + y**2 == x**2')\n",
    "print(x**2 + y**2 == x**2)\n",
    "print()\n",
    "\n",
    "print('sjekk om sqrt(x**2 + y**2) == x')\n",
    "print(sqrt(x**2 + y**2) == x)"
   ]
  },
  {
   "cell_type": "code",
   "execution_count": null,
   "metadata": {},
   "outputs": [
    {
     "name": "stdout",
     "output_type": "stream",
     "text": [
      "did 100 millions iterations\n"
     ]
    }
   ],
   "source": [
    "from pylab import sqrt\n",
    "\n",
    "dx = 0.0004\n",
    "g = 25E8\n",
    "N = int(g/dx)\n",
    "\n",
    "millions = 0\n",
    "for i in range(N):\n",
    "    if i % int(1E8) == 0 and i!=0:\n",
    "        millions += 100\n",
    "        print(f'did {millions} millions iterations')\n",
    "    g = g - dx\n",
    "print(g)"
   ]
  },
  {
   "cell_type": "markdown",
   "metadata": {},
   "source": [
    "## Kilder\n",
    "[Von neumann arkitektur](https://www.computerscience.gcse.guru/theory/von-neumann-architecture) - https://www.computerscience.gcse.guru/theory/von-neumann-architecture\n",
    "\n",
    "[RAM - howstuffworks](https://computer.howstuffworks.com/ram.htm) - https://computer.howstuffworks.com/ram.htm\n",
    "\n",
    "[Intel 64 and IA-32 Architecture Software Developer Manuals](https://software.intel.com/en-us/articles/intel-sdm) - https://software.intel.com/en-us/articles/intel-sdm\n",
    "\n",
    "[K. Mørken - *Numerical Algorithms and Digital Representation*](https://www.uio.no/studier/emner/matnat/math/MAT-INF1100/h17/kompendiet/matinf1100.pdf)\n",
    "\n",
    "[CS152 - Slideshare](https://slideplayer.com/slide/4949260/) - https://slideplayer.com/slide/4949260/\n",
    "\n",
    "D.Harris, S.Harris, *Digital Design and Computer Architecture*, 2. utgave, Elsevier."
   ]
  },
  {
   "cell_type": "code",
   "execution_count": null,
   "metadata": {},
   "outputs": [],
   "source": []
  }
 ],
 "metadata": {
  "kernelspec": {
   "display_name": "main",
   "language": "python",
   "name": "main"
  },
  "language_info": {
   "codemirror_mode": {
    "name": "ipython",
    "version": 3
   },
   "file_extension": ".py",
   "mimetype": "text/x-python",
   "name": "python",
   "nbconvert_exporter": "python",
   "pygments_lexer": "ipython3",
   "version": "3.7.3"
  }
 },
 "nbformat": 4,
 "nbformat_minor": 4
}
