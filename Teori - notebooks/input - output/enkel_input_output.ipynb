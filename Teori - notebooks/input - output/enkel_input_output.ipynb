{
 "cells": [
  {
   "cell_type": "markdown",
   "metadata": {},
   "source": [
    "# Input og output fra programmer\n",
    "\n",
    "Vi skal først se på hvordan vi kan skrive noen enkle programmer som leser inn input fra brukeren,\n",
    "gjør noe med denne inputen, og skriver noe ut igjen til brukeren.\n",
    "\n",
    "Vi starter med det aller enkleste, klassiske første programmet, nemlig et program som skriver\n",
    "\"hello, world!\" ut til brukeren når programmet kjøres."
   ]
  },
  {
   "cell_type": "markdown",
   "metadata": {},
   "source": [
    "## Hello, World!\n",
    "Dette programmet skriver ut teksten \"Hello, world!\" ut til brukeren. Prøv å forandre på teksten å se hva som skjer."
   ]
  },
  {
   "cell_type": "code",
   "execution_count": null,
   "metadata": {},
   "outputs": [],
   "source": [
    "print(\"Hello, world!\")"
   ]
  },
  {
   "cell_type": "markdown",
   "metadata": {},
   "source": [
    "### kort \"obduksjon\" av programmet\n",
    "Programmet sender inn en *streng* `\"Hello, world!\"` til *funksjonen* `print`.\n",
    "Funksjonen `print` virker som et bindeledd mellom programmet og `standard output`.\n",
    "I mer avanserte anvendelser kan det være hendig å endre på denne - men vanligvis\n",
    "er det greit å bruke `print` til å skrive tekst ut til kommandolinjen eller slik du ser her\n",
    "\n",
    "\n",
    "### Konsepter\n",
    "\n",
    "#### Datatypen streng\n",
    "Du har møtt på datatypen `str`. En streng i python kan du tenke på som tekst. Husk at for\n",
    "en datamaskin er det bare en remse med bokstaver - helt i bunnen er det en remse med bytes.\n",
    "Teksten 'Hello, world!\" er for eksempel følgende remse med bytes:\n",
    " \n",
    "\n",
    "`01001000 01100101 01101100 01101100 01101111 0101100 00100000 01110111 01101111 01110010 01101100 01100100 00100001`\n",
    "\n",
    "Som du kanskje synes, er det ikke spesielt lesbart. Derfor er det skrevet programmer som gjør dette om til tekst du kan\n",
    "lese, uten at du trenger å tenke noe på hvordan programmet fungerer. Du trenger vanligvis ikke tenke på at programmet en gang\n",
    "eksisterer. Dette kalles i informatikken for *abstraksjon*, og er et viktig konsept vi kommer tilbake til senere.\n",
    "\n",
    "#### Funksjoner\n",
    "Du har møtt din første funksjon, nemlig `print`. Funksjonen `print` tar inn en streng og skriver det ut til kommandolinjen/under cellen.\n",
    "Funksjoner generelt i python tar inn en verdi og gjør noe med eller noe som avhenger av disse verdiene.\n",
    "\n",
    "Under ser du litt kode du ikke trenger å forstå enda - den skriver ut alle tegnene (inkludert mellomrommet) i\n",
    "teksten `Hello, world!` som binære tall."
   ]
  },
  {
   "cell_type": "code",
   "execution_count": null,
   "metadata": {
    "code_folding": []
   },
   "outputs": [],
   "source": [
    "bytelist = [i for i in map(bin, bytearray('Hello, world!', 'utf8'))]\n",
    "for byte in bytelist: \n",
    "    print(byte, end=\" \")"
   ]
  },
  {
   "cell_type": "markdown",
   "metadata": {},
   "source": [
    "### Lese input fra bruker\n",
    "Vi kan bruke kommandoen `input` til å lese input fra en bruker.\n",
    "Under ser du et eksempel"
   ]
  },
  {
   "cell_type": "code",
   "execution_count": null,
   "metadata": {},
   "outputs": [],
   "source": [
    "name = input('Hva er navnet ditt? Skriv her: ')\n",
    "print(\"Hallo \" + name + \"!\" )"
   ]
  },
  {
   "cell_type": "markdown",
   "metadata": {},
   "source": [
    "### Kort obduksjon\n",
    "Programmet kaller på en funksjon `input`.\n",
    "Argumentet til `input` er strengen `Hva er navnet ditt? Skriv her: \\`. Denne strengen blir skrevet ut til kommandolinje / under cellen. Poenget med denne beskjeden er å informere brukeren om hva slags input som skal skrives inn.\n",
    "Deretter lagres det brukeren mater inn i programmet fra kommandolinjen i *variabelen* `name`.\n",
    "\n",
    "#### Variabler\n",
    "En variabel i Python kan du tenke på som navnet på en adresse i minnet til datamaskinen. Å lagre data i variabler gjør koden enklere å lese, og vi kan kombinere dataene med andre data på mange ulike måter.\n",
    "\n",
    "Legg til deg gode vaner, og start å bruke variabler allerede nå!\n",
    "\n",
    "Variabler bør helst ha gode navn som beskriver hva de inneholder. I python kan variabler inneholde mye mer enn bare strenger eller tall - de kan inneholde lister, funksjoner, egendefinerte datatyper mm. Derfor er det viktig at du lager *beskrivende* navn til variablene dine. Dersom variabelen inneholder navnet til en kunde, kan den f.eks hete `navn`, men et enda bedre navn er da `kunde_navn`.\n",
    "\n",
    "Et lite aber er når vi jobber med matematikk - da ønsker vi å velge variablene slik at koden minner mest mulig om de matematiske utrykkene.\n",
    "\n",
    "\n",
    "\n",
    "\n",
    "\n",
    "#### Minne på datamaskinen\n",
    "Det kan være lurt å tenke på minnet i datamaskinen som en lang remse med hus som hver inneholder 8 bokser. I hver av disse boksene kan vi sette enten verdien 0 eller 1. Vi kaller disse verdiene **bits**\n",
    "\n",
    "Et hus er da en **byte**, og vi kan tenke på navnet til en variabel som adressen til huset. Nå er det ikke likevel alltid helt *så* enkelt, da vi for eksempel trenger åtte bytes for å representere for eksempel et flyttall. Men så lenge disse ligger inntil og i en bestemt retning fra vår adresse, går dette helt greit!\n",
    "\n",
    "\n",
    "Faktisk blir bits i minnet til datamaskinen representert ved at en transistor styrer strøm til en kondensator. Ved å måle spenningen over kondensatoren vet man om transistoren er slått \"av eller på\", og dermed kan man lese av verdien 1 når spenningen er over 50% av en \"maksverdi\", og 0 ellers.\n",
    "Du kan lese mer her: [https://computer.howstuffworks.com/ram.htm](https://computer.howstuffworks.com/ram.htm \"https://computer.howstuffworks.com/ram.htm\")."
   ]
  },
  {
   "cell_type": "markdown",
   "metadata": {},
   "source": [
    "Hvis vi ønsker å lese inn et tall, må vi fortelle Python at det er et tall vi er ute etter"
   ]
  },
  {
   "cell_type": "code",
   "execution_count": null,
   "metadata": {
    "code_folding": [],
    "scrolled": true
   },
   "outputs": [],
   "source": [
    "name = input('Hva er navnet ditt? Skriv her: ')\n",
    "print(\"Hallo \" + name + \"!\" )\n",
    "\n",
    "height_centimeters = input('Hvor høy er du? Gi svaret i cm uten enheter.')\n",
    "\n",
    "#gjør strengen height_centimeters om til en float\n",
    "height_centimeters = float(height_centimeters)\n",
    "\n",
    "height_meters = height_centimeters/100\n",
    "\n",
    "print(\"Høyden din i meter er:  \", height_meters)"
   ]
  },
  {
   "cell_type": "markdown",
   "metadata": {},
   "source": []
  },
  {
   "cell_type": "markdown",
   "metadata": {},
   "source": [
    "## Oppgaver"
   ]
  },
  {
   "cell_type": "markdown",
   "metadata": {},
   "source": [
    "### Oppgave 1\n",
    "Spør brukeren om navnet til brukeren.\n",
    "Skriv ut en hyggelig hilsen til brukeren som inneholder brukerens navn"
   ]
  },
  {
   "cell_type": "markdown",
   "metadata": {},
   "source": [
    "### Oppgave 2\n",
    "Skriv et program som spør brukeren om etternavn, fornavn og alder.\n",
    "Alle strenger har en funksjon `lower` som kan brukes på følgendem måte:"
   ]
  },
  {
   "cell_type": "code",
   "execution_count": null,
   "metadata": {},
   "outputs": [],
   "source": [
    "etternavn = 'Marchussen'\n",
    "etternavn.lower()"
   ]
  },
  {
   "cell_type": "markdown",
   "metadata": {},
   "source": [
    "Programmet skal skrive ut etternavnet med små bokstaver"
   ]
  },
  {
   "cell_type": "code",
   "execution_count": null,
   "metadata": {},
   "outputs": [],
   "source": []
  },
  {
   "cell_type": "markdown",
   "metadata": {},
   "source": [
    "### Oppgave 3\n",
    "Skriv et program som spør brukeren om en tekst. Programmet skal skrive teksten ut igjen med store bokstaver."
   ]
  },
  {
   "cell_type": "markdown",
   "metadata": {},
   "source": [
    "### Oppgave 4\n",
    "#### a)\n",
    "    1) Forklar hva programmet under gjør \n",
    "    2) Modifiser programmet slik at verdien av variabelen LHS blir skrevet ut"
   ]
  },
  {
   "cell_type": "code",
   "execution_count": 24,
   "metadata": {},
   "outputs": [],
   "source": [
    "x = 7\n",
    "y = 13\n",
    "\n",
    "LHS = x*y + x/(y + 1)"
   ]
  },
  {
   "cell_type": "markdown",
   "metadata": {},
   "source": [
    "#### b)\n",
    "Skriv et program som tar inn to tall $x$ og $y$ fra brukeren, og regner ut en verdi for utrykket\n",
    "$xy + x + y$"
   ]
  },
  {
   "cell_type": "code",
   "execution_count": null,
   "metadata": {},
   "outputs": [],
   "source": []
  },
  {
   "cell_type": "markdown",
   "metadata": {},
   "source": [
    "### Oppgave 5\n",
    "Skriv et program som tar inn to tall $x$ og $y$ og regner ut en verdi for utrykket $$xy + \\frac{x + 2y}{3}$$"
   ]
  },
  {
   "cell_type": "code",
   "execution_count": null,
   "metadata": {},
   "outputs": [],
   "source": []
  },
  {
   "cell_type": "markdown",
   "metadata": {},
   "source": [
    "### Oppgave 6\n",
    "Noen amerikanske og engelske matlagingsprogrammer har irriterende høy bruk av temperaturskaleaen fahrenheit.\n",
    "Formelen for å gjøre om fra fahrenheit til celcius er gitt ved\n",
    "\n",
    "$$ C = (F - 32)\\cdot\\frac{5}{9} $$\n",
    "\n",
    "Skriv et program som leser inn grader fahrenheit fra brukeren, og skriver ut temperaturen i grader celcius."
   ]
  },
  {
   "cell_type": "markdown",
   "metadata": {},
   "source": []
  },
  {
   "cell_type": "markdown",
   "metadata": {},
   "source": [
    "### Oppgave 7\n",
    "I fysikken har du kanskje lært å bruke formelen\n",
    "\n",
    "$$ h(t) = h_0 + v_0t - \\frac{1}{2}gt^2 $$\n",
    "\n",
    "#### a)\n",
    "Se på koden under. Kan du fullføre den slik at det regnes ut en verdi for $h$?"
   ]
  },
  {
   "cell_type": "code",
   "execution_count": null,
   "metadata": {},
   "outputs": [],
   "source": [
    "g = 9.81   # tyngdens akselerasjon\n",
    "h_0 = 4.0  # starthøyde\n",
    "v_0 = 3.4  # vertikal start-fart\n",
    "\n",
    "h = h_0 + v_0 - 0.5*..."
   ]
  },
  {
   "cell_type": "markdown",
   "metadata": {},
   "source": [
    "#### b)\n",
    "Hvilke verdier vil variere fra kast til kast?\n",
    "Les disse verdiene inn fra brukeren, og regn ut hvor høyden.\n",
    "Skriv dette ut i en lesbar forståelig melding til brukeren.\n"
   ]
  },
  {
   "cell_type": "code",
   "execution_count": null,
   "metadata": {},
   "outputs": [],
   "source": []
  },
  {
   "cell_type": "markdown",
   "metadata": {},
   "source": [
    "#### c)\n",
    "Utvid programmet fra b) slik at det leser inn den totale farten og utgangsvinkelen på kastet.\n",
    "Bruk en parameterfremstilling til å regne ut posisjonen etter $t$ sekunder.\n",
    "\n",
    "Skriv denne posisjonen ut til brukeren\n",
    "\n",
    "Du kan bli nødt til å importere funksjoner fra pakken `pylab`"
   ]
  },
  {
   "cell_type": "code",
   "execution_count": 47,
   "metadata": {},
   "outputs": [],
   "source": [
    "from pylab import *\n",
    "# skriv resten av koden under her..."
   ]
  },
  {
   "attachments": {},
   "cell_type": "markdown",
   "metadata": {},
   "source": [
    "## Input fra kommandolinje\n",
    "Når vi lager programmer vi kjører ofte, er det vanligvis lettere å gi input fra kommandolinjen.\n",
    "Til dette kan vi bruke pakken `sys`\n",
    "Under ser du et utsnitt av et program `hello_you.py` som tar inn navnet fra en person fra kommandolinjen, og skriver\n",
    "ut en hilsen\n"
   ]
  },
  {
   "cell_type": "code",
   "execution_count": 42,
   "metadata": {},
   "outputs": [
    {
     "name": "stdout",
     "output_type": "stream",
     "text": [
      "add_args.py\n",
      "enkel_input_output.ipynb\n",
      "hello_you.py\n"
     ]
    }
   ],
   "source": [
    "!ls"
   ]
  },
  {
   "cell_type": "code",
   "execution_count": 45,
   "metadata": {
    "code_folding": []
   },
   "outputs": [
    {
     "name": "stdout",
     "output_type": "stream",
     "text": [
      "Overwriting add_args.py\n"
     ]
    }
   ],
   "source": [
    "%%writefile add_args.py\n",
    "import sys\n",
    "\n",
    "\n",
    "a = sys.argv[1] # legg første argument fra kommandolinjen inn i a\n",
    "a = float(a)    # omgjør a fra streng til desimaltall\n",
    "\n",
    "b = sys.argv[2] # Legg andre argument fra kommandolinjen inn i b\n",
    "b = float(b)\n",
    "\n",
    "print(a + b)"
   ]
  },
  {
   "cell_type": "markdown",
   "metadata": {},
   "source": [
    "Vi kan nå kjøre programmet. Enten fra notebooken som i cellen under, eller fra en terminal.\n",
    "Tilsvarende kjøring fra kommandolinjen ville vi fått med kommandoen\n",
    "`python add_args.py 1.5 2.8`"
   ]
  },
  {
   "cell_type": "code",
   "execution_count": 49,
   "metadata": {},
   "outputs": [
    {
     "name": "stdout",
     "output_type": "stream",
     "text": [
      "4.3\n"
     ]
    }
   ],
   "source": [
    "run add_args.py 1.5 2.8"
   ]
  },
  {
   "cell_type": "markdown",
   "metadata": {},
   "source": [
    "### Et veldig typisk eksempel\n",
    "Vi tar et kort eksempel på hvordan input kan leses fra kommandolinjen.\n",
    "Vi skal i de neste notebookene se på hvilke konsepter som brukes i programmet slik\n",
    "at du snart skal kunne skrive slike programmer selv"
   ]
  },
  {
   "cell_type": "code",
   "execution_count": 133,
   "metadata": {},
   "outputs": [
    {
     "name": "stdout",
     "output_type": "stream",
     "text": [
      "Overwriting plot_andregradsfunksjon.py\n"
     ]
    }
   ],
   "source": [
    "%%writefile plot_andregradsfunksjon.py\n",
    "from pylab import *\n",
    "import sys\n",
    "\n",
    "#programmet plotter grafen til en funksjon a*x**2 + b*x + c\n",
    "\n",
    "# les inn nødvendige parametere for å representere funksjonen\n",
    "a = float(sys.argv[1])\n",
    "b = float(sys.argv[2])\n",
    "c = float(sys.argv[3])\n",
    "\n",
    "# les inn nødvendige parametere for xmin og xmax for plottet.\n",
    "# verdimengden behøver vi ikke bekymre oss om for plotting\n",
    "xmin = float(sys.argv[4])\n",
    "xmax = float(sys.argv[5])\n",
    "\n",
    "\n",
    "N = round(abs(xmax - xmin)*100) # hundre punkter i et intervall med bredde 1\n",
    "\n",
    "x = linspace(xmin, xmax, N)\n",
    "y = a*x**2 + b*x + c\n",
    "\n",
    "plot(x, y)\n",
    "\n",
    "xlabel('x')\n",
    "ylabel('y')\n",
    "title(fr'${a}x^2 + {b}x + {c}$') # skriv funksjonsuttrykket i tittelen\n",
    "grid()\n",
    "\n",
    "show()\n",
    "\n"
   ]
  },
  {
   "cell_type": "code",
   "execution_count": 135,
   "metadata": {},
   "outputs": [
    {
     "data": {
      "image/png": "[encoded data removed]",
      "text/plain": [
       "<Figure size 432x288 with 1 Axes>"
      ]
     },
     "metadata": {
      "needs_background": "light"
     },
     "output_type": "display_data"
    }
   ],
   "source": [
    "run plot_andregradsfunksjon.py -2 2 5 -2 3"
   ]
  },
  {
   "cell_type": "markdown",
   "metadata": {},
   "source": [
    "Det er nå enkelt å endre på parametrene funksjonen får inn. Prøv selv!"
   ]
  },
  {
   "cell_type": "markdown",
   "metadata": {},
   "source": [
    "### Oppave 8\n",
    "Les inn noen data for loddrett kast i programmet over og plot grafen slik at du\n",
    "får høyde over bakken på y-aksen som funksjon av tiden etter kastet i sekunder på x-aksen."
   ]
  },
  {
   "cell_type": "code",
   "execution_count": 137,
   "metadata": {},
   "outputs": [
    {
     "name": "stderr",
     "output_type": "stream",
     "text": [
      "-bash: line 1: python: command not found\n"
     ]
    },
    {
     "ename": "CalledProcessError",
     "evalue": "Command 'b'python plot_andregradsfunksjon.py \\n'' returned non-zero exit status 127.",
     "output_type": "error",
     "traceback": [
      "\u001b[1;31m---------------------------------------------------------------------------\u001b[0m",
      "\u001b[1;31mCalledProcessError\u001b[0m                        Traceback (most recent call last)",
      "\u001b[1;32m<ipython-input-137-540b282b23df>\u001b[0m in \u001b[0;36m<module>\u001b[1;34m\u001b[0m\n\u001b[1;32m----> 1\u001b[1;33m \u001b[0mget_ipython\u001b[0m\u001b[1;33m(\u001b[0m\u001b[1;33m)\u001b[0m\u001b[1;33m.\u001b[0m\u001b[0mrun_cell_magic\u001b[0m\u001b[1;33m(\u001b[0m\u001b[1;34m'bash'\u001b[0m\u001b[1;33m,\u001b[0m \u001b[1;34m''\u001b[0m\u001b[1;33m,\u001b[0m \u001b[1;34m'python plot_andregradsfunksjon.py \\n'\u001b[0m\u001b[1;33m)\u001b[0m\u001b[1;33m\u001b[0m\u001b[1;33m\u001b[0m\u001b[0m\n\u001b[0m",
      "\u001b[1;32m~\\Anaconda3\\lib\\site-packages\\IPython\\core\\interactiveshell.py\u001b[0m in \u001b[0;36mrun_cell_magic\u001b[1;34m(self, magic_name, line, cell)\u001b[0m\n\u001b[0;32m   2356\u001b[0m             \u001b[1;32mwith\u001b[0m \u001b[0mself\u001b[0m\u001b[1;33m.\u001b[0m\u001b[0mbuiltin_trap\u001b[0m\u001b[1;33m:\u001b[0m\u001b[1;33m\u001b[0m\u001b[1;33m\u001b[0m\u001b[0m\n\u001b[0;32m   2357\u001b[0m                 \u001b[0margs\u001b[0m \u001b[1;33m=\u001b[0m \u001b[1;33m(\u001b[0m\u001b[0mmagic_arg_s\u001b[0m\u001b[1;33m,\u001b[0m \u001b[0mcell\u001b[0m\u001b[1;33m)\u001b[0m\u001b[1;33m\u001b[0m\u001b[1;33m\u001b[0m\u001b[0m\n\u001b[1;32m-> 2358\u001b[1;33m                 \u001b[0mresult\u001b[0m \u001b[1;33m=\u001b[0m \u001b[0mfn\u001b[0m\u001b[1;33m(\u001b[0m\u001b[1;33m*\u001b[0m\u001b[0margs\u001b[0m\u001b[1;33m,\u001b[0m \u001b[1;33m**\u001b[0m\u001b[0mkwargs\u001b[0m\u001b[1;33m)\u001b[0m\u001b[1;33m\u001b[0m\u001b[1;33m\u001b[0m\u001b[0m\n\u001b[0m\u001b[0;32m   2359\u001b[0m             \u001b[1;32mreturn\u001b[0m \u001b[0mresult\u001b[0m\u001b[1;33m\u001b[0m\u001b[1;33m\u001b[0m\u001b[0m\n\u001b[0;32m   2360\u001b[0m \u001b[1;33m\u001b[0m\u001b[0m\n",
      "\u001b[1;32m~\\Anaconda3\\lib\\site-packages\\IPython\\core\\magics\\script.py\u001b[0m in \u001b[0;36mnamed_script_magic\u001b[1;34m(line, cell)\u001b[0m\n\u001b[0;32m    140\u001b[0m             \u001b[1;32melse\u001b[0m\u001b[1;33m:\u001b[0m\u001b[1;33m\u001b[0m\u001b[1;33m\u001b[0m\u001b[0m\n\u001b[0;32m    141\u001b[0m                 \u001b[0mline\u001b[0m \u001b[1;33m=\u001b[0m \u001b[0mscript\u001b[0m\u001b[1;33m\u001b[0m\u001b[1;33m\u001b[0m\u001b[0m\n\u001b[1;32m--> 142\u001b[1;33m             \u001b[1;32mreturn\u001b[0m \u001b[0mself\u001b[0m\u001b[1;33m.\u001b[0m\u001b[0mshebang\u001b[0m\u001b[1;33m(\u001b[0m\u001b[0mline\u001b[0m\u001b[1;33m,\u001b[0m \u001b[0mcell\u001b[0m\u001b[1;33m)\u001b[0m\u001b[1;33m\u001b[0m\u001b[1;33m\u001b[0m\u001b[0m\n\u001b[0m\u001b[0;32m    143\u001b[0m \u001b[1;33m\u001b[0m\u001b[0m\n\u001b[0;32m    144\u001b[0m         \u001b[1;31m# write a basic docstring:\u001b[0m\u001b[1;33m\u001b[0m\u001b[1;33m\u001b[0m\u001b[1;33m\u001b[0m\u001b[0m\n",
      "\u001b[1;32m<C:\\Users\\eindr\\Anaconda3\\lib\\site-packages\\decorator.py:decorator-gen-111>\u001b[0m in \u001b[0;36mshebang\u001b[1;34m(self, line, cell)\u001b[0m\n",
      "\u001b[1;32m~\\Anaconda3\\lib\\site-packages\\IPython\\core\\magic.py\u001b[0m in \u001b[0;36m<lambda>\u001b[1;34m(f, *a, **k)\u001b[0m\n\u001b[0;32m    185\u001b[0m     \u001b[1;31m# but it's overkill for just that one bit of state.\u001b[0m\u001b[1;33m\u001b[0m\u001b[1;33m\u001b[0m\u001b[1;33m\u001b[0m\u001b[0m\n\u001b[0;32m    186\u001b[0m     \u001b[1;32mdef\u001b[0m \u001b[0mmagic_deco\u001b[0m\u001b[1;33m(\u001b[0m\u001b[0marg\u001b[0m\u001b[1;33m)\u001b[0m\u001b[1;33m:\u001b[0m\u001b[1;33m\u001b[0m\u001b[1;33m\u001b[0m\u001b[0m\n\u001b[1;32m--> 187\u001b[1;33m         \u001b[0mcall\u001b[0m \u001b[1;33m=\u001b[0m \u001b[1;32mlambda\u001b[0m \u001b[0mf\u001b[0m\u001b[1;33m,\u001b[0m \u001b[1;33m*\u001b[0m\u001b[0ma\u001b[0m\u001b[1;33m,\u001b[0m \u001b[1;33m**\u001b[0m\u001b[0mk\u001b[0m\u001b[1;33m:\u001b[0m \u001b[0mf\u001b[0m\u001b[1;33m(\u001b[0m\u001b[1;33m*\u001b[0m\u001b[0ma\u001b[0m\u001b[1;33m,\u001b[0m \u001b[1;33m**\u001b[0m\u001b[0mk\u001b[0m\u001b[1;33m)\u001b[0m\u001b[1;33m\u001b[0m\u001b[1;33m\u001b[0m\u001b[0m\n\u001b[0m\u001b[0;32m    188\u001b[0m \u001b[1;33m\u001b[0m\u001b[0m\n\u001b[0;32m    189\u001b[0m         \u001b[1;32mif\u001b[0m \u001b[0mcallable\u001b[0m\u001b[1;33m(\u001b[0m\u001b[0marg\u001b[0m\u001b[1;33m)\u001b[0m\u001b[1;33m:\u001b[0m\u001b[1;33m\u001b[0m\u001b[1;33m\u001b[0m\u001b[0m\n",
      "\u001b[1;32m~\\Anaconda3\\lib\\site-packages\\IPython\\core\\magics\\script.py\u001b[0m in \u001b[0;36mshebang\u001b[1;34m(self, line, cell)\u001b[0m\n\u001b[0;32m    243\u001b[0m             \u001b[0msys\u001b[0m\u001b[1;33m.\u001b[0m\u001b[0mstderr\u001b[0m\u001b[1;33m.\u001b[0m\u001b[0mflush\u001b[0m\u001b[1;33m(\u001b[0m\u001b[1;33m)\u001b[0m\u001b[1;33m\u001b[0m\u001b[1;33m\u001b[0m\u001b[0m\n\u001b[0;32m    244\u001b[0m         \u001b[1;32mif\u001b[0m \u001b[0margs\u001b[0m\u001b[1;33m.\u001b[0m\u001b[0mraise_error\u001b[0m \u001b[1;32mand\u001b[0m \u001b[0mp\u001b[0m\u001b[1;33m.\u001b[0m\u001b[0mreturncode\u001b[0m\u001b[1;33m!=\u001b[0m\u001b[1;36m0\u001b[0m\u001b[1;33m:\u001b[0m\u001b[1;33m\u001b[0m\u001b[1;33m\u001b[0m\u001b[0m\n\u001b[1;32m--> 245\u001b[1;33m             \u001b[1;32mraise\u001b[0m \u001b[0mCalledProcessError\u001b[0m\u001b[1;33m(\u001b[0m\u001b[0mp\u001b[0m\u001b[1;33m.\u001b[0m\u001b[0mreturncode\u001b[0m\u001b[1;33m,\u001b[0m \u001b[0mcell\u001b[0m\u001b[1;33m,\u001b[0m \u001b[0moutput\u001b[0m\u001b[1;33m=\u001b[0m\u001b[0mout\u001b[0m\u001b[1;33m,\u001b[0m \u001b[0mstderr\u001b[0m\u001b[1;33m=\u001b[0m\u001b[0merr\u001b[0m\u001b[1;33m)\u001b[0m\u001b[1;33m\u001b[0m\u001b[1;33m\u001b[0m\u001b[0m\n\u001b[0m\u001b[0;32m    246\u001b[0m \u001b[1;33m\u001b[0m\u001b[0m\n\u001b[0;32m    247\u001b[0m     \u001b[1;32mdef\u001b[0m \u001b[0m_run_script\u001b[0m\u001b[1;33m(\u001b[0m\u001b[0mself\u001b[0m\u001b[1;33m,\u001b[0m \u001b[0mp\u001b[0m\u001b[1;33m,\u001b[0m \u001b[0mcell\u001b[0m\u001b[1;33m,\u001b[0m \u001b[0mto_close\u001b[0m\u001b[1;33m)\u001b[0m\u001b[1;33m:\u001b[0m\u001b[1;33m\u001b[0m\u001b[1;33m\u001b[0m\u001b[0m\n",
      "\u001b[1;31mCalledProcessError\u001b[0m: Command 'b'python plot_andregradsfunksjon.py \\n'' returned non-zero exit status 127."
     ]
    }
   ],
   "source": [
    "%%bash\n",
    "%run "
   ]
  },
  {
   "cell_type": "code",
   "execution_count": null,
   "metadata": {},
   "outputs": [],
   "source": []
  }
 ],
 "metadata": {
  "kernelspec": {
   "display_name": "main",
   "language": "python",
   "name": "main"
  },
  "language_info": {
   "codemirror_mode": {
    "name": "ipython",
    "version": 3
   },
   "file_extension": ".py",
   "mimetype": "text/x-python",
   "name": "python",
   "nbconvert_exporter": "python",
   "pygments_lexer": "ipython3",
   "version": "3.7.3"
  },
  "latex_envs": {
   "LaTeX_envs_menu_present": true,
   "autoclose": false,
   "autocomplete": true,
   "bibliofile": "biblio.bib",
   "cite_by": "apalike",
   "current_citInitial": 1,
   "eqLabelWithNumbers": true,
   "eqNumInitial": 1,
   "hotkeys": {
    "equation": "Ctrl-E",
    "itemize": "Ctrl-I"
   },
   "labels_anchors": false,
   "latex_user_defs": false,
   "report_style_numbering": false,
   "user_envs_cfg": false
  }
 },
 "nbformat": 4,
 "nbformat_minor": 2
}
