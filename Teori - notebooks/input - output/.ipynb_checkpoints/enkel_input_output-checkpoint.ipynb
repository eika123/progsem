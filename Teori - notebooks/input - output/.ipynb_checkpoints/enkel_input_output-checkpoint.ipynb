{
 "cells": [
  {
   "cell_type": "markdown",
   "metadata": {},
   "source": [
    "# Input og output fra programmer\n",
    "\n",
    "Vi skal først se på hvordan vi kan skrive noen enkle programmer som leser inn input fra brukeren,\n",
    "gjør noe med denne inputen, og skriver noe ut igjen til brukeren.\n",
    "\n",
    "Vi starter med det aller enkleste, klassiske første programmet, nemlig et program som skriver\n",
    "\"hello, world!\" ut til brukeren når programmet kjøres."
   ]
  },
  {
   "cell_type": "markdown",
   "metadata": {},
   "source": [
    "## Hello, World!\n",
    "Dette programmet skriver ut teksten \"Hello, World!\" ut til brukeren. Prøv å forandre på teksten å se hva som skjer."
   ]
  },
  {
   "cell_type": "code",
   "execution_count": 11,
   "metadata": {},
   "outputs": [
    {
     "name": "stdout",
     "output_type": "stream",
     "text": [
      "Hello, world!\n"
     ]
    }
   ],
   "source": [
    "print(\"Hello, world!\")"
   ]
  },
  {
   "cell_type": "markdown",
   "metadata": {},
   "source": [
    "### kort \"obduksjon\" av programmet\n",
    "Programmet sender inn en *streng* `\"Hello, world!\"` til *funksjonen* `print`.\n",
    "Funksjonen `print` virker som et bindeledd mellom programmet og `standard output`.\n",
    "I mer avanserte anvendelser kan det være hendig å endre på denne - men vanligvis\n",
    "er det greit å bruke `print` til å skrive tekst ut til kommandolinjen eller slik du ser her\n",
    "\n",
    "\n",
    "### Konsepter\n",
    "\n",
    "#### Datatypen streng\n",
    "Du har møtt på datatypen `str`. En streng i python er kan du tenke på som tekst. Husk at for\n",
    "en datamaskin er det bare en remse med bokstaver - helt i bunnen er det en remse med bytes.\n",
    "Teksten 'Hello, world!\" er for eksempel følgende remse med bytes:\n",
    "`0b1001000 0b1100101 0b1101100 0b1101100 0b1101111 0b101100 0b100000 0b1110111 0b1101111 0b1110010 0b1101100 0b1100100 0b100001`\n",
    "Som du kanskje synes, er det ikke spesielt lesbart. Derfor er det skrevet programmer som gjør dette om til tekst du kan\n",
    "lese, uten at du trenger å tenke noe på hvordan programmet fungerer. Du trenger vanligvis ikke tenke på at programmet en gang\n",
    "eksisterer. Dette kalles i informatikken for *abstraksjon*, og er et viktig konsept vi kommer tilbake til senere.\n",
    "\n",
    "#### Funksjoner\n",
    "Du har møtt din første funksjon, nemlig `print`. Funksjonen `print` tar inn en streng og skriver det ut til kommandolinjen.\n",
    "Funksjoner generelt i python "
   ]
  },
  {
   "cell_type": "code",
   "execution_count": 8,
   "metadata": {},
   "outputs": [
    {
     "name": "stdout",
     "output_type": "stream",
     "text": [
      "0b1001000 0b1100101 0b1101100 0b1101100 0b1101111 0b101100 0b100000 0b1110111 0b1101111 0b1110010 0b1101100 0b1100100 0b100001 "
     ]
    }
   ],
   "source": [
    "for byte in [i for i in map(bin, bytearray('Hello, world!', 'utf8'))]: \n",
    "    print(byte, end=' ')"
   ]
  },
  {
   "cell_type": "markdown",
   "metadata": {},
   "source": [
    "### Lese innput fra bruker\n",
    "Vi kan bruke kommandoen `input` til å lese input fra en bruker.\n",
    "Under ser du et eksempel"
   ]
  },
  {
   "cell_type": "code",
   "execution_count": 10,
   "metadata": {},
   "outputs": [
    {
     "name": "stdout",
     "output_type": "stream",
     "text": [
      "Hva er navnet ditt? Skriv her: Eindride\n",
      "Hallo Eindride!\n"
     ]
    }
   ],
   "source": [
    "name = input('Hva er navnet ditt? Skriv her: ')\n",
    "print(\"Hallo \" + name + \"!\" )\n"
   ]
  },
  {
   "cell_type": "markdown",
   "metadata": {},
   "source": [
    "Hvis vi ønsker å lese inn et tall, må vi fortelle Python at det er et tall vi er ute etter"
   ]
  },
  {
   "cell_type": "code",
   "execution_count": null,
   "metadata": {},
   "outputs": [],
   "source": [
    "name = input('Hva er navnet ditt? Skriv her: ')\n",
    "print(\"Hallo \" + name + \"!\" )\n",
    "\n",
    "height = float(input('Hvor høy er du? Gi svaret i cm.'))\n",
    "\n",
    "heght_meters = \n",
    "\n"
   ]
  }
 ],
 "metadata": {
  "kernelspec": {
   "display_name": "main",
   "language": "python",
   "name": "main"
  },
  "language_info": {
   "codemirror_mode": {
    "name": "ipython",
    "version": 3
   },
   "file_extension": ".py",
   "mimetype": "text/x-python",
   "name": "python",
   "nbconvert_exporter": "python",
   "pygments_lexer": "ipython3",
   "version": "3.7.3"
  },
  "latex_envs": {
   "LaTeX_envs_menu_present": true,
   "autoclose": false,
   "autocomplete": true,
   "bibliofile": "biblio.bib",
   "cite_by": "apalike",
   "current_citInitial": 1,
   "eqLabelWithNumbers": true,
   "eqNumInitial": 1,
   "hotkeys": {
    "equation": "Ctrl-E",
    "itemize": "Ctrl-I"
   },
   "labels_anchors": false,
   "latex_user_defs": false,
   "report_style_numbering": false,
   "user_envs_cfg": false
  }
 },
 "nbformat": 4,
 "nbformat_minor": 2
}
