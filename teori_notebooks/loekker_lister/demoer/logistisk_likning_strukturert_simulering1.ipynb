{
 "cells": [
  {
   "cell_type": "code",
   "execution_count": 35,
   "metadata": {},
   "outputs": [],
   "source": [
    "%matplotlib inline"
   ]
  },
  {
   "cell_type": "markdown",
   "metadata": {
    "slideshow": {
     "slide_type": "slide"
    }
   },
   "source": [
    "# Anvendelser"
   ]
  },
  {
   "cell_type": "markdown",
   "metadata": {
    "slideshow": {
     "slide_type": "slide"
    }
   },
   "source": [
    "## Modellering av populasjonsvekst\n",
    "\n",
    "I et økosystem med bæreevne $R$ og malthusparameter $\\alpha$ vil en populasjonsvekst ofte kunne\n",
    "modelleres med differensiallikningen\n",
    "\n",
    "$$ u'(t) = \\alpha u(t)\\left(1 + \\frac{u(t)}{R}\\right), \\;\\;\\; u(0) = U_0 $$"
   ]
  },
  {
   "cell_type": "markdown",
   "metadata": {
    "slideshow": {
     "slide_type": "slide"
    }
   },
   "source": [
    "## Skalert versjon\n",
    "\n",
    "##### Skaleringskonstanter\n",
    "\\begin{align*}\n",
    "v & = \\frac{u}{u_c}, \\;\\;\\;\\;  \\tau = \\frac{t}{t_c}  \\;\\;\\;\\; \\text{ skaleringskonstanter } \\;u_c \\;\\text{ og }\\; t_c \\\\[1.5em]\n",
    "u_c & = R \\;\\text{ og }\\; t_c = \\alpha^{-1} \\Longleftrightarrow u = Rv \\;\\text{ og }\\; \\tau = \\alpha t \\\\[1.5em]\n",
    "\\end{align*}"
   ]
  },
  {
   "cell_type": "markdown",
   "metadata": {
    "slideshow": {
     "slide_type": "slide"
    }
   },
   "source": [
    "##### Skalert likning:\n",
    "\\begin{align*}\n",
    "\\frac{\\text{d}v}{\\text{d}{\\tau}} & = v(1 - v), \\;\\;\\;\\; v(0) = \\frac{U_0}{R} \\\\[1.5em]\n",
    "u(t) & = Rv(\\alpha t) \\;\\;\\;\\;\\; \\text{ gjenskapelse av }\\; u \\;\\text{ fra }\\; v\n",
    "\\end{align*}"
   ]
  },
  {
   "cell_type": "markdown",
   "metadata": {
    "slideshow": {
     "slide_type": "slide"
    }
   },
   "source": [
    "## Formulering av algoritme for å løse likningen\n",
    "Vi skal tilnærme en løsning til likningen \n",
    "$$ \\frac{\\text{d}\\; v}{\\text{d}\\;{\\tau}} = v(1 - v), \\;\\;\\;\\;\\;\\;\\; v(0) = \\frac{U_0}{R} $$\n",
    "\n",
    "på et diskret grid $\\left(t_0 = 0, \\Delta t, 2\\Delta t, \\dots T - \\Delta t, t_N = T\\right) \\subset [0, T]$"
   ]
  },
  {
   "cell_type": "markdown",
   "metadata": {
    "slideshow": {
     "slide_type": "slide"
    }
   },
   "source": [
    "### 1. Diskretiser definisjonsmengden.\n",
    "Vi velger ofte $\\Delta t$ og $T$ som parametere. Vi får da\n",
    "\n",
    "\\begin{align*}\n",
    "N & = \\left \\lceil \\frac{T}{\\Delta t} \\right \\rceil \\\\\n",
    "D & = (0, \\Delta t, 2\\Delta t, \\dots, T - \\Delta t, T) = (n\\Delta t)_{n = 0}^{N}\n",
    "\\end{align*}\n",
    "\n",
    "Ellers må diskretiseringen $D$ bestemmes på annen måte, og $N$ telles ut fra $D$."
   ]
  },
  {
   "cell_type": "markdown",
   "metadata": {
    "slideshow": {
     "slide_type": "slide"
    }
   },
   "source": [
    "### 2. Evaluer likningen på gridet\n",
    "\n",
    "\\begin{align*}\n",
    "\\frac{\\text{d } v(t_n)}{\\text{d } \\tau} = v(t_n)(1 - v(t_n))\n",
    "\\end{align*}"
   ]
  },
  {
   "cell_type": "markdown",
   "metadata": {
    "slideshow": {
     "slide_type": "slide"
    }
   },
   "source": [
    "### 3. Tilnærm deriverte med endelige differanser\n",
    "Bruker her forlengs differanse (Eulers metode). Merk $\\Delta t = t_{n+1} - t_n$\n",
    "\n",
    "\\begin{align*}\n",
    "\\frac{v(t_{n + 1}) - v(t_n)}{\\Delta t} \\approx v(t_n)(1 - v(t_n))\n",
    "\\end{align*}"
   ]
  },
  {
   "cell_type": "markdown",
   "metadata": {
    "slideshow": {
     "slide_type": "slide"
    }
   },
   "source": [
    "### 4. Erstatt tilnærmingen med endelige differenslikninger\n",
    "Innfør tilnærming $y_n \\approx v(t_{n+1})$\n",
    "\n",
    "\\begin{align*}\n",
    "\\frac{y_{n + 1} - y_n}{\\Delta t} & = y_n(1 - y_n) \\\\[1.4em]\n",
    "y_{n + 1} &= y_n + \\Delta t y_n(1 - y_n)\n",
    "\\end{align*}"
   ]
  },
  {
   "cell_type": "markdown",
   "metadata": {
    "slideshow": {
     "slide_type": "slide"
    }
   },
   "source": [
    "### 5. Formuler algoritme for å simulere problemet\n",
    "pseudokode:\n",
    "```\n",
    "parametere dt, T, U_0, R\n",
    "N = ceil(T/dt)\n",
    "y0 = U_0/R\n",
    "for i = 1, 2, 3, ..., N:\n",
    "    y_neste = y + dt*y(1 - y)\n",
    "    y = y_neste\n",
    "```"
   ]
  },
  {
   "cell_type": "markdown",
   "metadata": {
    "slideshow": {
     "slide_type": "slide"
    }
   },
   "source": [
    "### 6. Implementasjon"
   ]
  },
  {
   "cell_type": "code",
   "execution_count": 42,
   "metadata": {
    "slideshow": {
     "slide_type": "slide"
    }
   },
   "outputs": [
    {
     "name": "stdout",
     "output_type": "stream",
     "text": [
      "Overwriting logistic_scaled.py\n"
     ]
    }
   ],
   "source": [
    "%%writefile logistic_scaled.py\n",
    "import sys\n",
    "from pylab import *\n",
    "\n",
    "\n",
    "# les argumenter fra kommandolinja\n",
    "dt = float(sys.argv[1])\n",
    "T = float(sys.argv[2])\n",
    "U_0 = float(sys.argv[3])\n",
    "R = float(sys.argv[4])\n",
    "\n",
    "\n",
    "N = int(ceil(T/dt))\n",
    "t = linspace(0, T, N + 1)\n",
    "\n",
    "y = U_0/R         # definer y0\n",
    "y_verdier = [y]\n",
    "for i in range(1, N + 1):\n",
    "    y_neste = y + dt*y*(1 - y)\n",
    "    y = y_neste\n",
    "    y_verdier.append(y)\n",
    "\n",
    "y_verdier = array(y_verdier)\n",
    "\n",
    "plot(t, y_verdier)\n",
    "fig = gcf()\n",
    "fig.set_size_inches(8,5)\n",
    "xlabel(r'$\\tau$', fontsize=20)\n",
    "ylabel(r'$v$', fontsize=20)\n",
    "xticks(fontsize=16)\n",
    "yticks(fontsize=16)\n",
    "title('Logistisk vekst', fontsize=26)\n",
    "grid()\n",
    "show()\n",
    "\n"
   ]
  },
  {
   "cell_type": "code",
   "execution_count": 43,
   "metadata": {
    "slideshow": {
     "slide_type": "slide"
    }
   },
   "outputs": [
    {
     "data": {
      "image/png": "[encoded data removed]",
      "text/plain": [
       "<Figure size 576x360 with 1 Axes>"
      ]
     },
     "metadata": {
      "needs_background": "light"
     },
     "output_type": "display_data"
    }
   ],
   "source": [
    "run logistic_scaled.py 0.01 8 1 10"
   ]
  },
  {
   "cell_type": "markdown",
   "metadata": {
    "slideshow": {
     "slide_type": "slide"
    }
   },
   "source": [
    "## Læringsverdi?\n",
    "* Oppdateringssteget `y_neste = y + dt*y*(1 - y)` gir ofte tilgang til veldig god forståelse av hvordan prosessen utvikler seg - som man ikke nødvendigvis får av å løse likningen for hånd.\n",
    "\n",
    "* I dette tilfellet kunne vi finne en eksplisitt formel for oppdateringssteget. Det er ikke alltid mulig, man må noen ganger bruke f.eks newtons metode eller halveringsmetoden.\n",
    "\n",
    "Problemet er \"**enkelt**\": Det finnes en formel for løsningen."
   ]
  },
  {
   "cell_type": "markdown",
   "metadata": {
    "slideshow": {
     "slide_type": "slide"
    }
   },
   "source": [
    "## Didaktisk:\n",
    "Løsningssteget `y_neste = y + dt*y*(1 - y)` er kanskje en så opplagt kandidat for logistisk vekst at algoritmen kan innføres før elevene har hatt om differensiallikninger?"
   ]
  },
  {
   "cell_type": "markdown",
   "metadata": {
    "slideshow": {
     "slide_type": "slide"
    }
   },
   "source": [
    "## Utvidelser\n",
    "* Innføre tidsavhengig bæreevne $R$ (sesonger)\n",
    "* Innføre rovdyr (system av differensiallikninger: predator-prey)\n",
    "* Innføre overbeiting ($R$ blir mindre når $u > R$ over tid)\n",
    "\n",
    "Felles for utvidelsene er at de er kompliserte eller umulige å løse med penn og papir."
   ]
  },
  {
   "cell_type": "markdown",
   "metadata": {
    "slideshow": {
     "slide_type": "slide"
    }
   },
   "source": [
    "## Kilder\n",
    "* [1] Langtangen, H.P - *A primer on Scientific programming with Python*, 5. utg., Springer\n",
    "* [2] Wolfram Alpha - *MathWorld - Logistic Equation*"
   ]
  }
 ],
 "metadata": {
  "kernelspec": {
   "display_name": "Python 3",
   "language": "python",
   "name": "python3"
  },
  "language_info": {
   "codemirror_mode": {
    "name": "ipython",
    "version": 3
   },
   "file_extension": ".py",
   "mimetype": "text/x-python",
   "name": "python",
   "nbconvert_exporter": "python",
   "pygments_lexer": "ipython3",
   "version": "3.6.7"
  }
 },
 "nbformat": 4,
 "nbformat_minor": 4
}
