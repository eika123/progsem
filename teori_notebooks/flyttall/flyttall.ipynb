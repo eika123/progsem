{
 "cells": [
  {
   "cell_type": "markdown",
   "metadata": {},
   "source": [
    "# Representasjon av tall på datamaskin"
   ]
  },
  {
   "cell_type": "markdown",
   "metadata": {},
   "source": [
    "På en datamaskin kan vi kun lagre et endelig antall siffer.\n",
    "Av fysiske årsaker er det både enklest og mest sikkert å bygge \n",
    "datamaskiner slik at informasjon representeres med tallene $0$ og $1$. Desverre\n",
    "er dette krevende for mennesker å lese. Denne interessekonflikten løses\n",
    "i informatikken ved konseptet abstraksjon - programmer skrevet på\n",
    "et nivå, tar kun hensyn til *hva* programmer på nivået under gjør, ikke *hvordan* de gjør det.\n",
    "Et godt eksempel er når du leverer en bil til et verksted. Så lenge jobben blir gjort er du fornøyd, uten å tenke veldig mye på hvordan arbeidet ble utført."
   ]
  },
  {
   "cell_type": "markdown",
   "metadata": {},
   "source": [
    "<figure>\n",
    "    <a href=https://slideplayer.com/slide/4949260/  rel='noopener noreferrer' target='_blank'><img src='./abstraction_layers.png' alt='abstraction layers' width='500'></a>\n",
    "    <figcaption> Abstraksjonsnivå på datamaskinen. Fra https://slideplayer.com/slide/4949260/</figcaption>\n",
    "</figure>"
   ]
  },
  {
   "cell_type": "markdown",
   "metadata": {},
   "source": [
    "Som bruker er du gjerne vant til å forholde deg til hvordan det øverste laget i figuren brukes. Vi skal holde oss mye til laget med algoritmer og prorgammeringsspråk. I noen tilfeller trenger vi å kommunisere med operativsystemet. Dette gjøres vanligvis via enten applikasjoner som utforskeren i windows, eller en kommandolinje eller terminal. I et pythonprogram kan du bruke `os`-modulen som du i et python-program importerer med kommandoen `import os`.\n",
    "\n",
    "For flyttall får likevel implementasjonen noen konsekvenser for hvordan de fungerer som det er greit å være klar over.\n",
    "Vi skal derfor se litt på hvordan tall blir representert på datamaskinen - dette er rent orienteringsstoff. Vi skal deretter se på hva denne representasjonen fører til, og se på noen eksempler på programmer der ting går galt."
   ]
  },
  {
   "cell_type": "markdown",
   "metadata": {},
   "source": [
    "## Representasjon av flyttall\n",
    "\n",
    "\n",
    "\n",
    "\n",
    "\n",
    "\n",
    "\n",
    "\n",
    "\n",
    "\n",
    "\n",
    "\n"
   ]
  },
  {
   "cell_type": "markdown",
   "metadata": {},
   "source": [
    "### Standardform med desimaltall\n",
    "Vi kan skrive tall i titallsystemet på standarform, f.eks\n",
    "\n",
    "$$ \\underbrace{3.125}_{\\text{signifikand}}\\cdot10^5. $$\n",
    "\n",
    "Tallet foran tierpotensen beskriver nøyaktighet med antall signifikante siffer. Det\n",
    "har derfor fått navnet **signifikand**. Sammen med tierpotensen bestemmer den verdien på tallet. Siden grunntallet 10 er fast\n",
    "i alle tall på standarform, er signifikanden og eksponenten tilstrekkelig informasjon for å representere tallet."
   ]
  },
  {
   "cell_type": "markdown",
   "metadata": {},
   "source": [
    "I tallet $3.125$ kalles tallet $3$ for **mest signifikante siffer**. Tallet $5$ kalles **minst signifikante siffer**.\n",
    "\n",
    "Husk at et tall $a$ er skrevet på standarform dersom $a$ kan skrives på formen\n",
    "\n",
    "$$ k\\cdot10^n, $$\n",
    "der $1\\leq k < 10$ og $n\\in \\mathbb{Z}$."
   ]
  },
  {
   "cell_type": "markdown",
   "metadata": {},
   "source": [
    "## Flyttall (*orienteringsstoff*)\n",
    "### \"Standardform\" med binære tall"
   ]
  },
  {
   "cell_type": "markdown",
   "metadata": {},
   "source": [
    "La $a = 1101.011_2, b = 0.0001101,$ og $c = -101.0011$  være et binære tall. Vi kan \n",
    "omskrive $a, b$ og $c$ som"
   ]
  },
  {
   "cell_type": "markdown",
   "metadata": {},
   "source": [
    "\\begin{align*}\n",
    "a & = 1.101011_2\\cdot2^{3}, \\\\[1.05em]\n",
    "b & = 1.101_2\\cdot2^{-4}, \\\\[1.05em]\n",
    "c & = -1.01011_2\\cdot2^{2}.\n",
    "\\end{align*}\n",
    "\n",
    "Merk at signifikanden *alltid* har $1$ som mest signifikante siffer (dvs tallet til venstre for komma!). Derfor trenger\n",
    "vi ikke representere denne på datamaskinen. Vi lagrer kun sifrene bak kommaet."
   ]
  },
  {
   "cell_type": "markdown",
   "metadata": {},
   "source": [
    "Datamaskinen kan bare representere et endelig antall bits. Derfor må det gjøres noen begrensninger. Man har valgt å\n",
    "bruke 64 bits til å representere et flyttall. Av disse brukes 53 bits til å representere desimaldelen av signifikanden, hvor det\n",
    "første sifferet representerer fortegnet. Deretter må vi ha én bit til å representere fortegnet i eksponenten, som gir\n",
    "10 bits til å representere eksponentens tallverdi."
   ]
  },
  {
   "cell_type": "markdown",
   "metadata": {},
   "source": [
    "### Fordeling av flyttall på datamaskin\n",
    "\n",
    "På bildet under ser du tettheten av flyttall.\n",
    "Siden signifikanden har 52 bits uten hensyn til fortegnet, er det altså\n",
    "$\\displaystyle \\sum_{k=0}^{52}2^k = 2^{52} - 1$ antall punkter som skal fordeles jevnt i\n",
    "et intervall $\\displaystyle\\left[2^{n},\\; 2^{n+1}\\right)$. Antall\n",
    "punkter holdes konstant mens bredden på intervallene vokser. Derfor ligger flyttallene tettest inne med origo, og avstanden mellom hvert flyttall øker ettersom vi beveger oss lengre unna origo."
   ]
  },
  {
   "cell_type": "markdown",
   "metadata": {},
   "source": [
    "<figure>\n",
    "   <img src='./power_two_density.png' alt='Powers of two - density' width='500'>\n",
    "    <figcaption> Tetthet av toerpotenser i intervallet [0, 1].</figcaption>\n",
    "</figure>"
   ]
  },
  {
   "cell_type": "code",
   "execution_count": 1,
   "metadata": {},
   "outputs": [
    {
     "name": "stdout",
     "output_type": "stream",
     "text": [
      "True\n"
     ]
    }
   ],
   "source": [
    "# Demonstrasjon av avrundingsfeil ved addisjon av et stort og et lite tall\n",
    "a = 1E10\n",
    "b = 1E-7\n",
    "\n",
    "print(a == a + b)"
   ]
  },
  {
   "cell_type": "code",
   "execution_count": 5,
   "metadata": {},
   "outputs": [
    {
     "name": "stdout",
     "output_type": "stream",
     "text": [
      "a - b:                    0.000000000001000000000000\n",
      "beregnet a - b:           0.000000000000000000000000\n",
      "estimat på relativ feil:  1.0\n",
      "True\n",
      "True\n"
     ]
    }
   ],
   "source": [
    "# implementasjon av eksempel i boken [7]\n",
    "# Demonstrerer avrundingsfeil ved subtraksjon av to svært like tall\n",
    "# liten absolutt feil, men stor relativ feil!\n",
    "a = 100000.00000000000\n",
    "b =  99999.999999999999\n",
    "diff =   0.000000000001\n",
    "print('a - b:                    %.24f' % diff)\n",
    "error_estimate = diff - (a - b)\n",
    "print(\"beregnet a - b:          \", f'{(a - b):.24f}')\n",
    "print(\"estimat på relativ feil: \", error_estimate/diff)\n",
    "print(a - b == 0)\n",
    "print(a == b)"
   ]
  },
  {
   "cell_type": "code",
   "execution_count": 46,
   "metadata": {},
   "outputs": [
    {
     "name": "stdout",
     "output_type": "stream",
     "text": [
      "beregnede nullpunkter med abc-formel\n",
      "x1: 80000000000.00037     x2: -0.0003725290298461914\n",
      "\n",
      "faktiske funksjonsverdier i nullpunktene:\n",
      "f(x1) = 1328.0           f(x2) = 197.67761230454926\n"
     ]
    },
    {
     "data": {
      "image/png": "[encoded data removed]",
      "text/plain": [
       "<Figure size 432x288 with 1 Axes>"
      ]
     },
     "metadata": {
      "needs_background": "light"
     },
     "output_type": "display_data"
    }
   ],
   "source": [
    "from pylab import *\n",
    "# Løsning av andregradslikninger der b^2 dominerer -4ac\n",
    "\n",
    "a = -1E-3\n",
    "b = 8E7\n",
    "c = 3E4\n",
    "\n",
    "D = b**2 - 4*a*c\n",
    "x1 = (-b - sqrt(D))/(2*a)\n",
    "x2 = (-b + sqrt(D))/(2*a)\n",
    "\n",
    "x = linspace(-abs(min(x1, x2)), abs(max(x1,x2)), int(1E2))\n",
    "\n",
    "def f(x):\n",
    "    return a*x**2 + b*x + c\n",
    "\n",
    "print(\"beregnede nullpunkter med abc-formel\")\n",
    "print(f\"x1: {x1}     x2: {x2}\")\n",
    "print()\n",
    "\n",
    "print(\"faktiske funksjonsverdier i nullpunktene:\")\n",
    "print(f\"f(x1) = {f(x1)}           f(x2) = {f(x2)}\")\n",
    "\n",
    "y = f(x)\n",
    "\n",
    "plot(x, y)\n",
    "grid()"
   ]
  },
  {
   "cell_type": "code",
   "execution_count": 26,
   "metadata": {},
   "outputs": [
    {
     "name": "stdout",
     "output_type": "stream",
     "text": [
      "False\n",
      "absolutt feil:  -1529.0\n",
      "relativ feil:   0.7281777777777778\n",
      "\n",
      "sjekk om x**2 + y**2 == x**2\n",
      "False\n",
      "\n",
      "sjekk om sqrt(x**2 + y**2) == x\n",
      "True\n"
     ]
    }
   ],
   "source": [
    "from pylab import sqrt\n",
    "x = 5.45E9\n",
    "y = 75\n",
    "\n",
    "a = x**2 + y**2\n",
    "a = a - x**2\n",
    "\n",
    "if not (a==y**2):\n",
    "    print(a==y**2)\n",
    "    print('absolutt feil: ', a - y**2)\n",
    "    print('relativ feil:  ', abs(a)/(y**2))\n",
    "    print()\n",
    "\n",
    "print('sjekk om x**2 + y**2 == x**2')\n",
    "print(x**2 + y**2 == x**2)\n",
    "print()\n",
    "\n",
    "print('sjekk om sqrt(x**2 + y**2) == x')\n",
    "print(sqrt(x**2 + y**2) == x)"
   ]
  },
  {
   "cell_type": "markdown",
   "metadata": {},
   "source": [
    "## Kilder\n",
    "[[1] - Von neumann arkitektur](https://www.computerscience.gcse.guru/theory/von-neumann-architecture) - https://www.computerscience.gcse.guru/theory/von-neumann-architecture\n",
    "\n",
    "[[2] - RAM - howstuffworks](https://computer.howstuffworks.com/ram.htm) - https://computer.howstuffworks.com/ram.htm\n",
    "\n",
    "[[3] - Intel 64 and IA-32 Architecture Software Developer Manuals](https://software.intel.com/en-us/articles/intel-sdm) - https://software.intel.com/en-us/articles/intel-sdm\n",
    "\n",
    "[[4] - K. Mørken - *Numerical Algorithms and Digital Representation*](https://www.uio.no/studier/emner/matnat/math/MAT-INF1100/h17/kompendiet/matinf1100.pdf)\n",
    "\n",
    "[[5] - CS152 - Slideshare](https://slideplayer.com/slide/4949260/) - https://slideplayer.com/slide/4949260/\n",
    "\n",
    "[6] - D.Harris, S.Harris, *Digital Design and Computer Architecture*, 2. utgave, Elsevier.\n",
    "\n",
    "[7] - A.C Faul, *A Concise Introduduction to Numerical Analysis*, CRC-Press."
   ]
  },
  {
   "cell_type": "code",
   "execution_count": null,
   "metadata": {},
   "outputs": [],
   "source": []
  }
 ],
 "metadata": {
  "kernelspec": {
   "display_name": "Python 3",
   "language": "python",
   "name": "python3"
  },
  "language_info": {
   "codemirror_mode": {
    "name": "ipython",
    "version": 3
   },
   "file_extension": ".py",
   "mimetype": "text/x-python",
   "name": "python",
   "nbconvert_exporter": "python",
   "pygments_lexer": "ipython3",
   "version": "3.6.7"
  }
 },
 "nbformat": 4,
 "nbformat_minor": 4
}
