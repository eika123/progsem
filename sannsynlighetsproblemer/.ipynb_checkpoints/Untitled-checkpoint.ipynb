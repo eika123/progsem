{
 "cells": [
  {
   "cell_type": "markdown",
   "metadata": {},
   "source": [
    "# Programmering med problemer i sannsynlighet\n",
    "\n",
    "\n",
    "## Litt grunnlag: programmere nPr og nCr\n",
    "I mange sannsynlighetsproblemer får vi bruk for å regne ut hvor mange mulige utvalg vi kan ta,\n",
    "om vi tar hensyn til ordning eller ikke.\n",
    "\n",
    "Hvis vi har en populasjon med $n$ medlemmer, og tar et ordnet utvalg på $r$ medlemmer, kjenner dere\n",
    "kanskje til formlene for antall mulige ordnede utvalg:\n",
    "\n",
    "\n",
    "$$\n",
    "\\begin{align}\n",
    "\\text{nPr} & = n\\cdot(n-1)\\cdot(n-2)\\cdots (n - r + 2)\\cdot (n - r + 1) \\label{pnofac} \\\\[1.5em]\n",
    "\\text{nPr} & = \\frac{n!}{(n - r)!} \\label{pfac}\n",
    "\\end{align}\n",
    "$$\n",
    "\n",
    "Dersom vi skal ta et uordnet utvalg på $r$ medlemmer fra en populasjon på $n$ medlemmer, kan hvert\n",
    "utvalg ordnes på $r!$ forskjellige måter.\n",
    "\n",
    "Med skrivemåten $\\text{nCr} = \\displaystyle{{n}\\choose{r}} $ får vi at\n",
    "$$\n",
    "\\begin{equation*}\n",
    "{ {n}\\choose{r} }\\cdot r! = \\text{nPr}, \\\\[1.5em] \n",
    "\\end{equation*}\n",
    "$$\n",
    "så\n",
    "$$\n",
    "{ {n}\\choose{r} } = \\frac{\\text{nPr}}{r!} = \\frac{n!}{r!\\cdot(n - r)!}\n",
    "$$\n",
    "\n",
    "\n",
    "\n"
   ]
  },
  {
   "cell_type": "markdown",
   "metadata": {
    "solution2": "shown",
    "solution2_first": true
   },
   "source": [
    "#### *Repetisjonsoppgave*\n",
    "Vis ved regning at utrykkene (\\ref{pnofac}) og (\\ref{pfac}) på høyre side over er like\n",
    "\n"
   ]
  },
  {
   "cell_type": "markdown",
   "metadata": {
    "solution2": "shown"
   },
   "source": [
    "Vi starter med identiteten (\\ref{pnofac}) og multipliserer den med brøken $\\frac{(n - r)!}{(n - r)!}$\n",
    "Vi får da \n",
    "\n",
    "$$\n",
    "\\begin{align}\n",
    "\\text{nPr} & = n\\cdot(n - 1)\\cdot(n - 2)\\cdots (n - r + 2)\\cdot (n - r + 1)\\cdot\\left(\\frac{(n - r)!}{(n - r)!}\\right) \\\\[2em]\n",
    "           & = \\frac{n\\cdot(n-1)\\cdots(n - r + 1)\\cdot(n - r)!}{(n - r)!} \\\\[2em]\n",
    "           & = \\frac{n!}{(n - r)!}\n",
    "\\end{align}\n",
    "$$"
   ]
  },
  {
   "cell_type": "markdown",
   "metadata": {
    "solution2": "shown",
    "solution2_first": true
   },
   "source": [
    "#### Oppgave\n",
    "Problemet med å bruke  $n!$  i en beregning er at den ofte blir svært stor. Vi kan demonstrere dette med en enkel implementasjon.\n",
    "Hvis du har programmert litt Python før, får du i oppgave å implementere en funksjon som regner ut $n!$"
   ]
  },
  {
   "cell_type": "code",
   "execution_count": 6,
   "metadata": {
    "solution2": "shown"
   },
   "outputs": [
    {
     "name": "stdout",
     "output_type": "stream",
     "text": [
      "5! =  120\n",
      "40! =  815915283247897734345611269596115894272000000000\n"
     ]
    }
   ],
   "source": [
    "def factorial(n):\n",
    "    # husk at 0! = 1\n",
    "    if n == 0:\n",
    "        return 1\n",
    "    product = 1;\n",
    "    for k in range(1, n + 1):\n",
    "        product = product*k\n",
    "    return product\n",
    "\n",
    "# test funksjonen\n",
    "a = factorial(5)\n",
    "b = factorial(40)\n",
    "\n",
    "print(\"5! = \", a)\n",
    "print(\"40! = \", b)\n"
   ]
  },
  {
   "cell_type": "markdown",
   "metadata": {},
   "source": [
    "problemet når så store tall skal brukes i beregninger, er at datamaskinen ikke kan representere dem effektivt.\n",
    "Da blir beregningene ofte trege. I noen programmeringsspråk kan så store tall ikke representeres i det hele tatt.\n",
    "\n",
    "Derfor velger vi helst å bruke identiteten (\\ref{pnofac}) i praktiske beregninger."
   ]
  },
  {
   "cell_type": "markdown",
   "metadata": {
    "solution2": "shown",
    "solution2_first": true
   },
   "source": [
    "### Oppgave: Implementer nPr\n",
    "Lag en funksjon i Python som beregner nPr"
   ]
  },
  {
   "cell_type": "code",
   "execution_count": 7,
   "metadata": {
    "solution2": "shown"
   },
   "outputs": [],
   "source": [
    "def nPr(n, r):\n",
    "    \"\"\"\n",
    "    beregner antall ordnede utvalg på størrelse r fra en populasjon på n medlemmer\n",
    "    \"\"\"\n",
    "    if r == 0:\n",
    "        return 1\n",
    "    produkt = n - r + 1 # start med minste faktor\n",
    "    for k in range(produkt + 1, n + 1):\n",
    "        produkt = produkt*k\n",
    "    return produkt\n",
    "\n",
    "# test av nPr funksjon:\n",
    "# sjekk at nPr(5, 4) = 120\n",
    "# Hvis ikke gis en feilmelding\n",
    "assert nPr(5, 4) == 120\n",
    "assert nPr(5, 5) == factorial(5)\n",
    "assert nPr(10, 10) == factorial(10)"
   ]
  },
  {
   "cell_type": "markdown",
   "metadata": {
    "solution2": "shown",
    "solution2_first": true
   },
   "source": [
    "### Oppgave: Implementer nCr\n",
    "Lag en funksjon som beregner nCr, altså antall mulige uordnede utvalg med $r$ medlemmer fra en populasjon på $n$ medlemmer"
   ]
  },
  {
   "cell_type": "code",
   "execution_count": 13,
   "metadata": {
    "solution2": "shown"
   },
   "outputs": [],
   "source": [
    "def naive_nCr(n, r):\n",
    "    npr = nPr(n, r)\n",
    "    rfac = factorial(r)\n",
    "    return npr/rfac\n",
    "\n",
    "# test noen tilfeller\n",
    "assert naive_nCr(4, 2) == 6\n",
    "assert naive_nCr(5, 3) == 10\n",
    "assert naive_nCr(10, 1) == 10\n",
    "assert naive_nCr(10, 0) == 1\n",
    "assert naive_nCr(10, 10) == 1\n",
    "assert naive_nCr(10, 9) == 10"
   ]
  },
  {
   "cell_type": "markdown",
   "metadata": {},
   "source": [
    "### Hint til en mer effektiv beregning av nCr\n",
    "Du har kanskje lagt merke til at vi kan skrive\n",
    "\n",
    "$$\n",
    "\\text{nCr} = \\frac{\\text{nPr}}{r!} = \\frac{ n\\cdot(n-1)\\cdot(n-2)\\cdots (n - r + 2)\\cdot (n - r + 1) }{r\\cdot(r - 1)\\cdot (r - 2) \\cdots 2 \\cdot 1}\n",
    "$$\n",
    "\n",
    "For eksemepl kan vi skrive\n",
    "\n",
    "$$\n",
    "\\text{15 C 4} = \\frac{15\\cdot14\\cdot13\\cdot12}{4\\cdot3\\cdot2\\cdot1}\n",
    "$$\n",
    "\n",
    "Legg merke til at det er like mange faktorer over og under brøkstreken.\n",
    "\n",
    "Bruk dette til å implementere en funksjon i Python der du beregner nCr i én for-løkke."
   ]
  },
  {
   "cell_type": "markdown",
   "metadata": {},
   "source": [
    "## Et første problem\n",
    "Kåre har guttekveld med kompisene sine. I spillelisten er det 164 sanger. Kåre elsker\n",
    "Rage Against The Machine. I spillelisten er det 9 låter fra Rage Against The Machine (RATM).\n",
    "\n",
    "I løpet av kvelden spilles det omtrent 45 sanger fra spillelisten.\n",
    "\n",
    "\n",
    "Kåre lurer på sjansene for at han får høre noen låter fra RATM\n",
    "\n",
    "\n",
    "### Løsningsskisser\n",
    "Her er det to måter å gå fram på, som bygger på hvilke antagelser vi stiller.\n",
    "\n",
    "1. Utvelgelsen skjer \"uten tilbakelegging\", dvs. at en sang *ikke kan* spilles flere ganger. Vi bruker da hypergeometrisk sannsynlighet\n",
    "\n",
    "2. Utvelgelsen skjer \"med tilbakelegging\", dvs. at en sang *kan* spilles flere ganger. Vi bruker da binomisk sannsynlighet.\n",
    "\n",
    "\n",
    "I virkeligheten spilles en sang mange liker gjerne flere ganger, men ikke på repeat flere ganger på rappen.\n",
    "Det virkelige svaret vil derfor gjerne ligge et sted i mellom sannsynlighetene vi finner ved å bruke hypergeometrisk modell\n",
    "eller binomisk modell.\n",
    "\n",
    "\n",
    "#### Løsning uten tilbakelegging\n",
    "* Spillelisten er delt opp i gruppene \"RATM\" og \"Ikke RATM\". \n",
    "* Det er $9$ sanger fra RATM og  $164 - 9 = 155$ som ikke er fra RATM.\n",
    "* La $X$ være antall låter som velges fra fra RATM. \n",
    "* Det velges da $45 - X$ låter som ikke er fra RATM.\n",
    "\n",
    "Når vi velger 45 sanger tilfeldig fra spillelisten uten tilbakelegging er sannsynligheten for\n",
    "at det velges $X$ sanger fra RATM gitt ved\n",
    "\n",
    "\n",
    "$$ P(X) = \\frac{  {{9}\\choose{X}} \\cdot {{155}\\choose{45 - X}} }{ {{164}\\choose{45}} } $$\n",
    "\n",
    "\n"
   ]
  },
  {
   "cell_type": "code",
   "execution_count": 199,
   "metadata": {},
   "outputs": [
    {
     "name": "stdout",
     "output_type": "stream",
     "text": [
      "-------------------------------------------------------------------------------------\n"
     ]
    },
    {
     "data": {
      "text/plain": [
       "<Figure size 432x288 with 0 Axes>"
      ]
     },
     "execution_count": 199,
     "metadata": {},
     "output_type": "execute_result"
    },
    {
     "data": {
      "image/png": "[encoded data removed]",
      "text/plain": [
       "<Figure size 1332x756 with 1 Axes>"
      ]
     },
     "metadata": {
      "needs_background": "light"
     },
     "output_type": "display_data"
    },
    {
     "data": {
      "image/png": "[encoded data removed]",
      "text/plain": [
       "<Figure size 1332x756 with 1 Axes>"
      ]
     },
     "metadata": {
      "needs_background": "light"
     },
     "output_type": "display_data"
    },
    {
     "data": {
      "text/plain": [
       "<Figure size 432x288 with 0 Axes>"
      ]
     },
     "metadata": {},
     "output_type": "display_data"
    }
   ],
   "source": [
    "import numpy as np\n",
    "from matplotlib import pylab\n",
    "\n",
    "#from bokeh.io import output_notebook, show\n",
    "#from bokeh.plotting import figure\n",
    "#output_notebook()\n",
    "\n",
    "assert nCr(5, 0) == 1\n",
    "assert nCr(5, 5) == 1\n",
    "assert nCr(2, 2) == 1\n",
    "assert nCr(1, 1) == 1\n",
    "\n",
    "# Define the hypergeometric probability function P(X) = H(a; b; n; r; x)\n",
    "def H(a, b, n, r, x):\n",
    "    nCr = naive_nCr\n",
    "    return nCr(a, x)*nCr(b, r - x)/nCr(n, r)\n",
    "\n",
    "\n",
    "# Beregn hypergeometrisk sannsynlighetsfordeling\n",
    "# passende sannsynlighetsmodell ved trekk med tilbakelegging\n",
    "def distH(a, b, n, r):\n",
    "    nCr = naive_nCr\n",
    "    nevner = nCr(n, r)\n",
    "    y = np.zeros(a+1)\n",
    "    \n",
    "    for k, yk in enumerate(y):\n",
    "        y[k] = nCr(a, k)*nCr(b, r - k)/nCr(n, r)\n",
    "    return y\n",
    "    \n",
    "\n",
    "\n",
    "\n",
    "# Beregn og plot hypergeometrisk fordeling\n",
    "y = distH(9, 155, 164, 45)    \n",
    "#pylab.bar(x, y, width=-1, align='edge', color='#429bf5', edgecolor='black')\n",
    "pylab.stem(y, use_line_collection=True)\n",
    "#pylab.plot(x, y)\n",
    "pylab.xlabel('antall RATM-sanger', fontsize=\"20\")\n",
    "pylab.ylabel('sannsynlighet', fontsize=\"20\")\n",
    "pylab.grid('True')\n",
    "pylab.title('Hypergeometrisk sannsynlighetsmodell', fontsize=\"30\")\n",
    "pylab.xticks([x for x, y in enumerate(y)])\n",
    "\n",
    "fig = matplotlib.pyplot.gcf()\n",
    "fig.set_size_inches(18.5, 10.5)\n",
    "pylab.figure()\n",
    "\n",
    "# Beregn binomisk sannsynlighetsfordeling\n",
    "# Passende sannsynlighetsmodell ved trekk uten tilbakelegging\n",
    "def distB(a, b, n, r):\n",
    "    \"\"\"\n",
    "    a = success\n",
    "    b = failure\n",
    "    n = total number of specimen\n",
    "    r = total numer of trials\n",
    "    \"\"\"\n",
    "    assert a == n - b\n",
    "    \n",
    "\n",
    "    \n",
    "    y = np.zeros(r + 1)\n",
    "    p = a/n\n",
    "    \n",
    "    for k, yk in enumerate(y):\n",
    "        nCk = naive_nCr(n, k)\n",
    "        \n",
    "        y[k] = nCk*p**(k)*(1 - p)**(r - k)\n",
    "    \n",
    "    return y\n",
    "\n",
    "\n",
    "yB = distB(9, 155, 164, 45)\n",
    "#pylab.bar(x, y, width=-1, align='edge', color='#429bf5', edgecolor='black')\n",
    "pylab.stem(yB, use_line_collection=True)\n",
    "pylab.xlabel('antall RATM-sanger', fontsize=\"20\")\n",
    "pylab.ylabel('sannsynlighet', fontsize=\"20\")\n",
    "pylab.grid('True')\n",
    "pylab.title('binomisk sannsynlighetsmodell', fontsize=\"30\")\n",
    "pylab.xticks([x for x, yi in enumerate(yB)])\n",
    "\n",
    "fig = matplotlib.pyplot.gcf()\n",
    "fig.set_size_inches(18.5, 10.5)\n",
    "pylab.figure()\n"
   ]
  },
  {
   "cell_type": "markdown",
   "metadata": {},
   "source": []
  },
  {
   "cell_type": "code",
   "execution_count": null,
   "metadata": {},
   "outputs": [],
   "source": []
  }
 ],
 "metadata": {
  "kernelspec": {
   "display_name": "Python 3",
   "language": "python",
   "name": "python3"
  },
  "language_info": {
   "codemirror_mode": {
    "name": "ipython",
    "version": 3
   },
   "file_extension": ".py",
   "mimetype": "text/x-python",
   "name": "python",
   "nbconvert_exporter": "python",
   "pygments_lexer": "ipython3",
   "version": "3.7.1"
  },
  "latex_envs": {
   "LaTeX_envs_menu_present": true,
   "autoclose": false,
   "autocomplete": true,
   "bibliofile": "biblio.bib",
   "cite_by": "apalike",
   "current_citInitial": 1,
   "eqLabelWithNumbers": true,
   "eqNumInitial": 1,
   "hotkeys": {
    "equation": "Ctrl-E",
    "itemize": "Ctrl-I"
   },
   "labels_anchors": false,
   "latex_user_defs": false,
   "report_style_numbering": false,
   "user_envs_cfg": false
  }
 },
 "nbformat": 4,
 "nbformat_minor": 2
}
