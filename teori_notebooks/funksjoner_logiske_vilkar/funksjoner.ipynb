{
 "cells": [
  {
   "cell_type": "markdown",
   "metadata": {
    "slideshow": {
     "slide_type": "slide"
    }
   },
   "source": [
    "# Lynkurs i funksjoner i python"
   ]
  },
  {
   "cell_type": "markdown",
   "metadata": {
    "slideshow": {
     "slide_type": "slide"
    }
   },
   "source": [
    "## Prinsippet DRY"
   ]
  },
  {
   "cell_type": "markdown",
   "metadata": {
    "slideshow": {
     "slide_type": "subslide"
    }
   },
   "source": [
    "### Don't Repeat Yourself"
   ]
  },
  {
   "cell_type": "markdown",
   "metadata": {
    "slideshow": {
     "slide_type": "subslide"
    }
   },
   "source": [
    "Et viktig prinsipp i informatikk og programmering er å ikke gjenta informasjon flere steder.\n",
    "Når du redigerer informasjon ett sted, skal du ikke behøve å redigere informasjon en rekke andre steder. I stedet skal systemene være bygget slik at forandring av informasjon ett sted automatisk fører til nødvendige endringer alle andre steder. Dette gjelder ikke bare kode, men er et bra prinsipp også når du skriver dokumenter!"
   ]
  },
  {
   "cell_type": "markdown",
   "metadata": {
    "slideshow": {
     "slide_type": "subslide"
    }
   },
   "source": [
    "For eksempel er dette dokumentet skrevet med jupyter-notebooks, som lar meg dele teksten opp i slides som jeg markerer i dokumentet, fremfor å lage helt separate slides til hvert dokument. Når jeg redigerer dokumentet, redigeres slidene automatisk!"
   ]
  },
  {
   "cell_type": "markdown",
   "metadata": {
    "slideshow": {
     "slide_type": "slide"
    }
   },
   "source": [
    "# Funksjoner"
   ]
  },
  {
   "cell_type": "markdown",
   "metadata": {
    "slideshow": {
     "slide_type": "skip"
    }
   },
   "source": [
    "Funksjoner i python lar deg repetere kode du har skrevet med et enkelt *funksjonskall*. Du har tidligere\n",
    "brukt funksjoner som `print`, `input` og `plot`. Funksjoner gjør programmene dine mer lesbare, og du slipper og repetere deg selv."
   ]
  },
  {
   "cell_type": "markdown",
   "metadata": {
    "slideshow": {
     "slide_type": "slide"
    }
   },
   "source": [
    "Funksjoner i programmering er mer generelle enn funksjoner i matematikken.\n",
    "\n",
    "Funksjoner i python *kan*, men behøver ikke:\n",
    "\n",
    "* Ta inn argumenter som påvirker hva funksjonen gjør\n",
    "* Gi output\n",
    "\n",
    "For eksempel gir ikke `print`-funksjonen noe output du kan lagre i en variabel, mens funksjonen `input` nettop gjør det. En funkson behøver ikke ta inn argumenter i det hele tatt, prøv f.eks å kjøre kommandoen `print()`. Hva skjer da?"
   ]
  },
  {
   "cell_type": "markdown",
   "metadata": {
    "slideshow": {
     "slide_type": "skip"
    }
   },
   "source": [
    "På samme måte som variable, lar funksjoner det *parametrisere* koden din. Avhengig av verdien på noen variable kan funksjonen gjøre ulike ting."
   ]
  },
  {
   "cell_type": "markdown",
   "metadata": {
    "slideshow": {
     "slide_type": "subslide"
    }
   },
   "source": [
    "### Eksempel: polynomfunksjon\n",
    "La oss implementere funksjonen\n",
    "\n",
    "$$f(x) = x^2 + 2x + 1,$$\n",
    "\n",
    "og bruke implementasjonen til å regne ut noen funksjonsverdier"
   ]
  },
  {
   "cell_type": "code",
   "execution_count": 50,
   "metadata": {
    "slideshow": {
     "slide_type": "subslide"
    }
   },
   "outputs": [
    {
     "name": "stdout",
     "output_type": "stream",
     "text": [
      "1\n",
      "0.25\n",
      "0\n",
      "0.25\n",
      "1\n",
      "2.25\n",
      "4\n"
     ]
    }
   ],
   "source": [
    "def f(x):\n",
    "    return x**2 + 2*x + 1\n",
    "\n",
    "m = f(100) # regn ut en funksjonsverdi. Lagre resultatet i variabelen m\n",
    "\n",
    "# beregn noen verdier og skriv ut til brukeren\n",
    "print( f(-2) )\n",
    "print( f(-1.5) )\n",
    "print( f(-1) )\n",
    "print( f(-0.5) )\n",
    "print( f(0) )\n",
    "print( f(0.5) )\n",
    "print( f(1) )"
   ]
  },
  {
   "cell_type": "markdown",
   "metadata": {},
   "source": [
    "#### Kort gjennomgang av funksjonen\n",
    "I linje 1 definerer vi at funksjonen skal hete `f` og ta inn ett argument `x`.\n",
    "\n",
    "I linje 2 beregner vi verdien av `x**2 + 2*x + 1` og gir dette som output\n",
    "\n",
    "I linje 3 kaller vi på funksjonen `f` med argumentet `x=100`"
   ]
  },
  {
   "cell_type": "markdown",
   "metadata": {
    "slideshow": {
     "slide_type": "subslide"
    }
   },
   "source": [
    "### Eksempel: sammensatte funksjoner\n",
    "Kåre har fått oppgitt $g$ gitt ved\n",
    "\n",
    "$$g(x) = \\log_{10}(x)\\sqrt{\\frac{\\sin(x)\\cos(x) + 1}{2}} $$\n",
    "\n",
    "Kåre må summere $g(x)$ for alle $x\\in\\{1, 2, 3, 4\\}$.\n",
    "\n",
    "Kåre bruker python og beregner summen slik"
   ]
  },
  {
   "cell_type": "code",
   "execution_count": 34,
   "metadata": {
    "slideshow": {
     "slide_type": "subslide"
    }
   },
   "outputs": [
    {
     "name": "stdout",
     "output_type": "stream",
     "text": [
      "1.0012185110640002\n"
     ]
    }
   ],
   "source": [
    "# importerer bla. log10, sqrt, sin og cos\n",
    "from pylab import *\n",
    "\n",
    "def g(x):\n",
    "    # Del utrykket opp i mer hånderlige deler\n",
    "    a = log10(x)\n",
    "    B = (cos(x)*sin(x) + 1)/2\n",
    "    \n",
    "    # Sett sammen utrykket\n",
    "    output = a*sqrt(B)\n",
    "    \n",
    "    return output\n",
    "\n",
    "s = g(1) + g(2) + g(3) + g(4)\n",
    "print(s)"
   ]
  },
  {
   "cell_type": "markdown",
   "metadata": {
    "slideshow": {
     "slide_type": "subslide"
    }
   },
   "source": [
    "### Eksempel: sannsynlighetsfordelinger\n",
    "Stine skal lage en spørreundersøkelse ved skolen sin. På skolen er det 750 elever. Hun spør tilfeldig 15 elever.\n",
    "På skolen er det 400 gutter og 350 jenter.\n",
    "\n",
    "Hva er sannsynligheten for at det er 10 eller flere gutter i utvalget?"
   ]
  },
  {
   "cell_type": "markdown",
   "metadata": {},
   "source": [
    "#### Løsning\n",
    "Stine lar $X$ være antall gutter i utvalget og setter opp følgende hypergeometriske sannsynlighetsmodell for at utvalget inneholder $k$ gutter.\n",
    "\n",
    "$$P(X) = \\frac{ {{400}\\choose{X}}\\cdot{{350}\\choose{15 - X}} }{ {{750}\\choose{15}} } $$\n",
    "\n",
    "Hun innser at hun må beregne summen $P(10) + P(11) + \\cdots + P(15)$ og blir litt deprimert fordi læreren hennes ikke har vist henne sannsynlighetskalkulator i geogebra.\n",
    "\n",
    "Men Stine har lært om funksjoner i python og innser at dette blir lettere med litt programmering:"
   ]
  },
  {
   "cell_type": "code",
   "execution_count": 64,
   "metadata": {
    "slideshow": {
     "slide_type": "subslide"
    }
   },
   "outputs": [
    {
     "name": "stdout",
     "output_type": "stream",
     "text": [
      "0.2177357835802884\n"
     ]
    }
   ],
   "source": [
    "from scipy.special import comb as ncr\n",
    "from pylab import *\n",
    "\n",
    "def P(X):\n",
    "    return ncr(400, X, exact=True)*ncr(350, 15-X, exact=True)/ncr(750, 15, exact=True)\n",
    "\n",
    "s = P(10) + P(11) + P(12) + P(13) + P(14) + P(15)\n",
    "print(s)"
   ]
  },
  {
   "cell_type": "markdown",
   "metadata": {
    "slideshow": {
     "slide_type": "slide"
    }
   },
   "source": [
    "### En liten oppsummering undeveis\n",
    "Vi har nå lært å deklarere funksjoner.\n",
    "Vi forteller python at vi lager en funksjon `funksjonsnavn` med syntaksen \n",
    "```\n",
    "def funksjonsnavn(argument):\n",
    "    # gjør noe lurt her\n",
    "```\n",
    "\n",
    "Vi har ennå ikke gjort noe som man ikke kan gjøre med vanlig CAS i geogebra, selv om det kan være enklere å\n",
    "redigere og sjekke om man har gjort feil når man kan redigere tekst i stedet for å klikke febrilsk i trange\n",
    "CAS-vinduer."
   ]
  },
  {
   "cell_type": "markdown",
   "metadata": {
    "slideshow": {
     "slide_type": "slide"
    }
   },
   "source": [
    "### Funksjoner kan være argumenter i funksjoner\n",
    "Vi skal se på situasjoner der det kan være greit å gi funksjoner som argumenter.\n",
    "\n",
    "Vi skal mer spesifikt se på bruk av noen modeller for luftmotstand"
   ]
  },
  {
   "cell_type": "markdown",
   "metadata": {
    "slideshow": {
     "slide_type": "subslide"
    }
   },
   "source": [
    "Et objekt som beveger seg med en hastighet $v$ i en gass eller væske (fluid). Det virker da en\n",
    "kraft $F_D$ på objektet gitt\n",
    "\n",
    "$$F_D = C_DA \\frac{1}{2}\\rho v^2 $$"
   ]
  },
  {
   "cell_type": "markdown",
   "metadata": {
    "slideshow": {
     "slide_type": "subslide"
    }
   },
   "source": [
    "Tallet $C_D$ kalles for dragkoeffisienten. Denne kan a priori avhenge av alle parametrene i strømningen,\n",
    "slik som hastighet, tetthet, viskositet, objektets form osv. Likevel har eksperimenter på objekter\n",
    "med samme type form kommet fram til at $C_D$ bare avhenger av Reynoldstallet $\\text{Re}$ (Malthe-Sørenssen, 2015, s.98-99)."
   ]
  },
  {
   "cell_type": "markdown",
   "metadata": {
    "slideshow": {
     "slide_type": "subslide"
    }
   },
   "source": [
    "$$\\text{Re} = \\frac{\\rho v L}{\\mu},$$\n",
    "der $\\rho$ er tettheten i fluidet, $v$ er hastigheten og $L$ er en *karakteristisk lengde*, slik som\n",
    "diameteren i en kule eller et rør. Relasjonen mellom $C_D$ og $\\text{Re}$ er likevel ekstremt komplisert og modelleres gjerne eksperimentelt."
   ]
  },
  {
   "cell_type": "markdown",
   "metadata": {
    "slideshow": {
     "slide_type": "subslide"
    }
   },
   "source": [
    "For denne oppgaven holder vi oss til en svært enkel modell:\n",
    "\n",
    "$$\n",
    "C_D = 1.0\n",
    "$$\n",
    "\n",
    "Vi skal estimere dragkreftene på en ball med radius 8 cm som beveger seg gjennom luften.\n",
    "For luft har vi følgende opplysninger om tetthet og viskositet\n",
    "\n",
    "* $\\rho = 1.225 \\text{ kg/m}^3$\n",
    "* $\\mu = 18.5\\cdot10^{-6} \\text{ Ns/m}^2$"
   ]
  },
  {
   "cell_type": "code",
   "execution_count": null,
   "metadata": {
    "slideshow": {
     "slide_type": "subslide"
    }
   },
   "outputs": [],
   "source": [
    "def reynolds_number(rho, v, L, mu):\n",
    "    return rho*v*L/mu\n",
    "\n",
    "def drag_coeficient(Re):\n",
    "    return 1.0\n",
    "\n",
    "def drag_force(drag_coeficient, A, rho, v, L):\n",
    "    Re = reynolds_number(rho, v L, mu)\n",
    "    Cd = drag_coeficient(Re)\n",
    "    return Cd\n",
    "\n",
    "# beregn drag-krefter for en ball med hastighet v = "
   ]
  },
  {
   "cell_type": "markdown",
   "metadata": {},
   "source": []
  },
  {
   "cell_type": "markdown",
   "metadata": {
    "slideshow": {
     "slide_type": "slide"
    }
   },
   "source": [
    "### Eksempel\n",
    "La oss se på en funksjon `absdiff` som tar inn to parametere tall $a\\in\\mathbb{R}$ og $b\\in\\mathbb{R}$, og gir ut differansen $\\left| |a| - |b| \\right|$ i python.\n",
    "\n",
    "Vi skal altså programmere funksjonen\n",
    "\n",
    "$$ f(x, y) = ||x| - |y|| $$"
   ]
  },
  {
   "cell_type": "code",
   "execution_count": null,
   "metadata": {},
   "outputs": [],
   "source": []
  },
  {
   "cell_type": "code",
   "execution_count": 59,
   "metadata": {
    "slideshow": {
     "slide_type": "subslide"
    }
   },
   "outputs": [
    {
     "name": "stdout",
     "output_type": "stream",
     "text": [
      "0\n",
      "1916\n"
     ]
    },
    {
     "ename": "AttributeError",
     "evalue": "module 'numpy' has no attribute 'plot_wireframe'",
     "output_type": "error",
     "traceback": [
      "\u001b[1;31m---------------------------------------------------------------------------\u001b[0m",
      "\u001b[1;31mAttributeError\u001b[0m                            Traceback (most recent call last)",
      "\u001b[1;32m<ipython-input-59-5fed549df502>\u001b[0m in \u001b[0;36m<module>\u001b[1;34m\u001b[0m\n\u001b[0;32m     26\u001b[0m \u001b[0mZ\u001b[0m \u001b[1;33m=\u001b[0m \u001b[0mabsdiff\u001b[0m\u001b[1;33m(\u001b[0m\u001b[0mX\u001b[0m\u001b[1;33m,\u001b[0m \u001b[0mY\u001b[0m\u001b[1;33m)\u001b[0m\u001b[1;33m\u001b[0m\u001b[1;33m\u001b[0m\u001b[0m\n\u001b[0;32m     27\u001b[0m \u001b[1;33m\u001b[0m\u001b[0m\n\u001b[1;32m---> 28\u001b[1;33m \u001b[0mnp\u001b[0m\u001b[1;33m.\u001b[0m\u001b[0mplot_wireframe\u001b[0m\u001b[1;33m(\u001b[0m\u001b[0mX\u001b[0m\u001b[1;33m,\u001b[0m \u001b[0mY\u001b[0m\u001b[1;33m,\u001b[0m \u001b[0mZ\u001b[0m\u001b[1;33m,\u001b[0m \u001b[0mcolor\u001b[0m\u001b[1;33m=\u001b[0m\u001b[1;34m'green'\u001b[0m\u001b[1;33m)\u001b[0m\u001b[1;33m\u001b[0m\u001b[1;33m\u001b[0m\u001b[0m\n\u001b[0m\u001b[0;32m     29\u001b[0m \u001b[1;33m\u001b[0m\u001b[0m\n",
      "\u001b[1;31mAttributeError\u001b[0m: module 'numpy' has no attribute 'plot_wireframe'"
     ]
    }
   ],
   "source": [
    "# implementer den matematiske funksjonen f(x, y) = ||x| - |y||\n",
    "def absdiff(x, y):\n",
    "    ax = abs(x)\n",
    "    ay = abs(y)\n",
    "    return abs(x - y)\n",
    "\n",
    "# gjør noen enkle tester\n",
    "assert absdiff(0, 0) == 0\n",
    "assert absdiff(1, 1) == 0\n",
    "assert absdiff(2, 2) == 0\n",
    "assert absdiff(2, 4) == 2\n",
    "assert absdiff(4, 2) == 2\n",
    "assert absdiff(1, 10) == 9\n",
    "\n",
    "\n",
    "print(absdiff(0, 0))\n",
    "print(absdiff(123, 2039))\n",
    "    "
   ]
  },
  {
   "cell_type": "code",
   "execution_count": null,
   "metadata": {},
   "outputs": [],
   "source": []
  }
 ],
 "metadata": {
  "kernelspec": {
   "display_name": "Python 3",
   "language": "python",
   "name": "python3"
  },
  "language_info": {
   "codemirror_mode": {
    "name": "ipython",
    "version": 3
   },
   "file_extension": ".py",
   "mimetype": "text/x-python",
   "name": "python",
   "nbconvert_exporter": "python",
   "pygments_lexer": "ipython3",
   "version": "3.6.7"
  }
 },
 "nbformat": 4,
 "nbformat_minor": 4
}
