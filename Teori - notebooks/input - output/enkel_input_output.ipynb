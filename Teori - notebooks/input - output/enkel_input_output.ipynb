{
 "cells": [
  {
   "cell_type": "markdown",
   "metadata": {
    "slideshow": {
     "slide_type": "slide"
    }
   },
   "source": [
    "# Input og output fra programmer"
   ]
  },
  {
   "cell_type": "markdown",
   "metadata": {
    "slideshow": {
     "slide_type": "skip"
    }
   },
   "source": [
    "Vi skal først se på hvordan vi kan skrive noen enkle programmer som leser inn input fra brukeren,\n",
    "gjør noe med denne inputen, og skriver noe ut igjen til brukeren.\n",
    "\n",
    "Vi starter med det aller enkleste, klassiske første programmet, nemlig et program som skriver\n",
    "\"hello, world!\" ut til brukeren når programmet kjøres."
   ]
  },
  {
   "cell_type": "markdown",
   "metadata": {
    "slideshow": {
     "slide_type": "slide"
    }
   },
   "source": [
    "## Hello, World!\n",
    "Dette programmet skriver ut teksten \"Hello, world!\" ut til brukeren. Prøv å forandre på teksten å se hva som skjer."
   ]
  },
  {
   "cell_type": "code",
   "execution_count": null,
   "metadata": {
    "slideshow": {
     "slide_type": "slide"
    }
   },
   "outputs": [],
   "source": [
    "print(\"Hello, world!\")"
   ]
  },
  {
   "cell_type": "markdown",
   "metadata": {
    "slideshow": {
     "slide_type": "subslide"
    }
   },
   "source": [
    "### kort \"obduksjon\" av programmet\n",
    "Programmet sender inn en *streng* `\"Hello, world!\"` til *funksjonen* `print`.\n",
    "Funksjonen `print` virker som et bindeledd mellom programmet og `standard output`.\n",
    "I mer avanserte anvendelser kan det være hendig å endre på denne - men vanligvis\n",
    "er det greit å bruke `print` til å skrive tekst ut til kommandolinjen eller slik du ser her\n",
    "\n",
    "\n",
    "\n",
    "\n",
    "\n",
    "\n"
   ]
  },
  {
   "cell_type": "markdown",
   "metadata": {
    "slideshow": {
     "slide_type": "slide"
    }
   },
   "source": [
    "### Konsepter"
   ]
  },
  {
   "cell_type": "markdown",
   "metadata": {
    "slideshow": {
     "slide_type": "fragment"
    }
   },
   "source": [
    "#### Datatypen streng\n",
    "Du har møtt på datatypen `str`. En streng i python kan du tenke på som tekst. Husk at for\n",
    "en datamaskin er det bare en remse med bokstaver - helt i bunnen er det en remse med bytes.\n",
    "Teksten 'Hello, world!\" er for eksempel følgende remse med bytes:\n",
    " \n",
    "\n",
    "`01001000 01100101 01101100 01101100 01101111 0101100 00100000 01110111 01101111 01110010 01101100 01100100 00100001`\n",
    "\n",
    "Som du kanskje synes, er det ikke spesielt lesbart. Derfor er det skrevet programmer som gjør dette om til tekst du kan\n",
    "lese, uten at du trenger å tenke noe på hvordan programmet fungerer. Du trenger vanligvis ikke tenke på at programmet en gang\n",
    "eksisterer. Dette kalles i informatikken for *abstraksjon*, og er et viktig konsept vi kommer tilbake til senere."
   ]
  },
  {
   "cell_type": "markdown",
   "metadata": {
    "slideshow": {
     "slide_type": "subslide"
    }
   },
   "source": [
    "#### Funksjoner\n",
    "Du har møtt din første funksjon, nemlig `print`. Funksjonen `print` tar inn en streng og skriver det ut til kommandolinjen/under cellen.\n",
    "Funksjoner generelt i python tar inn en verdi og gjør noe med eller noe som avhenger av disse verdiene.\n",
    "\n",
    "Under ser du litt kode du ikke trenger å forstå enda - den skriver ut alle tegnene (inkludert mellomrommet) i\n",
    "teksten `Hello, world!` som binære tall."
   ]
  },
  {
   "cell_type": "code",
   "execution_count": 2,
   "metadata": {
    "code_folding": [],
    "slideshow": {
     "slide_type": "subslide"
    }
   },
   "outputs": [
    {
     "name": "stdout",
     "output_type": "stream",
     "text": [
      "0b1001000 0b1100101 0b1101100 0b1101100 0b1101111 0b101100 0b100000 0b1110111 0b1101111 0b1110010 0b1101100 0b1100100 0b100001 "
     ]
    }
   ],
   "source": [
    "# generer bytes for tegnene i strengen 'Hello, world!' slik de samsvarer i standarden utf8\n",
    "for byte in map(bin, bytearray('Hello, world!', 'utf8')):\n",
    "    print(byte, end=\" \")"
   ]
  },
  {
   "cell_type": "markdown",
   "metadata": {
    "slideshow": {
     "slide_type": "slide"
    }
   },
   "source": [
    "### Lese input fra bruker\n",
    "Vi kan bruke kommandoen `input` til å lese input fra en bruker.\n",
    "Under ser du et eksempel"
   ]
  },
  {
   "cell_type": "code",
   "execution_count": null,
   "metadata": {
    "slideshow": {
     "slide_type": "slide"
    }
   },
   "outputs": [],
   "source": [
    "name = input('Hva er navnet ditt? Skriv her: ')\n",
    "print(\"Hallo \" + name + \"!\" )"
   ]
  },
  {
   "cell_type": "markdown",
   "metadata": {
    "slideshow": {
     "slide_type": "subslide"
    }
   },
   "source": [
    "### Kort obduksjon\n",
    "Programmet kaller på en funksjon `input`.\n",
    "Argumentet til `input` er strengen `Hva er navnet ditt? Skriv her: \\`. Denne strengen blir skrevet ut til kommandolinje / under cellen. Poenget med denne beskjeden er å informere brukeren om hva slags input som skal skrives inn.\n",
    "Deretter lagres det brukeren mater inn i programmet fra kommandolinjen i *variabelen* `name`."
   ]
  },
  {
   "cell_type": "markdown",
   "metadata": {
    "slideshow": {
     "slide_type": "slide"
    }
   },
   "source": [
    "### Flere konsepter"
   ]
  },
  {
   "cell_type": "markdown",
   "metadata": {
    "slideshow": {
     "slide_type": "subslide"
    }
   },
   "source": [
    "#### Variabler\n",
    "En variabel i Python kan du tenke på som navnet på en adresse i minnet til datamaskinen. Å lagre data i variabler gjør koden enklere å lese, og vi kan kombinere dataene med andre data på mange ulike måter.\n",
    "\n",
    "Legg til deg gode vaner, og start å bruke variabler allerede nå!"
   ]
  },
  {
   "cell_type": "markdown",
   "metadata": {
    "slideshow": {
     "slide_type": "subslide"
    }
   },
   "source": [
    "Store programmer kan være vanskelige å lese. For å gjøre programmene mer lesbare, er det viktig at du lager *beskrivende* navn til variablene dine. Dersom variabelen inneholder navnet til en kunde, kan den f.eks hete `navn`, men et enda bedre navn er da `kunde_navn`.\n",
    "\n",
    "**NB!** Et lite aber er når vi jobber med matematikk - da ønsker vi å velge variablene slik at koden minner mest mulig om de matematiske utrykkene."
   ]
  },
  {
   "cell_type": "markdown",
   "metadata": {
    "slideshow": {
     "slide_type": "subslide"
    }
   },
   "source": [
    "#### Minne på datamaskinen\n",
    "Det kan være lurt å tenke på minnet i datamaskinen som en lang remse med hus som hver inneholder 8 bokser. I hver av disse boksene kan vi sette enten verdien 0 eller 1. Vi kaller disse verdiene **bits**\n",
    "\n",
    "Et hus er da en **byte**, og vi kan tenke på navnet til en variabel som adressen til huset. Nå er det ikke likevel alltid helt *så* enkelt, da vi for eksempel trenger åtte bytes for å representere for eksempel et flyttall. Men så lenge disse ligger inntil og i en bestemt retning fra vår adresse, går dette helt greit!"
   ]
  },
  {
   "cell_type": "markdown",
   "metadata": {
    "slideshow": {
     "slide_type": "subslide"
    }
   },
   "source": [
    "Bits i minnet til datamaskinen representert ved at en transistor styrer strøm til en kondensator. Ved å måle spenningen over kondensatoren vet man om transistoren er slått \"av eller på\", og dermed kan man lese av verdien 1 når spenningen er over 50% av en \"maksverdi\", og 0 ellers.\n",
    "Du kan lese mer her: [https://computer.howstuffworks.com/ram.htm](https://computer.howstuffworks.com/ram.htm \"https://computer.howstuffworks.com/ram.htm\")."
   ]
  },
  {
   "cell_type": "markdown",
   "metadata": {
    "slideshow": {
     "slide_type": "slide"
    }
   },
   "source": [
    "### Bruk av ipython som en kalkulator\n",
    "Problem: Regn ut verdien av utrykket $$E = gv^n + \\frac{b}{|u - w| + 1},$$ \n",
    "\n",
    "for $g = 14000$, $v = 1.0275$, $n=20$ og $b=2.3\\cdot10^{4}$."
   ]
  },
  {
   "cell_type": "markdown",
   "metadata": {
    "slideshow": {
     "slide_type": "subslide"
    }
   },
   "source": [
    "Vi kan bruke python som en kalkulator. Hvis du har en åpen terminal, kan du skrive inn kommandoen `ipython`.\n",
    "I eksempelet under har vi definert tre variable `g`, `v`, `n`, og `b`. Vi gjør noen beregninger med disse og lagrer dem inn i variabelen `E`. \n",
    "\n",
    "```\n",
    "Python 3.6.7 (default, Jul  2 2019, 02:21:41) [MSC v.1900 64 bit (AMD64)]\n",
    "Type 'copyright', 'credits' or 'license' for more information\n",
    "IPython 7.8.0 -- An enhanced Interactive Python. Type '?' for help.\n",
    "\n",
    "In [1]: g = 14000\n",
    "\n",
    "In [2]: v = 1.0275\n",
    "\n",
    "In [3]: n = 20\n",
    "\n",
    "In [4]: b = 2.3E4\n",
    "\n",
    "In [5]: u = 45\n",
    "\n",
    "In [6]: w = 36\n",
    "\n",
    "In [7]: E = g*v**n + b/(abs(u - w) + 1)\n",
    "\n",
    "In [8]: E\n",
    "Out[8]: 26385.99803800328\n",
    "```"
   ]
  },
  {
   "cell_type": "markdown",
   "metadata": {
    "slideshow": {
     "slide_type": "subslide"
    }
   },
   "source": [
    "Hvis du jobber i en notebook, kan du gjøre slike interaktive beregninger i en kode-celle. Prøv deg på noen av oppgavene under"
   ]
  },
  {
   "cell_type": "markdown",
   "metadata": {},
   "source": [
    "### Oppgave 1\n",
    "I denne oppgaven undersøker vi hva funksjonen `abs` gjør.\n",
    "\n",
    "* Regn ut `abs(-1)`, `abs(-2)`, `abs(-5)`. Hva gjør funksjonen?\n",
    "\n",
    "* Skriv inn kommandoen `abs?` i en ipython-terminal og les en setning om funksjonen `abs`"
   ]
  },
  {
   "cell_type": "code",
   "execution_count": 4,
   "metadata": {},
   "outputs": [],
   "source": [
    "abs?"
   ]
  },
  {
   "cell_type": "markdown",
   "metadata": {
    "slideshow": {
     "slide_type": "subslide"
    }
   },
   "source": [
    "---------------------------\n",
    "\n",
    "### Oppgave 1\n",
    "\n",
    "#### a)\n",
    "La $G = 450000$, $V = 0.88$ og $n = 6$. Bruk ipython til å beregne verdien av $N$, som er gitt ved likningen\n",
    "\n",
    "$$N = GV^n.$$\n",
    "\n"
   ]
  },
  {
   "cell_type": "code",
   "execution_count": 3,
   "metadata": {
    "slideshow": {
     "slide_type": "skip"
    }
   },
   "outputs": [],
   "source": [
    "# Du kan skrive programmet ditt her"
   ]
  },
  {
   "cell_type": "markdown",
   "metadata": {
    "slideshow": {
     "slide_type": "skip"
    }
   },
   "source": [
    "#### b)\n",
    "Lag et eksempel på en praktisk situasjon som passer til likningen i oppgave a).\n",
    "\n",
    "---------------"
   ]
  },
  {
   "cell_type": "markdown",
   "metadata": {},
   "source": [
    "### Oppgave 2\n",
    "\n",
    "#### a)\n",
    "La $g = -9.81$, $h_0 = 40$ og $t = 4.5$.\n",
    "\n",
    "La\n",
    "\n",
    "$$ h = h_0 + \\frac{1}{2}gt^2.$$\n",
    "\n",
    "Fullfør ipython-økten under slik at den regner ut verdien av $h$\n",
    "\n",
    "```\n",
    "In [1]: g = -9.81\n",
    "\n",
    "In [2]: h_0 = 40\n",
    "\n",
    "In [3]: t = 4.5\n",
    "```\n",
    "\n",
    "#### b)\n",
    "Hvilken praktisk situasjon kan likningen i oppgave a) beskrive?"
   ]
  },
  {
   "cell_type": "markdown",
   "metadata": {},
   "source": [
    "\n",
    "Hvis vi ønsker å lese inn et tall, må vi fortelle Python at det er et tall vi er ute etter\n"
   ]
  },
  {
   "cell_type": "code",
   "execution_count": null,
   "metadata": {},
   "outputs": [],
   "source": [
    "name = input('Hva er navnet ditt? Skriv her: ')\n",
    "print(\"Hallo \" + name + \"!\" )\n",
    "\n",
    "height_centimeters = input('Hvor høy er du? Gi svaret i cm uten enheter.')\n",
    "\n",
    "#gjør strengen height_centimeters om til en float\n",
    "height_centimeters = float(height_centimeters)\n",
    "\n",
    "height_meters = height_centimeters/100\n",
    "\n",
    "print(\"Høyden din i meter er:  \", height_meters)"
   ]
  },
  {
   "cell_type": "markdown",
   "metadata": {
    "slideshow": {
     "slide_type": "skip"
    }
   },
   "source": [
    "## Oppgaver"
   ]
  },
  {
   "cell_type": "markdown",
   "metadata": {
    "slideshow": {
     "slide_type": "skip"
    }
   },
   "source": [
    "### Oppgave 1\n",
    "Spør brukeren om navnet til brukeren.\n",
    "Skriv ut en hyggelig hilsen til brukeren som inneholder brukerens navn"
   ]
  },
  {
   "cell_type": "markdown",
   "metadata": {
    "slideshow": {
     "slide_type": "skip"
    }
   },
   "source": [
    "### Oppgave 2\n",
    "Skriv et program som spør brukeren om etternavn, fornavn og alder.\n",
    "Alle strenger har en funksjon `lower` som kan brukes på følgendem måte:"
   ]
  },
  {
   "cell_type": "code",
   "execution_count": null,
   "metadata": {
    "slideshow": {
     "slide_type": "subslide"
    }
   },
   "outputs": [],
   "source": [
    "etternavn = 'Marchussen'\n",
    "etternavn.lower()"
   ]
  },
  {
   "cell_type": "markdown",
   "metadata": {
    "slideshow": {
     "slide_type": "skip"
    }
   },
   "source": [
    "Programmet skal skrive ut etternavnet med små bokstaver"
   ]
  },
  {
   "cell_type": "code",
   "execution_count": null,
   "metadata": {
    "slideshow": {
     "slide_type": "skip"
    }
   },
   "outputs": [],
   "source": []
  },
  {
   "cell_type": "markdown",
   "metadata": {
    "slideshow": {
     "slide_type": "skip"
    }
   },
   "source": [
    "### Oppgave 3\n",
    "Skriv et program som spør brukeren om en tekst. Programmet skal skrive teksten ut igjen med store bokstaver."
   ]
  },
  {
   "cell_type": "markdown",
   "metadata": {
    "slideshow": {
     "slide_type": "skip"
    }
   },
   "source": [
    "### Oppgave 4\n",
    "#### a)\n",
    "    1) Forklar hva programmet under gjør \n",
    "    2) Modifiser programmet slik at verdien av variabelen LHS blir skrevet ut"
   ]
  },
  {
   "cell_type": "code",
   "execution_count": 24,
   "metadata": {
    "slideshow": {
     "slide_type": "skip"
    }
   },
   "outputs": [],
   "source": [
    "x = 7\n",
    "y = 13\n",
    "\n",
    "LHS = x*y + x/(y + 1)"
   ]
  },
  {
   "cell_type": "markdown",
   "metadata": {
    "slideshow": {
     "slide_type": "skip"
    }
   },
   "source": [
    "#### b)\n",
    "Skriv et program som tar inn to tall $x$ og $y$ fra brukeren, og regner ut en verdi for utrykket\n",
    "$xy + x + y$"
   ]
  },
  {
   "cell_type": "code",
   "execution_count": null,
   "metadata": {
    "slideshow": {
     "slide_type": "skip"
    }
   },
   "outputs": [],
   "source": []
  },
  {
   "cell_type": "markdown",
   "metadata": {
    "slideshow": {
     "slide_type": "skip"
    }
   },
   "source": [
    "### Oppgave 5\n",
    "Skriv et program som tar inn to tall $x$ og $y$ og regner ut en verdi for utrykket $$xy + \\frac{x + 2y}{3}$$"
   ]
  },
  {
   "cell_type": "code",
   "execution_count": null,
   "metadata": {
    "slideshow": {
     "slide_type": "skip"
    }
   },
   "outputs": [],
   "source": []
  },
  {
   "cell_type": "markdown",
   "metadata": {
    "slideshow": {
     "slide_type": "skip"
    }
   },
   "source": [
    "### Oppgave 6\n",
    "Noen amerikanske og engelske matlagingsprogrammer har irriterende høy bruk av temperaturskaleaen fahrenheit.\n",
    "Formelen for å gjøre om fra fahrenheit til celcius er gitt ved\n",
    "\n",
    "$$ C = (F - 32)\\cdot\\frac{5}{9} $$\n",
    "\n",
    "Skriv et program som leser inn grader fahrenheit fra brukeren, og skriver ut temperaturen i grader celcius."
   ]
  },
  {
   "cell_type": "markdown",
   "metadata": {
    "slideshow": {
     "slide_type": "skip"
    }
   },
   "source": []
  },
  {
   "cell_type": "markdown",
   "metadata": {
    "slideshow": {
     "slide_type": "skip"
    }
   },
   "source": [
    "### Oppgave 7\n",
    "I fysikken har du kanskje lært å bruke formelen\n",
    "\n",
    "$$ h(t) = h_0 + v_0t - \\frac{1}{2}gt^2 $$\n",
    "\n",
    "#### a)\n",
    "Se på koden under. Kan du fullføre den slik at det regnes ut en verdi for $h$?"
   ]
  },
  {
   "cell_type": "code",
   "execution_count": null,
   "metadata": {
    "slideshow": {
     "slide_type": "skip"
    }
   },
   "outputs": [],
   "source": [
    "g = 9.81   # tyngdens akselerasjon\n",
    "h_0 = 4.0  # starthøyde\n",
    "v_0 = 3.4  # vertikal start-fart\n",
    "\n",
    "h = h_0 + v_0 - 0.5*..."
   ]
  },
  {
   "cell_type": "markdown",
   "metadata": {
    "slideshow": {
     "slide_type": "skip"
    }
   },
   "source": [
    "#### b)\n",
    "Hvilke verdier vil variere fra kast til kast?\n",
    "Les disse verdiene inn fra brukeren, og regn ut hvor høyden.\n",
    "Skriv dette ut i en lesbar forståelig melding til brukeren.\n"
   ]
  },
  {
   "cell_type": "code",
   "execution_count": null,
   "metadata": {
    "slideshow": {
     "slide_type": "skip"
    }
   },
   "outputs": [],
   "source": []
  },
  {
   "cell_type": "markdown",
   "metadata": {
    "slideshow": {
     "slide_type": "skip"
    }
   },
   "source": [
    "#### c)\n",
    "Utvid programmet fra b) slik at det leser inn den totale farten og utgangsvinkelen på kastet.\n",
    "Bruk en parameterfremstilling til å regne ut posisjonen etter $t$ sekunder.\n",
    "\n",
    "Skriv denne posisjonen ut til brukeren\n",
    "\n",
    "Du kan bli nødt til å importere funksjoner fra pakken `pylab`"
   ]
  },
  {
   "cell_type": "code",
   "execution_count": 47,
   "metadata": {
    "slideshow": {
     "slide_type": "skip"
    }
   },
   "outputs": [],
   "source": [
    "from pylab import *\n",
    "# skriv resten av koden under her..."
   ]
  },
  {
   "cell_type": "markdown",
   "metadata": {
    "slideshow": {
     "slide_type": "slide"
    }
   },
   "source": [
    "## Input fra kommandolinje\n",
    "Når vi lager programmer vi kjører ofte, er det vanligvis lettere å gi input fra kommandolinjen.\n",
    "Til dette kan vi bruke pakken `sys`\n",
    "Under ser du et utsnitt av et program `hello_you.py` som tar inn navnet fra en person fra kommandolinjen, og skriver\n",
    "ut en hilsen\n"
   ]
  },
  {
   "cell_type": "code",
   "execution_count": 42,
   "metadata": {
    "slideshow": {
     "slide_type": "subslide"
    }
   },
   "outputs": [
    {
     "name": "stdout",
     "output_type": "stream",
     "text": [
      "add_args.py\n",
      "enkel_input_output.ipynb\n",
      "hello_you.py\n"
     ]
    }
   ],
   "source": [
    "!ls"
   ]
  },
  {
   "cell_type": "code",
   "execution_count": 45,
   "metadata": {
    "code_folding": [],
    "slideshow": {
     "slide_type": "slide"
    }
   },
   "outputs": [
    {
     "name": "stdout",
     "output_type": "stream",
     "text": [
      "Overwriting add_args.py\n"
     ]
    }
   ],
   "source": [
    "%%writefile add_args.py\n",
    "import sys\n",
    "\n",
    "\n",
    "a = sys.argv[1] # legg første argument fra kommandolinjen inn i a\n",
    "a = float(a)    # omgjør a fra streng til desimaltall\n",
    "\n",
    "b = sys.argv[2] # Legg andre argument fra kommandolinjen inn i b\n",
    "b = float(b)\n",
    "\n",
    "print(a + b)"
   ]
  },
  {
   "cell_type": "markdown",
   "metadata": {
    "slideshow": {
     "slide_type": "subslide"
    }
   },
   "source": [
    "Vi kan nå kjøre programmet. Enten fra notebooken som i cellen under, eller fra en terminal.\n",
    "Tilsvarende kjøring fra kommandolinjen ville vi fått med kommandoen\n",
    "`python add_args.py 1.5 2.8`"
   ]
  },
  {
   "cell_type": "code",
   "execution_count": 49,
   "metadata": {
    "slideshow": {
     "slide_type": "slide"
    }
   },
   "outputs": [
    {
     "name": "stdout",
     "output_type": "stream",
     "text": [
      "4.3\n"
     ]
    }
   ],
   "source": [
    "run add_args.py 1.5 2.8"
   ]
  },
  {
   "cell_type": "markdown",
   "metadata": {
    "slideshow": {
     "slide_type": "slide"
    }
   },
   "source": [
    "### Et veldig typisk eksempel\n",
    "Vi tar et kort eksempel på hvordan input kan leses fra kommandolinjen.\n",
    "Vi skal i de neste notebookene se på hvilke konsepter som brukes i programmet slik\n",
    "at du snart skal kunne skrive slike programmer selv"
   ]
  },
  {
   "cell_type": "code",
   "execution_count": null,
   "metadata": {
    "slideshow": {
     "slide_type": "fragment"
    }
   },
   "outputs": [],
   "source": [
    "%%writefile aplot_andregradsfunksjon.py\n",
    "from pylab import *\n",
    "import sys\n",
    "\n",
    "#programmet plotter grafen til en funksjon a*x**2 + b*x + c\n",
    "\n",
    "# les inn nødvendige parametere for å representere funksjonen\n",
    "a = float(sys.argv[1])\n",
    "b = float(sys.argv[2])\n",
    "c = float(sys.argv[3])\n",
    "\n",
    "# les inn nødvendige parametere for xmin og xmax for plottet.\n",
    "# verdimengden behøver vi ikke bekymre oss om for plotting\n",
    "xmin = float(sys.argv[4])\n",
    "xmax = float(sys.argv[5])\n",
    "\n",
    "\n",
    "N = round(abs(xmax - xmin)*100) # hundre punkter i et intervall med bredde 1\n",
    "\n",
    "# Lag et intervall med flyttall fra xmin til xmax med N punkter\n",
    "x = linspace(xmin, xmax, N)\n",
    "\n",
    "# beregn en y-verdi for hvert av flyttallene generert over\n",
    "y = a*x**2 + b*x + c\n",
    "\n",
    "plot(x, y)\n",
    "\n",
    "xlabel('x')\n",
    "ylabel('y')\n",
    "title(fr'${a}x^2 + {b}x + {c}$') # skriv funksjonsuttrykket i tittelen\n",
    "grid()\n",
    "\n",
    "show()\n",
    "\n"
   ]
  },
  {
   "cell_type": "code",
   "execution_count": 135,
   "metadata": {
    "slideshow": {
     "slide_type": "slide"
    }
   },
   "outputs": [
    {
     "data": {
      "image/png": "[encoded data removed]",
      "text/plain": [
       "<Figure size 432x288 with 1 Axes>"
      ]
     },
     "metadata": {
      "needs_background": "light"
     },
     "output_type": "display_data"
    }
   ],
   "source": [
    "run aplot_andregradsfunksjon.py -2 2 5 -2 3"
   ]
  },
  {
   "cell_type": "markdown",
   "metadata": {
    "slideshow": {
     "slide_type": "skip"
    }
   },
   "source": [
    "Det er nå enkelt å endre på parametrene funksjonen får inn. Prøv selv!"
   ]
  },
  {
   "cell_type": "markdown",
   "metadata": {
    "slideshow": {
     "slide_type": "slide"
    }
   },
   "source": [
    "------------\n",
    "\n",
    "## Orienteringsstoff: Bruk av pakken argparse når mange argumenter skal leses inn\n",
    "du synes kanskje at det kan være vanskelig å holde styr på hvilke argumenter som skal leses inn\n",
    "til programmet over.\n",
    "Vi kan lette dette ved å bruke pakken `argparse`. Da kan vi kjøre programmet ved å bruke *key-value pairs*.\n",
    "\n",
    "`run plot_andregradsfunksjon.py --a 0 --b 2 --c 5 --xmin -2 --xmax 3`\n",
    "\n",
    "Det vil da være lettere for brukeren å holde styr på hvilke argumenter som er hva"
   ]
  },
  {
   "cell_type": "code",
   "execution_count": 5,
   "metadata": {
    "slideshow": {
     "slide_type": "fragment"
    }
   },
   "outputs": [
    {
     "name": "stdout",
     "output_type": "stream",
     "text": [
      "Overwriting plot_andregradsfunksjon.py\n"
     ]
    }
   ],
   "source": [
    "%%writefile plot_andregradsfunksjon.py\n",
    "\n",
    "from pylab import *\n",
    "import argparse\n",
    "\n",
    "\n",
    "parser = argparse.ArgumentParser() # lag et objekt parser som kan lese input fra kommandolinjen\n",
    "\n",
    "# definer forventede argumenter fra kommandolinjen med key-value pairs\n",
    "parser.add_argument('--a', type=float)\n",
    "parser.add_argument('--b', type=float)\n",
    "parser.add_argument('--c', type=float)\n",
    "\n",
    "parser.add_argument('--xmin', type=float)\n",
    "parser.add_argument('--xmax', type=float)\n",
    "\n",
    "# antall grid-punkter i et intervall med lengde 1\n",
    "parser.add_argument('--grid_density', type=int, default=100)\n",
    "\n",
    "# les argumentene fra kommandolinjen\n",
    "args = parser.parse_args()\n",
    "a, b, c, xmin, xmax, grid_density = args.a, args.b, args.c, args.xmin, args.xmax, grid_density\n",
    "\n",
    "N = round(abs(xmax - xmin)*grid_density) # antall punkter i gridet\n",
    "\n",
    "x = linspace(xmin, xmax, N)\n",
    "y = a*x**2 + b*x + c\n",
    "\n",
    "plot(x, y)\n",
    "\n",
    "xlabel('x')\n",
    "ylabel('y')\n",
    "title(fr'${a}x^2 + {b}x + {c}$') # skriv funksjonsuttrykket i tittelen\n",
    "grid()\n",
    "\n",
    "show()"
   ]
  },
  {
   "cell_type": "code",
   "execution_count": 12,
   "metadata": {
    "slideshow": {
     "slide_type": "slide"
    }
   },
   "outputs": [
    {
     "data": {
      "image/png": "[encoded data removed]",
      "text/plain": [
       "<Figure size 432x288 with 1 Axes>"
      ]
     },
     "metadata": {},
     "output_type": "display_data"
    }
   ],
   "source": [
    "run plot_andregradsfunksjon.py --a -0.5 --b 3 --c 2 --xmin -1.5 --xmax 7"
   ]
  },
  {
   "cell_type": "markdown",
   "metadata": {
    "slideshow": {
     "slide_type": "skip"
    }
   },
   "source": [
    "----------------"
   ]
  },
  {
   "cell_type": "markdown",
   "metadata": {
    "slideshow": {
     "slide_type": "skip"
    }
   },
   "source": [
    "### Oppgave 8\n",
    "I denne oppgaven må du modifesere programmet `aplot_andergradsfunksjon.py`. Du kan selvfølgelig velge å heller\n",
    "modifisere programmet `plot_andregradsfunksjon.py`.\n",
    "\n",
    "Vi skal starte med å stille opp en annen matematisk modell. Du har følgende scenarie:\n",
    "\n",
    "Antall bakterier i en bakteriekultur er ved morgenen klokken 8.00 målt til 12 000 bakterier.\n",
    "Klokken 10.00 er antall bakterier målt til 13 000 bakterier.\n",
    "\n",
    "#### a)\n",
    "Still opp to ulike modeller $A(t)$ og $B(t)$ for antall bakterier i bakteriekulturen.\n",
    "For hver modell skal du tegne grafen til modellen.\n",
    "\n",
    "------------\n",
    "\n",
    "Tenk gjennom følgende for hver av modellene:\n",
    "\n",
    "* Hvilken informasjon trenger du fra brukeren for å tegne grafen?\n",
    "* Hva må endres i programmet?\n",
    "\n",
    "------------\n",
    "\n",
    "#### c)\n",
    "Velg modellen fra oppgave b) du syns er mest realistisk.\n",
    "\n",
    "Gjør de nødvendige endringene i programmet slik at du kan plotte grafen til funksjonen.\n",
    "\n",
    "Lagre endringene i et nytt program `plot_bakteriepopulasjon.py`"
   ]
  },
  {
   "cell_type": "code",
   "execution_count": 15,
   "metadata": {
    "slideshow": {
     "slide_type": "skip"
    }
   },
   "outputs": [
    {
     "name": "stdout",
     "output_type": "stream",
     "text": [
      "Writing plot_bakteriepopulasjon.py\n"
     ]
    }
   ],
   "source": [
    "%%writefile plot_bakteriepopulasjon.py\n",
    "# Du kan skrive koden din her"
   ]
  },
  {
   "cell_type": "markdown",
   "metadata": {
    "slideshow": {
     "slide_type": "skip"
    }
   },
   "source": [
    "------------"
   ]
  },
  {
   "cell_type": "markdown",
   "metadata": {
    "slideshow": {
     "slide_type": "skip"
    }
   },
   "source": [
    "### Oppave 9\n",
    "Les inn noen data for loddrett kast i programmet over og plot grafen slik at du\n",
    "får høyde over bakken på y-aksen som funksjon av tiden etter kastet i sekunder på x-aksen."
   ]
  },
  {
   "cell_type": "code",
   "execution_count": null,
   "metadata": {
    "slideshow": {
     "slide_type": "skip"
    }
   },
   "outputs": [],
   "source": []
  }
 ],
 "metadata": {
  "celltoolbar": "Slideshow",
  "kernelspec": {
   "display_name": "Python 3",
   "language": "python",
   "name": "python3"
  },
  "language_info": {
   "codemirror_mode": {
    "name": "ipython",
    "version": 3
   },
   "file_extension": ".py",
   "mimetype": "text/x-python",
   "name": "python",
   "nbconvert_exporter": "python",
   "pygments_lexer": "ipython3",
   "version": "3.6.7"
  },
  "latex_envs": {
   "LaTeX_envs_menu_present": true,
   "autoclose": false,
   "autocomplete": true,
   "bibliofile": "biblio.bib",
   "cite_by": "apalike",
   "current_citInitial": 1,
   "eqLabelWithNumbers": true,
   "eqNumInitial": 1,
   "hotkeys": {
    "equation": "Ctrl-E",
    "itemize": "Ctrl-I"
   },
   "labels_anchors": false,
   "latex_user_defs": false,
   "report_style_numbering": false,
   "user_envs_cfg": false
  }
 },
 "nbformat": 4,
 "nbformat_minor": 2
}
