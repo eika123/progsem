{
 "cells": [
  {
   "cell_type": "markdown",
   "metadata": {},
   "source": [
    "\n",
    "\n",
    "* Fagfornyelsen høst 2020\n",
    "* To ting for programmering i vgs:  vurdere og lage programmer som modellerer naturfaglige fenomener\n",
    "\n",
    "* Matematikk 1T: formulere og løse problem ved hjelp av algoritmisk tenking, ulike problemløsningsstrategier, digitale verktøy og programmering\n",
    "\n",
    "* Utdanningsdirektoratet utvikler kompetansepakker for programmering: naturfag, kunst og håndverk, matematikk ...\n"
   ]
  },
  {
   "cell_type": "markdown",
   "metadata": {},
   "source": [
    "## Forskning\n",
    "\n",
    "Prøvd tidligere. Problem å forene disiplinene.\n",
    "\n",
    "* Funnet 3 artikler om programmering på videregående nivå\n",
    "\n",
    "## Utfordringer\n",
    "\n",
    "* Lærerspesifikt: kan havne i situasjoner der elevene kan mer enn læreren. (Kan være positivt også)\n",
    "\n",
    "\n",
    "## Eksamen\n"
   ]
  },
  {
   "cell_type": "markdown",
   "metadata": {},
   "source": [
    "## Plan for dagen\n",
    "\n",
    "### Delt opp i temaer fra 1T, R, og S\n",
    "* Algebra (andregradslikninger, likningssett)\n",
    "* Sannsynlighet\n",
    "* Funksjoner\n",
    "* Annet\n",
    "\n",
    "### Programmering\n",
    "* Kurs ved andre institusjoner\n",
    "* Lærerperspektivet\n",
    "\n",
    "* UiT og UiO samarbeider om kurs i programmering (undersøk!!)"
   ]
  },
  {
   "cell_type": "markdown",
   "metadata": {},
   "source": [
    "# Programmering\n"
   ]
  },
  {
   "cell_type": "markdown",
   "metadata": {},
   "source": [
    "## Løsning av likningssett\n",
    "\n",
    "\\begin{align}\n",
    "ay = bx + c \\\\[1.2 em]\n",
    "dy = ex + f\n",
    "\\end{align}\n",
    "\n",
    "Starter med et \"enklere eksempel\":\n",
    "\\begin{align}\n",
    "2y = 5x + 11 \\\\[1.2 em]\n",
    "3y = 7x + 13\n",
    "\\end{align}\n",
    "\n",
    "\n",
    "\\begin{align}\n",
    "2\\left(\\frac{7}{3}x + \\frac{13}{3}\\right) =  5x + 11 \\\\[1.2 em]\n",
    "2\\cdot 7x - 5\\cdot 3x = 11\\cdot 3 + 13\\cdot 2\n",
    "\\end{align}\n",
    "\n",
    "Når har vi at\n",
    "\n",
    "$$x = \\frac{11\\cdot3 - 13\\cdot 2}{2\\cdot 7 - 5\\cdot 3}$$\n",
    "\n",
    "$$x = \\frac{cd - fa}{ae - bd} $$"
   ]
  },
  {
   "cell_type": "code",
   "execution_count": 3,
   "metadata": {},
   "outputs": [
    {
     "data": {
      "image/png": "[encoded data removed]",
      "text/plain": [
       "<Figure size 432x288 with 1 Axes>"
      ]
     },
     "metadata": {
      "needs_background": "light"
     },
     "output_type": "display_data"
    }
   ],
   "source": [
    "from pylab import *\n",
    "\n",
    "# koeffisienter\n",
    "a = 1\n",
    "b = -1\n",
    "c = -2\n",
    "\n",
    "x = linspace(-10, 10, 1000)\n",
    "y = a*x**2 + b*x + c\n",
    "\n",
    "plot(x, y)\n",
    "show()\n"
   ]
  },
  {
   "cell_type": "markdown",
   "metadata": {},
   "source": [
    "## Oppgave: Finn største felles faktor\n",
    "\n",
    "La $a\\in \\mathbb{N}$ og $b\\in \\mathbb{N}$. Betrakt punktet $(a, b)\\in \\mathbb{N}^2$\n",
    "\n",
    "La $m = \\min\\{a, b\\}$. Trekk en normal med lengde $m$ ned på aksen nærmest punktet."
   ]
  },
  {
   "cell_type": "code",
   "execution_count": 18,
   "metadata": {},
   "outputs": [
    {
     "name": "stdout",
     "output_type": "stream",
     "text": [
      "5      , 5\n"
     ]
    }
   ],
   "source": [
    "\n",
    "a = int(10)\n",
    "b = int(5)\n",
    "\n",
    "while a != b:\n",
    "    if a > b:\n",
    "        a = a - b\n",
    "    else:\n",
    "        b = b - a\n",
    "\n",
    "print(a,\"     ,\", b)"
   ]
  },
  {
   "cell_type": "markdown",
   "metadata": {},
   "source": [
    "## Simulering av terningkast"
   ]
  },
  {
   "cell_type": "code",
   "execution_count": 21,
   "metadata": {},
   "outputs": [
    {
     "name": "stdout",
     "output_type": "stream",
     "text": [
      "Sannsynligheten for å få 6 øyne er 0.175\n"
     ]
    }
   ],
   "source": [
    "from pylab import *\n",
    "\n",
    "N = 1000 # antall kast\n",
    "G = 0  # antall gunstige\n",
    "\n",
    "for i in range(N):\n",
    "    T = randint(1, 7)\n",
    "    if T == 6:\n",
    "        G = G + 1\n",
    "\n",
    "print(\"Sannsynligheten for å få 6 øyne er\", round(G/N, 5))"
   ]
  },
  {
   "cell_type": "markdown",
   "metadata": {},
   "source": [
    "## Kast $m$ terninger\n",
    "Vi kaster $m$ terninger og sjekker sannsynligheten for at summen av øynene blir et gitt tall, f.eks $2m$"
   ]
  },
  {
   "cell_type": "code",
   "execution_count": 25,
   "metadata": {},
   "outputs": [
    {
     "name": "stdout",
     "output_type": "stream",
     "text": [
      "0.0024\n"
     ]
    }
   ],
   "source": [
    "from pylab import *\n",
    "\n",
    "N = int(1E4)\n",
    "G = 0\n",
    "m = 10 # antall terninger\n",
    "testcase = 2*m\n",
    "\n",
    "for i in range(N):\n",
    "    # kast alle terningene, legg resultatene i liste u\n",
    "    u = [randint(1,7) for i in range(m)]\n",
    "    \n",
    "    # summer alle elementene i u\n",
    "    s = sum(u)\n",
    "    \n",
    "    if s == testcase:\n",
    "        G = G + 1\n",
    "print(round(G/N, 6))"
   ]
  },
  {
   "cell_type": "markdown",
   "metadata": {},
   "source": [
    "## Monty Hall problemet"
   ]
  },
  {
   "cell_type": "markdown",
   "metadata": {},
   "source": [
    "En geit står bak én av tre dører ...\n",
    "\n",
    "\n",
    "$$\n",
    "P(G) = \\frac{1}{3}\n",
    "$$"
   ]
  },
  {
   "cell_type": "code",
   "execution_count": null,
   "metadata": {},
   "outputs": [],
   "source": []
  },
  {
   "cell_type": "code",
   "execution_count": null,
   "metadata": {},
   "outputs": [],
   "source": []
  },
  {
   "cell_type": "markdown",
   "metadata": {},
   "source": [
    "# Finne nullpunkter med numeriske metoder\n",
    "\n",
    "## Halveringsmetoden"
   ]
  },
  {
   "cell_type": "code",
   "execution_count": 2,
   "metadata": {},
   "outputs": [
    {
     "data": {
      "image/png": "[encoded data removed]",
      "text/plain": [
       "<Figure size 432x288 with 1 Axes>"
      ]
     },
     "metadata": {
      "needs_background": "light"
     },
     "output_type": "display_data"
    },
    {
     "name": "stdout",
     "output_type": "stream",
     "text": [
      "løsningene ligger mellom a og b. Se på grafen og anslå verdier for a og b\n",
      "gi en verdi for a-5\n",
      "gi en verdi for b5\n",
      "-1.414794921875 -1.4141845703125\n"
     ]
    }
   ],
   "source": [
    "from pylab import *\n",
    "\n",
    "# f(x) = x**2 - 2\n",
    "def f(x):\n",
    "    y = x**2 - 2\n",
    "    return y\n",
    "\n",
    "\n",
    "x = linspace(-20, 20, 1000)\n",
    "y = f(x)\n",
    "\n",
    "plot(x, y)\n",
    "show()\n",
    "\n",
    "print('løsningene ligger mellom a og b. Se på grafen og anslå verdier for a og b')\n",
    "a = float(input('gi en verdi for a'))\n",
    "b = float(input('gi en verdi for b'))\n",
    "\n",
    "\n",
    "x0 = a\n",
    "x1 = b\n",
    "\n",
    "\n",
    "if f(a)*f(b) < 0:\n",
    "    print(\"Warngin!\")\n",
    "    print(\"Ikke sikkert funksjonen bytter fortegn!\")\n",
    "    \n",
    "\n",
    "while abs(x0 - x1) > 0.001:\n",
    "    m = (x0 + x1)/2\n",
    "        \n",
    "    if f(a)*f(m) < 0:\n",
    "        x1 = m\n",
    "    elif f(m)*f(b) < 0:\n",
    "        x0 = m\n",
    "    else:\n",
    "        x0 = m\n",
    "    \n",
    "\n",
    "print(x0, x1)\n",
    "    \n"
   ]
  },
  {
   "cell_type": "markdown",
   "metadata": {},
   "source": []
  },
  {
   "cell_type": "code",
   "execution_count": null,
   "metadata": {},
   "outputs": [],
   "source": []
  },
  {
   "cell_type": "code",
   "execution_count": null,
   "metadata": {},
   "outputs": [],
   "source": []
  },
  {
   "cell_type": "code",
   "execution_count": null,
   "metadata": {},
   "outputs": [],
   "source": []
  },
  {
   "cell_type": "markdown",
   "metadata": {},
   "source": [
    "## Fraktaler"
   ]
  },
  {
   "cell_type": "code",
   "execution_count": 9,
   "metadata": {},
   "outputs": [
    {
     "data": {
      "image/png": "[encoded data removed]",
      "text/plain": [
       "<Figure size 432x288 with 1 Axes>"
      ]
     },
     "metadata": {
      "needs_background": "light"
     },
     "output_type": "display_data"
    }
   ],
   "source": [
    "from pylab import *\n",
    "\n",
    "x = [0, 4, 4, 0]\n",
    "y = [0, 0, 4, 4]\n",
    "\n",
    "N = 10\n",
    "\n",
    "n = randint(1, 4)\n",
    "u, v = x[n], y[n]\n",
    "alpha = 0.5\n",
    "\n",
    "scatter(u, v)\n",
    "\n",
    "for i in range(N):\n",
    "    n = randint(1, 4)\n",
    "    x1, y1 = x[n], y[n] \n",
    "    \n",
    "    # beregn punkt halveis på linja fra (x, y) til (x1, y1)\n",
    "    \n",
    "    # beregn vektor fra (x, y) til (x1, y1)\n",
    "    d1 = u - x1\n",
    "    d2 = v - y1\n",
    "    \n",
    "    u, v = (u + alpha*d1, v + alpha*d2)\n",
    "    scatter(u, v)\n",
    "    \n",
    "    \n",
    "    \n",
    "    \n",
    "    \n",
    "    \n",
    "    \n",
    "    \n",
    "    \n",
    "    \n",
    "    \n",
    "    "
   ]
  },
  {
   "cell_type": "markdown",
   "metadata": {},
   "source": [
    "#\n"
   ]
  }
 ],
 "metadata": {
  "kernelspec": {
   "display_name": "Python 3",
   "language": "python",
   "name": "python3"
  },
  "language_info": {
   "codemirror_mode": {
    "name": "ipython",
    "version": 3
   },
   "file_extension": ".py",
   "mimetype": "text/x-python",
   "name": "python",
   "nbconvert_exporter": "python",
   "pygments_lexer": "ipython3",
   "version": "3.7.1"
  },
  "latex_envs": {
   "LaTeX_envs_menu_present": true,
   "autoclose": false,
   "autocomplete": true,
   "bibliofile": "biblio.bib",
   "cite_by": "apalike",
   "current_citInitial": 1,
   "eqLabelWithNumbers": true,
   "eqNumInitial": 1,
   "hotkeys": {
    "equation": "Ctrl-E",
    "itemize": "Ctrl-I"
   },
   "labels_anchors": false,
   "latex_user_defs": false,
   "report_style_numbering": false,
   "user_envs_cfg": false
  }
 },
 "nbformat": 4,
 "nbformat_minor": 2
}
