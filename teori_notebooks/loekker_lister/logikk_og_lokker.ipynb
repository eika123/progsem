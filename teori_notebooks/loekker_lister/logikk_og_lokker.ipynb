{
 "cells": [
  {
   "cell_type": "markdown",
   "metadata": {
    "slideshow": {
     "slide_type": "slide"
    }
   },
   "source": [
    "# Logiske vilkår og løkker"
   ]
  },
  {
   "cell_type": "markdown",
   "metadata": {},
   "source": [
    "## Logiske vilkår\n",
    "Noen ganger må programmer gjøre forskjellige ting avhengig av hva brukeren gir som input (f.eks når man lager menyer), eller på grunn av hva som har skjedd tidligere i programmet. Vi gjør dette ved å bruke *logiske vilkår*.\n",
    "Vi kan da dele hvordan programmet kjører opp i to eller flere deler. Se følgende eksempel under:"
   ]
  },
  {
   "cell_type": "code",
   "execution_count": 1,
   "metadata": {
    "slideshow": {
     "slide_type": "slide"
    }
   },
   "outputs": [
    {
     "name": "stdin",
     "output_type": "stream",
     "text": [
      "what is your name?  Eindride\n",
      "what is your age?  14\n"
     ]
    },
    {
     "name": "stdout",
     "output_type": "stream",
     "text": [
      "Eindride! You are not old enough you naughty child!\n"
     ]
    }
   ],
   "source": [
    "# spør brukeren om alder og navn\n",
    "name = input('what is your name? ')\n",
    "age = int(input('what is your age? '))\n",
    "\n",
    "minimum_age = 15\n",
    "\n",
    "if age >= minimum_age:\n",
    "    print(f'Hi {name}! You are old enough.')\n",
    "    # tilby alternativer\n",
    "else:\n",
    "    print(f'{name}! You are not old enough you naughty child!')"
   ]
  },
  {
   "cell_type": "markdown",
   "metadata": {},
   "source": [
    "### Disseksjon av programmet\n",
    "De to øverste linjene dere kjenner dere nå. Vi gjøre også om input til et heltall (`int`) når vi spør om alder\n",
    "\n",
    "Vi setter en \"aldersgrense\" til å være 15 år med variabelen `minimum_age`.\n",
    "\n",
    "Vi tester om `age` er større enn `minimum_age`. Dette er et logisk utsagn, og har enten verdien `True` eller `False`. Hvis det er sant (verdien blir `True`), utføres koden under *if-blokken*. Hvis ikke, utføres koden under *else-blokken*.\n",
    "\n",
    "Vi bruker *f-strings* når vi vil ha verdien av variable i en streng, ved å ha en `f` foran streng-tegnet."
   ]
  },
  {
   "cell_type": "markdown",
   "metadata": {
    "slideshow": {
     "slide_type": "slide"
    }
   },
   "source": [
    "Vi *må* alltid ikke ha en else-blokk. Det er ofte vanlig å kun ha en if-blokk. I noen tilfeller må vi ha flere alternativer. Vi kan da bruke nøkkelordet `elif`"
   ]
  },
  {
   "cell_type": "code",
   "execution_count": 3,
   "metadata": {
    "slideshow": {
     "slide_type": "slide"
    }
   },
   "outputs": [
    {
     "name": "stdin",
     "output_type": "stream",
     "text": [
      "What is your name?  Eindride\n",
      "what is your age?  29\n"
     ]
    },
    {
     "name": "stdout",
     "output_type": "stream",
     "text": [
      "hei\n",
      "Hello Eindride!. You are in your twenties!\n"
     ]
    }
   ],
   "source": [
    "name = input('What is your name? ')\n",
    "age = int(input('what is your age? '))\n",
    "\n",
    "# set some age categories\n",
    "teenager = 13\n",
    "tween = 20\n",
    "thirty = 30\n",
    "# etc\n",
    "\n",
    "\n",
    "# place user into appropriate age category\n",
    "if age >= teenager and age < tween:\n",
    "    print(f'Hello {name}!. You are a teenager!')\n",
    "elif age >= tween and age < thirty:\n",
    "    print(f'Hello {name}!. You are in your twenties!')\n",
    "else:\n",
    "    print(f'Hello {name}!. You are an adult!')\n"
   ]
  },
  {
   "cell_type": "markdown",
   "metadata": {
    "slideshow": {
     "slide_type": "slide"
    }
   },
   "source": [
    "#### Kort om programmet\n",
    "Programmet er veldig likt det forrige.\n",
    "I de logiske testene har vi med nøkkelordet *and*, som dere kjenner som logisk *og* fra matematikken. Altså består testene av to logiske utsagn, som begge må være sanne.\n",
    "For eksempel må både `age >= teenager` og `age < tween` være sanne for at koden i den første blokken skal bli kjørt."
   ]
  },
  {
   "cell_type": "markdown",
   "metadata": {
    "slideshow": {
     "slide_type": "slide"
    }
   },
   "source": [
    "### While-løkker\n",
    "Logiske tester kan være nyttige for å gjøre programmer mer dynamiske, avhengig av f.eks brukerinput. De blir også svært nyttige når vi skal få maskinen til å gjenta enkle prosedyrer svært mange ganger. En slik konstruksjon i python (og programmering ellers!) kalles *while-løkker*. En while-løkke utfører et sett med kommandoer på repeat mens et logisk utsagn er sant.\n",
    "Vi kan starte med en kanskje litt \"nerdete\" anvendelse: Finn ut hvor mange heltall i stigende rekkefølge $1 + 2 + 3 + ... + n$ vi må summere før summen blir over 1000"
   ]
  },
  {
   "cell_type": "code",
   "execution_count": null,
   "metadata": {
    "slideshow": {
     "slide_type": "slide"
    }
   },
   "outputs": [],
   "source": [
    "T = 1000\n",
    "s = 1   # summevariabel\n",
    "k = 1   # tellevariabel\n",
    "\n",
    "while s < T:\n",
    "    k = k + 1\n",
    "    s = s + k\n",
    "print(\"antall ledd: \", k)\n",
    "print(\"summen blir: \", s)"
   ]
  },
  {
   "cell_type": "markdown",
   "metadata": {
    "slideshow": {
     "slide_type": "slide"
    }
   },
   "source": [
    "##### Aktivitet 1 (Simuler programmet for hånd med få iterasjoner)\n",
    "Skift verdien til variabelen `T` til f.eks 10. Regn ut for hånd at programmet oppfører seg korrekt"
   ]
  },
  {
   "cell_type": "markdown",
   "metadata": {},
   "source": [
    "##### Aktivitet 2 (Simuler et litt annet program)\n",
    "Simuler gangen i programmet under for hånd. Forklar hvorfor programmet ikke oppfører seg korrekt"
   ]
  },
  {
   "cell_type": "code",
   "execution_count": null,
   "metadata": {},
   "outputs": [],
   "source": [
    "T = 10\n",
    "s = 0   # summevariabel\n",
    "k = 1   # tellevariabel\n",
    "\n",
    "while s < T:\n",
    "    s = s + k\n",
    "    k = k + 1\n",
    "print(\"antall ledd: \", k)\n",
    "print(\"summen blir: \", s)"
   ]
  },
  {
   "cell_type": "markdown",
   "metadata": {},
   "source": [
    "# Oppgaver"
   ]
  },
  {
   "cell_type": "markdown",
   "metadata": {},
   "source": [
    "### Oppgave 1\n",
    "Modifiser programmet under slik at det også tester om brukeren er et barn, i tredveårene eller eldre enn 40 år."
   ]
  },
  {
   "cell_type": "code",
   "execution_count": null,
   "metadata": {},
   "outputs": [],
   "source": [
    "name = input('What is your name? ')\n",
    "age = int(input('what is your age? '))\n",
    "\n",
    "# set some age categories\n",
    "teenager = 13\n",
    "tween = 20\n",
    "thirty = 30\n",
    "# etc\n",
    "\n",
    "\n",
    "if age >= teenager and age < tween:\n",
    "    print(f'Hello {name}!. You are a teenager!')\n",
    "elif age >= tween and age < thirty:\n",
    "    print(f'Hello {name}!. You are in your twenties!')\n",
    "else:\n",
    "    print(f'Hello {name}!. You are an adult!')"
   ]
  },
  {
   "cell_type": "markdown",
   "metadata": {},
   "source": [
    "### Oppgave 2\n",
    "Lag et program som skriver ut en meny der brukeren kan velge om han skal regne ut arealet av et pararellogram eller en trekant. Les så inn grunnlinja $g$ og høyden $h$ og skriv ut riktig figurtype og areal til brukeren. Under ser du hvordan en økt med programmet i bruk kan se ut:\n",
    "```\n",
    "Tast 1) Regn ut arealet av et pararellogram\n",
    "Tast 2) Regn ut arealet av en trekant\n",
    "1\n",
    "Skriv inn grunnlinja g: 6\n",
    "Skriv inn høyden h: 3\n",
    "Arealet av pararellogrammet er A = 18\n",
    "```"
   ]
  },
  {
   "cell_type": "markdown",
   "metadata": {},
   "source": [
    "### Oppgave 3\n",
    "Lag et program som leser inn `num_1`, `num_2` og en regneoperasjon (`+`, `-`, `/` eller `*`) og skriver ut\n",
    "resultatet til skjermen. Se snutten under for hvordan programmet skal fungere med `+`\n",
    "```\n",
    "Give number 1. 3\n",
    "specify operation (write +, - / or *): +\n",
    "Give number 2. 4\n",
    "Result: 3 + 4 = 7\n",
    "```"
   ]
  },
  {
   "cell_type": "markdown",
   "metadata": {},
   "source": [
    "### Oppgave 4\n",
    "Lag en while-løkke som simulerer utviklingen av antall små kvadrater i figurtallene under\n",
    "\n",
    "![figurtall](figurtall.PNG)"
   ]
  },
  {
   "cell_type": "markdown",
   "metadata": {},
   "source": []
  }
 ],
 "metadata": {
  "kernelspec": {
   "display_name": "Python 3",
   "language": "python",
   "name": "python3"
  },
  "language_info": {
   "codemirror_mode": {
    "name": "ipython",
    "version": 3
   },
   "file_extension": ".py",
   "mimetype": "text/x-python",
   "name": "python",
   "nbconvert_exporter": "python",
   "pygments_lexer": "ipython3",
   "version": "3.6.7"
  }
 },
 "nbformat": 4,
 "nbformat_minor": 4
}
