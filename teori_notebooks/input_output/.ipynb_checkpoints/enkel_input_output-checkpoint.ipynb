{
 "cells": [
  {
   "cell_type": "markdown",
   "metadata": {
    "slideshow": {
     "slide_type": "slide"
    }
   },
   "source": [
    "# Input og output fra programmer"
   ]
  },
  {
   "cell_type": "markdown",
   "metadata": {
    "slideshow": {
     "slide_type": "slide"
    }
   },
   "source": [
    "<img src=\"wordcloudimage1.png\" width=\"600\">"
   ]
  },
  {
   "cell_type": "markdown",
   "metadata": {
    "slideshow": {
     "slide_type": "skip"
    }
   },
   "source": [
    "Vi skal først se på hvordan vi kan skrive noen enkle programmer som leser inn input fra brukeren,\n",
    "gjør noe med denne inputen, og skriver noe ut igjen til brukeren.\n",
    "\n",
    "Vi starter med det aller enkleste, klassiske første programmet, nemlig et program som skriver\n",
    "\"hello, world!\" ut til brukeren når programmet kjøres."
   ]
  },
  {
   "cell_type": "markdown",
   "metadata": {
    "slideshow": {
     "slide_type": "slide"
    }
   },
   "source": [
    "## Hello, World!\n",
    "Dette programmet skriver ut teksten \"Hello, world!\" ut til brukeren. Prøv å forandre på teksten mellom hermetegnene å se hva som skjer."
   ]
  },
  {
   "cell_type": "code",
   "execution_count": 4,
   "metadata": {
    "slideshow": {
     "slide_type": "slide"
    }
   },
   "outputs": [
    {
     "name": "stdout",
     "output_type": "stream",
     "text": [
      "Hello, World!\n"
     ]
    }
   ],
   "source": [
    "print(\"Hello, World!\")"
   ]
  },
  {
   "cell_type": "markdown",
   "metadata": {},
   "source": [
    "**Aktivitet:** Det anbefales at du kjører programmet slik at du vet hvordan du kjører python-programmer på din datamaskin."
   ]
  },
  {
   "cell_type": "markdown",
   "metadata": {
    "slideshow": {
     "slide_type": "subslide"
    }
   },
   "source": [
    "### Kort \"obduksjon\" av programmet\n",
    "Programmet sender inn en *streng* `\"Hello, world!\"` til *funksjonen* `print`.\n",
    "Funksjonen `print` virker som et bindeledd mellom programmet og `standard output`.\n",
    "I mer avanserte anvendelser kan det være hendig å endre på denne - men vanligvis\n",
    "er det greit å bruke `print` til å skrive tekst ut til kommandolinjen eller slik du ser her\n",
    "\n",
    "\n",
    "\n",
    "\n",
    "\n",
    "\n"
   ]
  },
  {
   "cell_type": "markdown",
   "metadata": {
    "slideshow": {
     "slide_type": "slide"
    }
   },
   "source": [
    "### Konsepter"
   ]
  },
  {
   "cell_type": "markdown",
   "metadata": {
    "slideshow": {
     "slide_type": "subslide"
    }
   },
   "source": [
    "#### Datatypen streng\n",
    "Du har møtt på datatypen `str`. En streng i python kan du tenke på som tekst. Husk at for\n",
    "en datamaskin er det bare en remse med bokstaver - helt i bunnen er det en remse med bytes.\n",
    "Teksten 'Hello, world!\" er for eksempel følgende remse med bytes:\n",
    " \n",
    "\n",
    "`01001000 01100101 01101100 01101100 01101111 0101100 00100000 01110111 01101111 01110010 01101100 01100100 00100001`"
   ]
  },
  {
   "cell_type": "markdown",
   "metadata": {
    "slideshow": {
     "slide_type": "skip"
    }
   },
   "source": [
    "Som du kanskje synes, er det ikke spesielt lesbart. Derfor er det skrevet programmer som gjør dette om til tekst du kan\n",
    "lese, uten at du trenger å tenke noe på hvordan programmet fungerer. Du trenger vanligvis ikke tenke på at programmet en gang\n",
    "eksisterer. Dette kalles i informatikken for *abstraksjon*, og er et viktig konsept vi kommer tilbake til senere."
   ]
  },
  {
   "cell_type": "markdown",
   "metadata": {
    "slideshow": {
     "slide_type": "subslide"
    }
   },
   "source": [
    "#### Funksjoner\n",
    "Du har møtt din første funksjon, nemlig `print`. Funksjonen `print` tar inn en streng og skriver det ut til kommandolinjen/under cellen.\n",
    "Funksjoner generelt i python tar inn en verdi og gjør noe med eller noe som avhenger av disse verdiene.\n",
    "\n"
   ]
  },
  {
   "cell_type": "markdown",
   "metadata": {
    "slideshow": {
     "slide_type": "skip"
    }
   },
   "source": [
    "Remsen med bytes for å representere strengen  `Hello, world!` er generert med med programmet under. Ikke bruk tid på å gruble over koden enda, du vil om tid og stunder forstå helt greit hva som står her."
   ]
  },
  {
   "cell_type": "code",
   "execution_count": 2,
   "metadata": {
    "code_folding": [],
    "slideshow": {
     "slide_type": "skip"
    }
   },
   "outputs": [
    {
     "name": "stdout",
     "output_type": "stream",
     "text": [
      "0b1001000 0b1100101 0b1101100 0b1101100 0b1101111 0b101100 0b100000 0b1110111 0b1101111 0b1110010 0b1101100 0b1100100 0b100001 "
     ]
    }
   ],
   "source": [
    "# generer bytes for tegnene i strengen 'Hello, world!' slik de samsvarer i standarden utf8\n",
    "for byte in map(bin, bytearray('Hello, world!', 'utf8')):\n",
    "    print(byte, end=\" \")"
   ]
  },
  {
   "cell_type": "markdown",
   "metadata": {
    "slideshow": {
     "slide_type": "skip"
    }
   },
   "source": [
    "#### Orienteringsstoff om strenger og utf8-encoding\n",
    "Standarden utf-8 bruker én byte for de fleste vanlige tegn. For nordiske tegn bruker den to bytes, og for mange spesielle tegn kan den bruke tre eller fire bytes.\n",
    "\n",
    "I tabellen under ser du noen eksempler med bytene representert som binære tall.\n",
    "\n",
    "\n",
    "|  bokstav   |  byte nummer 1 |  byte nummer 2 | byte nummer 3  | byte nummer 4 |\n",
    "|------------|----------------|----------------|------------ ---|---------------|\n",
    "|   a        |  0b1100001     |                |                |               |\n",
    "|   b        |  0b1100010     |                |                |               |\n",
    "|   c        |  0b1100011     |                |                |               |\n",
    "|   ä        |  0b11000011    |  0b10100100    |                |               |\n",
    "|   æ        |  0b11000011    |  0b10100110    |                |               |\n",
    "|   ø        |  0b11000011    |  0b10111000    |                |               |\n",
    "|   å        |  0b11000011    |  0b10100101    |                |               |\n",
    "|   à        |  0b11000011    |  0b10100000    |                |               |\n",
    "|   â        |  0b11000011    |  0b10100010    |                |               |\n",
    "|   π        |  0b11001111    |  0b10000000    |                |               |\n",
    "|   ℵ        |  0b11100010    |  0b10000100    |  0b10110101    |               |\n",
    "|   ∇        |  0b11100010    |  0b10001000    |  0b10000111    |               |\n",
    "|   𣴯       |  0b11110000    |  0b10100011    |  0b10110100    |  0b10101111  |\n"
   ]
  },
  {
   "cell_type": "markdown",
   "metadata": {
    "slideshow": {
     "slide_type": "slide"
    }
   },
   "source": [
    "### Lese input fra bruker\n",
    "Vi kan bruke kommandoen `input` til å lese input fra en bruker.\n",
    "Under ser du et eksempel"
   ]
  },
  {
   "cell_type": "code",
   "execution_count": 3,
   "metadata": {
    "slideshow": {
     "slide_type": "subslide"
    }
   },
   "outputs": [
    {
     "name": "stdin",
     "output_type": "stream",
     "text": [
      "Hva er navnet ditt? Skriv her:  Eindride\n"
     ]
    },
    {
     "name": "stdout",
     "output_type": "stream",
     "text": [
      "Hallo Eindride!\n"
     ]
    }
   ],
   "source": [
    "# les input fra bruker og skriv ut en hilsen me brukerens navn\n",
    "name = input('Hva er navnet ditt? Skriv her: ')\n",
    "print(\"Hallo \" + name + \"!\" )"
   ]
  },
  {
   "cell_type": "markdown",
   "metadata": {
    "slideshow": {
     "slide_type": "subslide"
    }
   },
   "source": [
    "### Kort obduksjon\n",
    "Programmet ignorerer teksten bak tegnet `#`. Teksten bak dette tegnet er en kommentar for\n",
    "å gjøre koden lettere å lese for mennesker.\n",
    "\n",
    "Programmet kaller på en funksjon `input`.\n",
    "Argumentet til `input` er strengen `Hva er navnet ditt? Skriv her: \\`. Denne strengen blir skrevet ut til kommandolinje / under cellen. Poenget med denne beskjeden er å informere brukeren om hva slags input som skal skrives inn.\n",
    "Deretter lagres det brukeren mater inn i programmet fra kommandolinjen i *variabelen* `name`."
   ]
  },
  {
   "cell_type": "markdown",
   "metadata": {},
   "source": [
    "**Det anbefales nå at du gjør oppgave 1, 2 og 3**"
   ]
  },
  {
   "cell_type": "markdown",
   "metadata": {
    "slideshow": {
     "slide_type": "slide"
    }
   },
   "source": [
    "### Flere konsepter"
   ]
  },
  {
   "cell_type": "markdown",
   "metadata": {
    "slideshow": {
     "slide_type": "subslide"
    }
   },
   "source": [
    "#### Variabler\n",
    "En variabel i Python kan du tenke på som navnet på en adresse i minnet til datamaskinen. Å lagre data i variabler gjør koden enklere å lese, og vi kan kombinere dataene med andre data på mange ulike måter.\n",
    "\n",
    "Legg til deg gode vaner, og start å bruke variabler allerede nå!"
   ]
  },
  {
   "cell_type": "markdown",
   "metadata": {
    "slideshow": {
     "slide_type": "subslide"
    }
   },
   "source": [
    "Store programmer kan være vanskelige å lese. For å gjøre programmene mer lesbare, er det viktig at du lager *beskrivende* navn til variablene dine. Dersom variabelen inneholder navnet til en kunde, kan den f.eks hete `navn`, men et enda bedre navn er da `kunde_navn`.\n",
    "\n",
    "**NB!** Et lite aber er når vi jobber med matematikk - da ønsker vi å velge variablene slik at koden minner mest mulig om de matematiske utrykkene."
   ]
  },
  {
   "cell_type": "markdown",
   "metadata": {
    "slideshow": {
     "slide_type": "subslide"
    }
   },
   "source": [
    "#### Kommentarer\n",
    "Kommentarer i python starter med tegnet `#`. Kommentarene blir ikke kjørt som kode,\n",
    "men ignorert av datamaksinen når du kjører programmet.\n",
    "De gjør det lettere å forstå koden!\n",
    "Dersom kommentaren skal gå over flere linjer, bruker vi en såkalt doc-string. Du\n",
    "kan skrive dem med tredoble anførselstegn (dobbel x3 `\"\"\"` eller enkel x3 `'''`)."
   ]
  },
  {
   "cell_type": "markdown",
   "metadata": {
    "slideshow": {
     "slide_type": "subslide"
    }
   },
   "source": [
    "Du kan bruke kommentarer til å holde orden på enheter, og fortelle i korte trekk hva\n",
    "en samling kommandoer skal gjøre. Skriv heller for mange kommentarer enn for få! Det er\n",
    "aldri et problem at kode er *for godt dokumentert*. Blir dokumentasjonen for lang, har de fleste *editorer* der koden skrives funksjonalitet for å \"kollapse\" tekst slik at du ikke trenger å bla i teksten, men kan åpne det du trenger å se.\n",
    "En svært vanlig \"nybegynnerfeil\" er å slurve med kommentarer, for deretter å bruke lang tid på å forstå egen kode noen dager eller uker senere. Å skrive gode kommentarer er en ferdighet på lik linje med selve programmeringen, og blir svært viktig når man arbeider i team med andre mennesker."
   ]
  },
  {
   "cell_type": "markdown",
   "metadata": {
    "slideshow": {
     "slide_type": "subslide"
    }
   },
   "source": [
    "Under ser du et eksempel på kode der vi har skrevet en del kommentarer\n",
    "Prøv å bruke kommentarene til å forstå hva koden gjør i hvert steg.\n",
    "Som du ser blir ikke tabellen helt \"fint\" formatert. Vi skal senere se på\n",
    "hvordan dette kan gjøres."
   ]
  },
  {
   "cell_type": "code",
   "execution_count": 46,
   "metadata": {
    "slideshow": {
     "slide_type": "subslide"
    }
   },
   "outputs": [
    {
     "name": "stdout",
     "output_type": "stream",
     "text": [
      "Navn                    Telefon                    Adresse\n",
      "----------------------------------------------------------------------\n",
      "Kåre                    91248953                    Pøbelringen 5\n",
      "Marie                    39025847                    John Tullings Gate 10\n"
     ]
    }
   ],
   "source": [
    "\"\"\"\n",
    "Dette programmet viser noen egenskaper ved strenger:\n",
    "Hvis vi multipliserer en streng med et heltall n, gjentas strengen n antall ganger.\n",
    "Når to strenger a og b legges sammen, føyes teksten i b på teksten i a.\n",
    "For eksempel blir 'Martin' + ' Andersen' til strengen 'Martin Andersen'\n",
    "\n",
    "Koden skriver ut en tabell med fornavn, telefonnummer og adresse\n",
    "\"\"\"\n",
    "\n",
    "n = 10 # antall mellomrom\n",
    "mellomrom = \"  \"*n\n",
    "\n",
    "# Tabelloverskrifter\n",
    "tlf = \"Telefon\"\n",
    "adr = \"Adresse\"\n",
    "nvn = \"Navn\"\n",
    "\n",
    "# Innhold i tabellen.\n",
    "# Merk at etter semikolon kan en ny kommando skrives uten å starte en ny linje\n",
    "navn1 = \"Kåre\"; telefon1 = \"91248953\"; adresse1 = \"Pøbelringen 5\"\n",
    "navn2 = \"Marie\"; telefon2 = \"39025847\"; adresse2 = \"John Tullings Gate 10\"\n",
    "\n",
    "print(nvn + mellomrom + tlf + mellomrom + adr) # tabelloverskrifter\n",
    "print('--'*35)\n",
    "print(navn1 + mellomrom + telefon1 + mellomrom + adresse1)\n",
    "print(navn2 + mellomrom + telefon2 + mellomrom + adresse2)\n"
   ]
  },
  {
   "cell_type": "markdown",
   "metadata": {
    "slideshow": {
     "slide_type": "subslide"
    }
   },
   "source": [
    "#### Minne på datamaskinen\n",
    "Det kan være lurt å tenke på minnet i datamaskinen som en lang remse med hus som hver inneholder 8 bokser. I hver av disse boksene kan vi sette enten verdien 0 eller 1. Vi kaller disse verdiene **bits**\n",
    "\n",
    "Et hus er da en **byte**, og vi kan tenke på navnet til en variabel som adressen til huset. Nå er det ikke likevel alltid helt *så* enkelt, da vi for eksempel trenger åtte bytes til å representere for eksempel et flyttall. Men så lenge disse ligger inntil og i en bestemt retning fra vår adresse, går dette helt greit!"
   ]
  },
  {
   "cell_type": "markdown",
   "metadata": {
    "slideshow": {
     "slide_type": "subslide"
    }
   },
   "source": [
    "Bits i minnet til datamaskinen representert ved at en transistor styrer strøm til en kondensator. Ved å måle spenningen over kondensatoren vet man om transistoren er slått \"av eller på\", og dermed kan man lese av verdien 1 når spenningen er over 50% av en \"maksverdi\", og 0 ellers.\n",
    "Du kan lese mer her: [https://computer.howstuffworks.com/ram.htm](https://computer.howstuffworks.com/ram.htm \"https://computer.howstuffworks.com/ram.htm\")."
   ]
  },
  {
   "cell_type": "markdown",
   "metadata": {
    "slideshow": {
     "slide_type": "slide"
    }
   },
   "source": [
    "## Bruk av ipython som en kalkulator\n",
    "Vi kan bruke ipyhon som en kalkulator. Hvis du har en åpen terminal, kan du skrive inn kommandoen `ipython`.\n",
    "Da får du noe som ser ut som i kodesnutten under\n",
    "Ofte ønsker vi å bruke matematiske funksjoner som ikke er med i python fra før. Da må vi importere dem. Det\n",
    "kan vi gjøre med kommandoen `from pylab import *`. Vi importerer da alle kommandoer fra pakken `pylab`."
   ]
  },
  {
   "cell_type": "markdown",
   "metadata": {
    "slideshow": {
     "slide_type": "subslide"
    }
   },
   "source": [
    "### Eksempel\n",
    "Under har vi regnet ut verdien av utrykket $$ 5\\sqrt{2} + \\left(\\frac{3}{4}\\right)^2.$$\n",
    "\n",
    "```\n",
    "In [1]: from pylab import *\n",
    "\n",
    "In [2]: 5*sqrt(2) + (3/4)**2\n",
    "Out[2]: 7.6335678118654755\n",
    "\n",
    "In [3]: pi\n",
    "Out[3]: 3.141592653589793\n",
    "```"
   ]
  },
  {
   "cell_type": "code",
   "execution_count": 4,
   "metadata": {
    "slideshow": {
     "slide_type": "subslide"
    }
   },
   "outputs": [
    {
     "data": {
      "text/plain": [
       "7.6335678118654755"
      ]
     },
     "execution_count": 4,
     "metadata": {},
     "output_type": "execute_result"
    }
   ],
   "source": [
    "from pylab import *\n",
    "5*sqrt(2) + (3/4)**2"
   ]
  },
  {
   "cell_type": "markdown",
   "metadata": {
    "slideshow": {
     "slide_type": "slide"
    }
   },
   "source": [
    "#### Sammensatte utrykk\n",
    "Regn ut verdien av utrykket $$E = gv^n + \\frac{b}{|u - w| + 1},$$ \n",
    "\n",
    "for $g = 14000$, $v = 1.0275$, $n=20$ og $b=2.3\\cdot10^{4}$.\n"
   ]
  },
  {
   "cell_type": "markdown",
   "metadata": {
    "slideshow": {
     "slide_type": "subslide"
    }
   },
   "source": [
    "\n",
    "I eksempelet under har vi definert tre variable `g`, `v`, `n`, og `b`. Vi gjør noen beregninger med disse og lagrer dem inn i variabelen `E`. \n",
    "\n",
    "```\n",
    "Python 3.6.7 (default, Jul  2 2019, 02:21:41) [MSC v.1900 64 bit (AMD64)]\n",
    "Type 'copyright', 'credits' or 'license' for more information\n",
    "IPython 7.8.0 -- An enhanced Interactive Python. Type '?' for help.\n",
    "\n",
    "In [1]: g = 14000\n",
    "\n",
    "In [2]: v = 1.0275\n",
    "\n",
    "In [3]: n = 20\n",
    "\n",
    "In [4]: b = 2.3E4\n",
    "\n",
    "In [5]: u = 45\n",
    "\n",
    "In [6]: w = 36\n",
    "\n",
    "In [7]: E = g*v**n + b/(abs(u - w) + 1)\n",
    "\n",
    "In [8]: E\n",
    "Out[8]: 26385.99803800328\n",
    "```"
   ]
  },
  {
   "cell_type": "markdown",
   "metadata": {
    "slideshow": {
     "slide_type": "subslide"
    }
   },
   "source": [
    "Hvis du jobber i en notebook, kan du gjøre slike interaktive beregninger i en kode-celle. Prøv deg på noen av oppgavene under"
   ]
  },
  {
   "cell_type": "markdown",
   "metadata": {},
   "source": [
    "**Aktivitet: oppgave 4 til oppgave 10**"
   ]
  },
  {
   "cell_type": "markdown",
   "metadata": {
    "slideshow": {
     "slide_type": "slide"
    }
   },
   "source": [
    "## Flyttall\n",
    "Til å starte med kan du tenke på flyttall som et desimaltall lagret på datamaskinen. På engelsk kalles flyttal for *floating point number*, eller i korthet bare *float*. Derav navnet på datatypen i eksempelet over. Likevel er det noen spesielle egenskaper ved flyttall det er vel verd å være oppmerksom på.\n",
    "\n",
    "Eksempelet under illustrerer et av problemene ved flyttall.\n",
    "Hvordan kan vi forklare hva som skjer - og er dette generelt litt skummelt?"
   ]
  },
  {
   "cell_type": "code",
   "execution_count": 6,
   "metadata": {
    "slideshow": {
     "slide_type": "subslide"
    }
   },
   "outputs": [
    {
     "name": "stdout",
     "output_type": "stream",
     "text": [
      "33333333333333327740928.0000\n"
     ]
    }
   ],
   "source": [
    "inaccurate_approximation = 1E23*(1/3)\n",
    "\n",
    "# Skriv ut tallet inaccurate_approximation \n",
    "# med fire desimalers nøyaktighet\n",
    "print(f'{inaccurate_approximation:.4f}')"
   ]
  },
  {
   "cell_type": "markdown",
   "metadata": {
    "slideshow": {
     "slide_type": "subslide"
    }
   },
   "source": [
    "Dette ser kanskje ikke lovende ut. Men med nærmere inspeksjon er det kanskje ikke så ille som det\n",
    "ser ut som. Vi må telle 15 siffer til høyre for det første sifferet.\n",
    "Den relative feilen er da omtrentlig av størrelsesorden\n",
    "\n",
    "$$\\epsilon \\approx \\frac{10^{15}}{10^{22}} = 10^{-7}.$$\n",
    "\n",
    "Det bruker å gå fint å gjøre beregninger med flyttall - men vi skal senere se litt på noen tilfeller der \n",
    "det likevel ikke går fullt så bra."
   ]
  },
  {
   "cell_type": "markdown",
   "metadata": {
    "slideshow": {
     "slide_type": "slide"
    }
   },
   "source": [
    "## Heltall\n",
    "Heltall har i python typen `int`. I motsetning til flyttall, kan alle heltall representeres nøyaktig, så\n",
    "lenge de ikke er altfor store. Python har ingen \"hard grense\" på hvor store heltall kan være slik mange andre språk\n",
    "har, men begrensningen går på hvor stor plass det er tilgjengelig i minnet til datamaskinen.\n",
    "\n",
    "Du kan gjøre en int `i` om til en float `f` ved kommandoen `f = float(i)`.\n",
    "Hvis du skal runde av et desimaltall `f` til et heltall `i`, kan du bruke kommandoen `i = int(round(f))`.\n"
   ]
  },
  {
   "cell_type": "markdown",
   "metadata": {
    "slideshow": {
     "slide_type": "slide"
    }
   },
   "source": [
    "## Regnerekkefølge\n",
    "Du lurer kanskje på hvordan python prioriterer mellom operasjonene `+`, `-`, `*` og `/`.\n",
    "Regnerekkefølgen er den \"vanlige\":\n",
    "1. Paranteser\n",
    "2. Eksponenter, røtter, funksjoner\n",
    "3. multiplikasjon og divisjon\n",
    "4. addisjon og subtraksjon\n",
    "\n",
    "Utrykkene leses fra venstre til høyre. Når to operasjoner har lik prioritet, utføres den lengst til venstre først."
   ]
  },
  {
   "cell_type": "markdown",
   "metadata": {},
   "source": [
    "### Eksempel\n",
    "```\n",
    "# Programmet skal regne ut kraften i en hydraulisk jekk på én av stemplene.\n",
    "# Definer parametere\n",
    "A1 = 10\n",
    "F = 30\n",
    "A2 = 15\n",
    "\n",
    "# Regn ut krafta\n",
    "F2 = F/A1*A2\n",
    "```"
   ]
  },
  {
   "cell_type": "markdown",
   "metadata": {},
   "source": [
    "Utrykket `F/A1*A2` leses fra venstre til høyre, og operasjonene har lik prioritet. Altså regnes først\n",
    "`F/A1` ut. Deretter multipliseres dette med `A2`.\n"
   ]
  },
  {
   "cell_type": "markdown",
   "metadata": {
    "slideshow": {
     "slide_type": "slide"
    }
   },
   "source": [
    "## Tall som input fra bruker"
   ]
  },
  {
   "cell_type": "markdown",
   "metadata": {
    "slideshow": {
     "slide_type": "skip"
    }
   },
   "source": [
    "\n",
    "Hvis vi ønsker å lese inn et tall, må vi fortelle Python at det er et tall vi er ute etter\n"
   ]
  },
  {
   "cell_type": "code",
   "execution_count": null,
   "metadata": {
    "slideshow": {
     "slide_type": "subslide"
    }
   },
   "outputs": [],
   "source": [
    "name = input('Hva er navnet ditt? Skriv her: ')\n",
    "print(\"Hallo \" + name + \"!\" )\n",
    "\n",
    "height_centimeters = input('Hvor høy er du? Gi svaret i cm uten enheter.')\n",
    "\n",
    "#gjør strengen height_centimeters om til en float\n",
    "height_centimeters = float(height_centimeters)\n",
    "\n",
    "height_meters = height_centimeters/100\n",
    "\n",
    "print(\"Høyden din i meter er:  \", height_meters)"
   ]
  },
  {
   "cell_type": "markdown",
   "metadata": {
    "slideshow": {
     "slide_type": "slide"
    }
   },
   "source": [
    "## Input fra kommandolinje\n",
    "Når vi lager programmer vi kjører ofte, er det vanligvis lettere å gi input fra kommandolinjen.\n",
    "Til dette kan vi bruke pakken `sys`\n",
    "Under ser du et utsnitt av et program `add_args.py` som tar inn to tall fra kommandolinjen og skriver ut summen av dem.\n"
   ]
  },
  {
   "cell_type": "code",
   "execution_count": 42,
   "metadata": {
    "slideshow": {
     "slide_type": "subslide"
    }
   },
   "outputs": [
    {
     "name": "stdout",
     "output_type": "stream",
     "text": [
      "add_args.py\n",
      "enkel_input_output.ipynb\n",
      "hello_you.py\n"
     ]
    }
   ],
   "source": [
    "!ls"
   ]
  },
  {
   "cell_type": "code",
   "execution_count": 45,
   "metadata": {
    "code_folding": [],
    "slideshow": {
     "slide_type": "slide"
    }
   },
   "outputs": [
    {
     "name": "stdout",
     "output_type": "stream",
     "text": [
      "Overwriting add_args.py\n"
     ]
    }
   ],
   "source": [
    "%%writefile add_args.py\n",
    "import sys\n",
    "\n",
    "\n",
    "a = sys.argv[1] # legg første argument fra kommandolinjen inn i a\n",
    "a = float(a)    # omgjør a fra streng til desimaltall\n",
    "\n",
    "b = sys.argv[2] # Legg andre argument fra kommandolinjen inn i b\n",
    "b = float(b)\n",
    "\n",
    "print(a + b)"
   ]
  },
  {
   "cell_type": "markdown",
   "metadata": {
    "slideshow": {
     "slide_type": "subslide"
    }
   },
   "source": [
    "Vi kan nå kjøre programmet. Enten fra notebooken som i cellen under, eller fra en terminal.\n",
    "Tilsvarende kjøring fra kommandolinjen ville vi fått med kommandoen\n",
    "`python add_args.py 1.5 2.8`"
   ]
  },
  {
   "cell_type": "code",
   "execution_count": 49,
   "metadata": {
    "slideshow": {
     "slide_type": "slide"
    }
   },
   "outputs": [
    {
     "name": "stdout",
     "output_type": "stream",
     "text": [
      "4.3\n"
     ]
    }
   ],
   "source": [
    "run add_args.py 1.5 2.8"
   ]
  },
  {
   "cell_type": "markdown",
   "metadata": {},
   "source": [
    "**Aktivitet: Oppgaver 11 - 15**"
   ]
  },
  {
   "cell_type": "markdown",
   "metadata": {
    "slideshow": {
     "slide_type": "slide"
    }
   },
   "source": [
    "### Orienteringsstoff: Et veldig typisk eksempel\n",
    "Vi tar et kort eksempel på hvordan input kan leses fra kommandolinjen.\n",
    "Vi skal i de neste notebookene se på hvilke konsepter som brukes i programmet slik\n",
    "at du snart skal kunne skrive slike programmer selv"
   ]
  },
  {
   "cell_type": "code",
   "execution_count": 1,
   "metadata": {
    "slideshow": {
     "slide_type": "slide"
    }
   },
   "outputs": [
    {
     "name": "stdout",
     "output_type": "stream",
     "text": [
      "Overwriting aplot_andregradsfunksjon.py\n"
     ]
    }
   ],
   "source": [
    "%%writefile aplot_andregradsfunksjon.py\n",
    "from pylab import *\n",
    "import sys\n",
    "\n",
    "#programmet plotter grafen til en funksjon a*x**2 + b*x + c\n",
    "\n",
    "# les inn nødvendige parametere for å representere funksjonen\n",
    "a = float(sys.argv[1])\n",
    "b = float(sys.argv[2])\n",
    "c = float(sys.argv[3])\n",
    "\n",
    "# les inn nødvendige parametere for xmin og xmax for plottet.\n",
    "# verdimengden behøver vi ikke bekymre oss om for plotting\n",
    "xmin = float(sys.argv[4])\n",
    "xmax = float(sys.argv[5])\n",
    "\n",
    "\n",
    "N = ceil(abs(xmax - xmin)*100) # hundre punkter i et intervall med bredde 1\n",
    "\n",
    "# Lag et intervall (array) med flyttall fra xmin til xmax med N punkter\n",
    "x = linspace(xmin, xmax, N)\n",
    "\n",
    "# beregn en y-verdi for hvert av flyttallene i arrayet x\n",
    "y = a*x**2 + b*x + c\n",
    "\n",
    "plot(x, y)\n",
    "\n",
    "#pynt på grafen\n",
    "xlabel('x', fontsize='24')\n",
    "xticks(fontsize='16', rotation=40)\n",
    "ylabel('y', fontsize='24')\n",
    "yticks(fontsize='16')\n",
    "title(fr'${a}x^2 + {b}x + {c}$', fontsize='32') # skriv funksjonsuttrykket i tittelen\n",
    "grid()\n",
    "\n",
    "# gcf: get current figure \n",
    "fig = gcf()\n",
    "fig.set_size_inches(10, 7)\n",
    "\n",
    "\n",
    "show()\n",
    "\n"
   ]
  },
  {
   "cell_type": "code",
   "execution_count": 3,
   "metadata": {
    "slideshow": {
     "slide_type": "subslide"
    }
   },
   "outputs": [
    {
     "data": {
      "image/png": "[encoded data removed]",
      "text/plain": [
       "<Figure size 720x504 with 1 Axes>"
      ]
     },
     "metadata": {
      "needs_background": "light"
     },
     "output_type": "display_data"
    }
   ],
   "source": [
    "run aplot_andregradsfunksjon.py -2 2 5 -2 3"
   ]
  },
  {
   "cell_type": "markdown",
   "metadata": {
    "slideshow": {
     "slide_type": "skip"
    }
   },
   "source": [
    "Det er nå enkelt å endre på parametrene funksjonen får inn. Prøv selv!"
   ]
  },
  {
   "cell_type": "markdown",
   "metadata": {
    "slideshow": {
     "slide_type": "slide"
    }
   },
   "source": [
    "------------\n",
    "\n",
    "## Orienteringsstoff: Bruk av pakken argparse når mange argumenter skal leses inn\n",
    "du synes kanskje at det kan være vanskelig å holde styr på hvilke argumenter som skal leses inn\n",
    "til programmet over.\n",
    "Vi kan lette dette ved å bruke pakken `argparse`. Da kan vi kjøre programmet ved å bruke *key-value pairs*.\n",
    "\n",
    "`run plot_andregradsfunksjon.py --a 0 --b 2 --c 5 --xmin -2 --xmax 3`\n",
    "\n",
    "Det vil da være lettere for brukeren å holde styr på hvilke argumenter som er hva"
   ]
  },
  {
   "cell_type": "code",
   "execution_count": 38,
   "metadata": {
    "slideshow": {
     "slide_type": "subslide"
    }
   },
   "outputs": [
    {
     "name": "stdout",
     "output_type": "stream",
     "text": [
      "Overwriting plot_andregradsfunksjon.py\n"
     ]
    }
   ],
   "source": [
    "%%writefile plot_andregradsfunksjon.py\n",
    "\n",
    "from pylab import *\n",
    "import argparse\n",
    "\n",
    "\n",
    "parser = argparse.ArgumentParser() # lag et objekt parser som kan lese input fra kommandolinjen\n",
    "\n",
    "# definer forventede argumenter fra kommandolinjen med key-value pairs\n",
    "parser.add_argument('--a', type=float)\n",
    "parser.add_argument('--b', type=float)\n",
    "parser.add_argument('--c', type=float)\n",
    "\n",
    "parser.add_argument('--xmin', type=float)\n",
    "parser.add_argument('--xmax', type=float)\n",
    "\n",
    "# antall grid-punkter i et intervall med lengde 1\n",
    "parser.add_argument('--grid_density', type=int, default=100)\n",
    "\n",
    "# les argumentene fra kommandolinjen\n",
    "args = parser.parse_args()\n",
    "a, b, c, xmin, xmax, grid_density = args.a, args.b, args.c, args.xmin, args.xmax, args.grid_density\n",
    "\n",
    "N = round(abs(xmax - xmin)*grid_density) # antall punkter i gridet\n",
    "\n",
    "x = linspace(xmin, xmax, N)\n",
    "y = a*x**2 + b*x + c\n",
    "\n",
    "plot(x, y)\n",
    "\n",
    "xlabel('x', fontsize=16); xticks(fontsize=14)\n",
    "ylabel('y', fontsize=16); yticks(fontsize=14)\n",
    "\n",
    "title(fr'${a}x^2 + {b}x + {c}$', fontsize=20) # skriv funksjonsuttrykket i tittelen\n",
    "grid()\n",
    "\n",
    "\n",
    "# gcf: get current figure \n",
    "fig = gcf()\n",
    "fig.set_size_inches(10, 7)\n",
    "\n",
    "\n",
    "show()"
   ]
  },
  {
   "cell_type": "code",
   "execution_count": 39,
   "metadata": {
    "slideshow": {
     "slide_type": "subslide"
    }
   },
   "outputs": [
    {
     "data": {
      "image/png": "[encoded data removed]",
      "text/plain": [
       "<Figure size 720x504 with 1 Axes>"
      ]
     },
     "metadata": {
      "needs_background": "light"
     },
     "output_type": "display_data"
    }
   ],
   "source": [
    "run plot_andregradsfunksjon.py --a -0.5 --b 3 --c 2 --xmin -1.5 --xmax 7"
   ]
  },
  {
   "cell_type": "markdown",
   "metadata": {
    "slideshow": {
     "slide_type": "skip"
    }
   },
   "source": [
    "----------------"
   ]
  },
  {
   "cell_type": "code",
   "execution_count": null,
   "metadata": {
    "slideshow": {
     "slide_type": "skip"
    }
   },
   "outputs": [],
   "source": []
  },
  {
   "cell_type": "markdown",
   "metadata": {},
   "source": [
    "## Orienteringsstoff: Lesing av data med `loadtxt`"
   ]
  },
  {
   "cell_type": "markdown",
   "metadata": {},
   "source": [
    "Når vi gjør store simuleringer eller har måledata, kan vi bruke pakken `loadtxt` fra `numpy` til å lese store filer inn i såkalte *arrays*. (Du kan for øyeblikket tenket på de som lange remser med tall lagret i minnet på datamaskinen).\n",
    "\n",
    "#### Aktivitet\n",
    "En av dine venner har sett video på youtube og ønsker å hoppe fra verdensrommet med en romdrakt.\n",
    "Felix Baumgarter hoppet i 2012 fra 39,045 meter( https://www.youtube.com/watch?v=FHtvDA0W34I ). Vennen din\n",
    "ønsker å doble dette, men du er usikkert på om det er trygt. Du har fått tilgang til simuleringer i en fil\n",
    "`jump_simulation_data_time_altitude.txt` og `jump_simulation_data_time_velocity.txt`. Bruk `numpy.loadtxt` til\n",
    "å laste data fra filene inn i arrays og plot dem.\n",
    "\n",
    "Under ser du hvordan `jump_simulation_data_time_altitude.txt` lastes inn i arrays `t` og `v`."
   ]
  },
  {
   "cell_type": "code",
   "execution_count": 14,
   "metadata": {},
   "outputs": [],
   "source": [
    "from pylab import *\n",
    "t, h = loadtxt('jump_simulation_data_time_altitude.txt', dtype=float, delimiter=',')"
   ]
  },
  {
   "cell_type": "markdown",
   "metadata": {},
   "source": [
    "##### a)\n",
    "Last inn hastighetene fra filen `jump_simulation_data_time_velocity.txt`. Plot både hastigheten\n",
    "og høyden som funksjoner av tiden.\n",
    "\n",
    "Vurder om det er trygt for vennen din å hoppe fra 80000 meter."
   ]
  },
  {
   "cell_type": "code",
   "execution_count": null,
   "metadata": {},
   "outputs": [],
   "source": []
  },
  {
   "cell_type": "markdown",
   "metadata": {},
   "source": [
    "b)\n",
    "Bruk pakken `numpy.savetxt` til å lagre dataene fra arrayene i én fil.\n",
    "kallet er da \n",
    "\n",
    "```savetxt('filnavn', [t, v, h], delimiter=',', header='time, velocity, altitude')```"
   ]
  },
  {
   "cell_type": "markdown",
   "metadata": {},
   "source": [
    "## Litt om skriving til fil\n",
    "\n",
    "De finnes flere måter å skrive til fil. Man kan skrive linje for linje eller bruke pakker slik som her.\n",
    "\n",
    "Hvis du skal skrive store mengder data anbefales `savetxt` eller å bruke modulen `shelve`.\n",
    "Med modulen `shelve` kan du også lagre ethvert type objekt til fil. Du kan dermed\n",
    "lagre tilstanden programmet ditt er i og kjøre det senere, eller hente opp egendefinerte datastrukturer.\n",
    "\n",
    "Hvis du er nysjerrig kan du allerede nå se hvordan man kan skrive informasjon til fil i denne videoen til\n",
    "[Corey Shafer](https://www.youtube.com/watch?v=Uh2ebFW8OYM).\n",
    "\n",
    "Vi skal senere se på hvordan dette gjøres i litt mer detalj"
   ]
  },
  {
   "cell_type": "markdown",
   "metadata": {},
   "source": [
    "# Oppsummering\n",
    "\n",
    "\n",
    "## Gode vaner\n",
    "* **variabler** En variabel i python kan inneholde alle typer objekter. De gjør det lettere å lese programmet, og gir det mer fleksibilitet til å bygge opp programmet ditt\n",
    "\n",
    "* **variabelnavn** Velg gode navn til variablene dine. Er det en matematisk formel, bør du gjøre koden mest mulig lik de matematiske utrykkkene. Er det noe annet, velg et nøye uttenkt og beskrivende navn til variabelen din\n",
    "\n",
    "\n",
    "* **kommentarer** En kommentar i python starter med en hashtag (`#`) eller kan gis som en doc-string. Kommentarer gjør koden din lettere å lese for andre mennesker - ikke minst deg selv om 2-3 dager, uker eller måneder.\n",
    "---------\n",
    "\n",
    "\n",
    "## Vanlige datatyper\n",
    "* `str` - datatypen streng i python. En remse med tekst.\n",
    "\n",
    "\n",
    "* `float` - datatypen flyttall i python. En etterlikning av desimaltall. I motsetning til reelle tall finnes det bare et endelig antall flyttall på datamaskinen siden den bare kan lagre et endelig antall bits. Derfor får vi *avrundingsfeil*\n",
    "\n",
    "* `int` - datatypen *integer* eller et heltall. I motsetning til flyttall kan disse representeres nøyaktig!\n",
    "---------------\n",
    "\n",
    "\n",
    "## Ofte brukte kommandoer og pakker\n",
    "* `print('tekst i en streng markert med enkle hermetegn')` skriv ut strengen til terminal/kommandolinje/under kode-celle.\n",
    "* `input('tekst som blir skrevet ut til bruker)` skriv ut streng til bruker, og les inn input til programmet fra bruker.\n",
    "* `import sys` importer pakken sys\n",
    "* `sys.argv` inneholder argumenter til programmet fra kommandolinjen. Kan gis før programmet kjører og er lettere å endre hvis programmet kjøres mange ganger\n",
    "* `from pylab import *` - importer alle funksjoner og kommandoer fra pakken pylab.\n",
    "* `import pylab as pl` - importerer pakken pylab. Du får tilgang til alle kommandoer fra pylab ved å f.eks skrive `x = pl.linspace(-1, 1, 100)`\n",
    "* `%%writefile filename.py` skriver innholdet i en celle til filen `filename.py`\n",
    "* `%run filename.py` kjører programmet `filename.py` fra en celle\n",
    "\n",
    "### Omgjøring av datatyper\n",
    "* `float(<input: streng, int, bool>)` omgjør argumentet til et flyttall\n",
    "* `int(<input: streng, bool>)` omgjør argumentet til et heltall\n",
    "\n",
    "## Avrunding\n",
    "* `round(<input: float f>, <input: int i>)` rund av et flyttall `f` til $i$ desimaler etter komma.\n",
    "\n",
    "* Ofte sett i plotting: `N = int(ceil((xmax - xmin)/dx)))` for å beregne antall punkter langs en akse i et intervall $\\left[x_{\\text{min}}, x_{\\text{max}}\\right)$ med avstand $\\text{d}x$ mellom hvert punkt\n",
    "\n",
    "\n",
    "## Python som kalkulator\n",
    "* `a**b` beregner $a^b$\n",
    "* `a*b` beregner $a\\dot b$\n",
    "* `a + b` beregner $a + b$\n",
    "* `a - b` beregner $a - b$\n",
    "* `(a - b)**2/4` beregner $\\displaystyle \\frac{(a - b)^2}{4}$\n",
    "* `sqrt, ln, log10, exp, sin, cos, tan, arcsin, arccos, arctan, sinh, cosh, tanh` funksjoner tilgjengelig fra pylab\n",
    "* Beregn n'te rot $^n\\sqrt{x} = x^{1/n}$ ved å skrive `x**(1/n)`\n",
    "\n",
    "\n",
    "## Plotting\n",
    "* `linspace`\n",
    "* `plot(x, y)`\n",
    "* `xlabel('navn på x-akse')`\n",
    "* `ylabel('navn på y-akse')`\n",
    "* `title('tittel')`\n",
    "* `grid` vis rutenett\n",
    "* `show()` vis plottet\n",
    "* `figure()` lag nytt plot"
   ]
  },
  {
   "cell_type": "markdown",
   "metadata": {},
   "source": [
    "## Generelle læringsbeskrivelser\n",
    "Du har lært om følgende:\n",
    "* Skrive verdien av en variabel ut til brukeren\n",
    "* Lese inn data fra brukeren, både \"interaktivt\" med `input` og fra kommandolinja ved å bruke `sys.argv`\n",
    "* Gjøre om mellom datatyper, f.eks fra `int` til `float` eller fra `str` til `float`\n",
    "* Bruke python som kalkulator til enkle beregninger"
   ]
  },
  {
   "cell_type": "markdown",
   "metadata": {},
   "source": [
    "# Oppgaver"
   ]
  },
  {
   "cell_type": "markdown",
   "metadata": {
    "slideshow": {
     "slide_type": "subslide"
    }
   },
   "source": [
    "### Oppgave 1\n",
    "Spør brukeren om navnet til brukeren.\n",
    "Skriv ut en hyggelig hilsen til brukeren som inneholder brukerens navn"
   ]
  },
  {
   "cell_type": "markdown",
   "metadata": {},
   "source": [
    "### Oppgave 2\n",
    "I denne oppgaven skal du lese inn fornavn, etternavn og alder fra brukeren.\n",
    "Du skal kombinere disse for å skrive ut en hyggelig hilsen til brukeren.\n",
    "Du kan starte programmet med noe som ligner dette:\n",
    "\n",
    "---\n",
    "```\n",
    "fornavn = input(\"hva er fornavnet ditt? \")\n",
    "etternavn = input(\"hva er etternavnet ditt? \")\n",
    "```\n",
    "---"
   ]
  },
  {
   "cell_type": "markdown",
   "metadata": {},
   "source": []
  },
  {
   "cell_type": "markdown",
   "metadata": {},
   "source": []
  },
  {
   "cell_type": "markdown",
   "metadata": {
    "slideshow": {
     "slide_type": "subslide"
    }
   },
   "source": [
    "### Oppgave 3\n",
    "Skriv et program som spør brukeren om etternavn, fornavn og alder.\n",
    "Alle strenger har en funksjon `lower` som kan brukes på følgendem måte:"
   ]
  },
  {
   "cell_type": "code",
   "execution_count": null,
   "metadata": {
    "slideshow": {
     "slide_type": "subslide"
    }
   },
   "outputs": [],
   "source": [
    "etternavn = 'Marchussen'\n",
    "etternavn.lower()"
   ]
  },
  {
   "cell_type": "markdown",
   "metadata": {
    "slideshow": {
     "slide_type": "skip"
    }
   },
   "source": [
    "Programmet skal skrive ut etternavnet med små bokstaver"
   ]
  },
  {
   "cell_type": "code",
   "execution_count": null,
   "metadata": {
    "slideshow": {
     "slide_type": "skip"
    }
   },
   "outputs": [],
   "source": []
  },
  {
   "cell_type": "markdown",
   "metadata": {},
   "source": [
    "### Oppgave 4\n",
    "Regn ut følgende verdier med python eller ipython\n",
    "\n",
    "* `sqrt(3)`\n",
    "* `log10(10)`\n",
    "* `log10(1)`\n",
    "* `2*pi`"
   ]
  },
  {
   "cell_type": "code",
   "execution_count": 3,
   "metadata": {},
   "outputs": [],
   "source": [
    "# Du kan skrive koden din her"
   ]
  },
  {
   "cell_type": "markdown",
   "metadata": {
    "slideshow": {
     "slide_type": "subslide"
    }
   },
   "source": [
    "### Oppgave 5\n",
    "\n",
    "##### a)\n",
    "Hva gjør koden under?\n",
    "\n",
    "```\n",
    "In [1]: from pylab import *\n",
    "\n",
    "In [2]: rad2deg(2*pi)\n",
    "Out[2]: 360.0\n",
    "\n",
    "In [3]: rad2deg(3*pi)\n",
    "Out[3]: 540.0\n",
    "\n",
    "In [4]: rad2deg(pi)\n",
    "Out[4]: 180.0\n",
    "\n",
    "In [5]: rad2deg(pi/2)\n",
    "Out[5]: 90.0\n",
    "\n",
    "In [6]: rad2deg(pi/4)\n",
    "Out[6]: 45.0\n",
    "\n",
    "In [7]: rad2deg(0)\n",
    "Out[7]: 0.0\n",
    "```"
   ]
  },
  {
   "cell_type": "markdown",
   "metadata": {
    "slideshow": {
     "slide_type": "subslide"
    }
   },
   "source": [
    "##### b)\n",
    "Hva tror du `rad2deg(pi/3)` vil gi ut?\n",
    "Du kan bruke cellen under eller i en egen ipython-terminal til å sjekke svaret ditt."
   ]
  },
  {
   "cell_type": "code",
   "execution_count": null,
   "metadata": {
    "slideshow": {
     "slide_type": "subslide"
    }
   },
   "outputs": [],
   "source": [
    "from pylab import *"
   ]
  },
  {
   "cell_type": "markdown",
   "metadata": {},
   "source": [
    "### Oppgave 6\n",
    "\n",
    "##### a)\n",
    "Regn ut `deg2rad(0)` og `deg2rad(180)`\n",
    "\n",
    "---------\n",
    "\n",
    "Hvis vi gir grader som input til trigonometriske funksjoner i python, får vi ikke riktig svar:\n",
    "```\n",
    "In [2]: from pylab import *\n",
    "In [2]: sin(180)\n",
    "Out[2]: -0.8011526357338304\n",
    "```\n",
    "\n",
    "Hvis vi bruker funksjonen `deg2rad` på gradene slik at vi får vinkelen i radianer, går det bra.\n",
    "\n",
    "##### b)\n",
    "Bruk funksjonen `deg2rad` og regn ut to eller flere av verdiene under\n",
    "\n",
    "\\begin{align}\n",
    "\\sin(30°) \\\\[1.1em]\n",
    "\\sin(45°) - \\frac{\\sqrt2}{2} \\label{exact1} \\\\[1.1em]\n",
    "\\sin(60°) - \\frac{\\sqrt3}{2} \\label{exact2} \\\\[1.1em]\n",
    "\\sin(90°) \\\\[1.1em]\n",
    "\\end{align}\n"
   ]
  },
  {
   "cell_type": "markdown",
   "metadata": {
    "slideshow": {
     "slide_type": "slide"
    }
   },
   "source": [
    "-------------------------\n",
    "### Oppgave 7\n",
    "I denne oppgaven undersøker vi hva funksjonen `abs` gjør.\n",
    "\n",
    "* Regn ut `abs(-1)`, `abs(-2)`, `abs(-5)`. Hva gjør funksjonen?\n",
    "\n",
    "* Skriv inn kommandoen `abs?` i en ipython-terminal og les en setning om funksjonen `abs`"
   ]
  },
  {
   "cell_type": "code",
   "execution_count": 5,
   "metadata": {},
   "outputs": [
    {
     "data": {
      "text/plain": [
       "\u001b[1;31mSignature:\u001b[0m \u001b[0mabs\u001b[0m\u001b[1;33m(\u001b[0m\u001b[0mx\u001b[0m\u001b[1;33m,\u001b[0m \u001b[1;33m/\u001b[0m\u001b[1;33m)\u001b[0m\u001b[1;33m\u001b[0m\u001b[1;33m\u001b[0m\u001b[0m\n",
       "\u001b[1;31mDocstring:\u001b[0m Return the absolute value of the argument.\n",
       "\u001b[1;31mType:\u001b[0m      builtin_function_or_method\n"
      ]
     },
     "metadata": {},
     "output_type": "display_data"
    }
   ],
   "source": [
    "abs?"
   ]
  },
  {
   "cell_type": "markdown",
   "metadata": {
    "slideshow": {
     "slide_type": "subslide"
    }
   },
   "source": [
    "---------------------------\n",
    "\n",
    "### Oppgave 8\n",
    "\n",
    "##### a)\n",
    "La $G = 450000$, $V = 0.88$ og $n = 6$. Bruk ipython til å beregne verdien av $N$, som er gitt ved likningen\n",
    "\n",
    "$$N = GV^n.$$\n",
    "\n"
   ]
  },
  {
   "cell_type": "code",
   "execution_count": 3,
   "metadata": {
    "slideshow": {
     "slide_type": "skip"
    }
   },
   "outputs": [],
   "source": [
    "# Du kan skrive programmet ditt her"
   ]
  },
  {
   "cell_type": "markdown",
   "metadata": {
    "slideshow": {
     "slide_type": "skip"
    }
   },
   "source": [
    "##### b)\n",
    "Lag et eksempel på en praktisk situasjon som passer til likningen i oppgave a).\n",
    "\n",
    "---------------"
   ]
  },
  {
   "cell_type": "markdown",
   "metadata": {
    "slideshow": {
     "slide_type": "subslide"
    }
   },
   "source": [
    "----------------------------\n",
    "### Oppgave 9\n",
    "\n",
    "##### a)\n",
    "La $g = -9.81, h_0 = 40 \\text{ og } t = 4.5$.\n",
    "\n",
    "La\n",
    "\n",
    "$$ h = h_0 + \\frac{1}{2}gt^2.$$\n",
    "\n",
    "Fullfør ipython-økten under slik at den regner ut verdien av $h$\n",
    "\n",
    "```\n",
    "In [1]: g = -9.81\n",
    "\n",
    "In [2]: h_0 = 40\n",
    "\n",
    "In [3]: t = 4.5\n",
    "```\n",
    "\n",
    "##### b)\n",
    "Hvilken praktisk situasjon kan likningen i oppgave a) beskrive?"
   ]
  },
  {
   "cell_type": "code",
   "execution_count": null,
   "metadata": {},
   "outputs": [],
   "source": []
  },
  {
   "cell_type": "markdown",
   "metadata": {
    "slideshow": {
     "slide_type": "subslide"
    }
   },
   "source": [
    "---------------------\n",
    "### Oppgave 10\n",
    "\n",
    "Se på ipython-økten under.\n",
    "\n",
    "Kan du se hva som skjer?\n",
    "\n",
    "```\n",
    "In [1]: 1%4\n",
    "Out[1]: 1\n",
    "\n",
    "In [2]: 2%4\n",
    "Out[2]: 2\n",
    "\n",
    "In [3]: 3%4\n",
    "Out[3]: 3\n",
    "\n",
    "In [4]: 4%4\n",
    "Out[4]: 0\n",
    "\n",
    "In [5]: 5%4\n",
    "Out[5]: 1\n",
    "\n",
    "In [6]: 6%4\n",
    "Out[6]: 2\n",
    "\n",
    "In [7]: 7%4\n",
    "Out[7]: 3\n",
    "\n",
    "In [8]: 8%4\n",
    "Out[8]: 0\n",
    "\n",
    "In [9]: 9%4\n",
    "Out[9]: 1\n",
    "```"
   ]
  },
  {
   "cell_type": "markdown",
   "metadata": {
    "slideshow": {
     "slide_type": "subslide"
    }
   },
   "source": [
    "### Oppgave 11\n",
    "##### a)\n",
    "    1) Forklar hva programmet under gjør \n",
    "    2) Modifiser programmet slik at verdien av variabelen LHS blir skrevet ut"
   ]
  },
  {
   "cell_type": "code",
   "execution_count": 24,
   "metadata": {
    "slideshow": {
     "slide_type": "skip"
    }
   },
   "outputs": [],
   "source": [
    "x = 7\n",
    "y = 13\n",
    "\n",
    "LHS = x*y + x/(y + 1)"
   ]
  },
  {
   "cell_type": "markdown",
   "metadata": {
    "slideshow": {
     "slide_type": "subslide"
    }
   },
   "source": [
    "##### b)\n",
    "Skriv et program som tar inn to tall $x$ og $y$ fra brukeren, og regner ut en verdi for utrykket\n",
    "$xy + x + y$"
   ]
  },
  {
   "cell_type": "code",
   "execution_count": null,
   "metadata": {
    "slideshow": {
     "slide_type": "skip"
    }
   },
   "outputs": [],
   "source": []
  },
  {
   "cell_type": "markdown",
   "metadata": {
    "slideshow": {
     "slide_type": "subslide"
    }
   },
   "source": [
    "### Oppgave 12\n",
    "Skriv et program som tar inn to tall $x$ og $y$ og regner ut en verdi for utrykket $$xy + \\frac{x + 2y}{3}$$"
   ]
  },
  {
   "cell_type": "code",
   "execution_count": null,
   "metadata": {
    "slideshow": {
     "slide_type": "skip"
    }
   },
   "outputs": [],
   "source": []
  },
  {
   "cell_type": "markdown",
   "metadata": {
    "slideshow": {
     "slide_type": "subslide"
    }
   },
   "source": [
    "### Oppgave 13\n",
    "Noen amerikanske og engelske matlagingsprogrammer har irriterende høy bruk av temperaturskaleaen fahrenheit.\n",
    "Formelen for å gjøre om fra fahrenheit til celcius er gitt ved\n",
    "\n",
    "$$ C = (F - 32)\\cdot\\frac{5}{9} $$\n",
    "\n",
    "Skriv et program som leser inn grader fahrenheit fra brukeren, og skriver ut temperaturen i grader celcius."
   ]
  },
  {
   "cell_type": "markdown",
   "metadata": {
    "slideshow": {
     "slide_type": "skip"
    }
   },
   "source": []
  },
  {
   "cell_type": "markdown",
   "metadata": {
    "slideshow": {
     "slide_type": "subslide"
    }
   },
   "source": [
    "### Oppgave 14\n",
    "I fysikken har du kanskje lært å bruke formelen\n",
    "\n",
    "$$ h(t) = h_0 + v_0t - \\frac{1}{2}gt^2 $$\n",
    "\n",
    "##### a)\n",
    "Se på koden under. Kan du fullføre den slik at det regnes ut en verdi for $h$?"
   ]
  },
  {
   "cell_type": "code",
   "execution_count": null,
   "metadata": {
    "slideshow": {
     "slide_type": "skip"
    }
   },
   "outputs": [],
   "source": [
    "g = 9.81   # tyngdens akselerasjon\n",
    "h_0 = 4.0  # starthøyde\n",
    "v_0 = 3.4  # vertikal start-fart\n",
    "\n",
    "h = h_0 + v_0 - 0.5*..."
   ]
  },
  {
   "cell_type": "markdown",
   "metadata": {
    "slideshow": {
     "slide_type": "skip"
    }
   },
   "source": [
    "##### b)\n",
    "Hvilke verdier vil variere fra kast til kast?\n",
    "Les disse verdiene inn fra brukeren, og regn ut hvor høyden.\n",
    "Skriv dette ut i en lesbar forståelig melding til brukeren.\n"
   ]
  },
  {
   "cell_type": "code",
   "execution_count": null,
   "metadata": {
    "slideshow": {
     "slide_type": "skip"
    }
   },
   "outputs": [],
   "source": []
  },
  {
   "cell_type": "markdown",
   "metadata": {
    "slideshow": {
     "slide_type": "skip"
    }
   },
   "source": [
    "##### c)\n",
    "Utvid programmet fra b) slik at det leser inn den totale farten og utgangsvinkelen på kastet.\n",
    "Bruk en parameterfremstilling til å regne ut posisjonen etter $t$ sekunder.\n",
    "\n",
    "Skriv denne posisjonen ut til brukeren\n",
    "\n",
    "Du kan bli nødt til å importere funksjoner fra pakken `pylab`"
   ]
  },
  {
   "cell_type": "code",
   "execution_count": 47,
   "metadata": {
    "slideshow": {
     "slide_type": "skip"
    }
   },
   "outputs": [],
   "source": [
    "from pylab import *\n",
    "# skriv resten av koden under her..."
   ]
  },
  {
   "cell_type": "markdown",
   "metadata": {
    "slideshow": {
     "slide_type": "subslide"
    }
   },
   "source": [
    "### Oppgave 15\n",
    "Under har Pål prøvd å skrive et program, men han får en feilmelding.\n",
    "##### a) \n",
    "Hjelp Pål med å reparere programmet"
   ]
  },
  {
   "cell_type": "code",
   "execution_count": null,
   "metadata": {},
   "outputs": [],
   "source": [
    "#gjør om mellom lysår og kilometer\n",
    "\n",
    "light_year = 9460730472580.8 # ett lysår målt i km\n",
    "\n",
    "distance_light_years = input('Write the distance in light years:  ')\n",
    "\n",
    "distance_kilometers = distance_light_years*light_year\n",
    "\n",
    "# print distansen i antall kilometer på stanardform\n",
    "print(f'distansen i km er: {distance_kilometers:g}')"
   ]
  },
  {
   "cell_type": "markdown",
   "metadata": {},
   "source": [
    "I den siste linjen bruker vi en spesiell formatering av strenger.\n",
    "For å fortelle python at vi skal bruke en f-streng, setter vi bokstaven f foran strengen.\n",
    "\n",
    "##### b)\n",
    "Fjern tegnene kolon og g (`:` og `g`) i siste linjen i programmet. Hva skjer?\n",
    "\n",
    "\n",
    "##### Mer om f-strings\n",
    "Vi vil komme tilbake til bruk av f-strings senere.\n",
    "Hvis du er nysjerrig - kan du se en video av [Corey Shafer om f-strenger](https://www.youtube.com/watch?v=nghuHvKLhJA).\n",
    "Videoen antar at du har hatt litt mer om dictionaries og løkker, men dette er ikke essensielt for innholdet i videoen. Du kan enten se begynnelsen av filmen og spare resten til senere,\n",
    "eller hvis du klarer å holde deg rolig uten å forstå alle detaljene kan du kanskje ha utbytte av flere deler av videoen."
   ]
  },
  {
   "attachments": {
    "image.png": {
     "image/png": "[encoded data removed]"
    }
   },
   "cell_type": "markdown",
   "metadata": {},
   "source": [
    "### Oppgave 16\n",
    "I denne oppgaven skal vi se litt på *objekter*. I python er alt objekter. Det betyr at alle\n",
    "variabler du lager, har et sett innebygde *metoder* som avhenger av hvilken datatype (f.eks `int`, `float` eller\n",
    "`str`) variabelen inneholder.\n",
    "For eksempel har en variabel som inneholder datatypen streng blant annet metodene `startswith`, `endswith`, `find` og `replace`.\n",
    "Se figuren under.\n",
    "![image.png](attachment:image.png)\n",
    "\n",
    "a) \n",
    "Bruk et ipython-shell og lag gjør følgende tilordning\n",
    "\n",
    "```\n",
    "fornavn = 'doNAlDinhO'\n",
    "```\n",
    "Skriv `dir(fornavn)`, får du alle metodene til objektet `fornavn`\n",
    "\n",
    "Skriv `help(fornavn.startswith)`. Du får ut en teknisk manual for hvordan metoden brukes.\n",
    "\n",
    "Skriv `fornavn.startswith('doN`) og `fornavn.startswith('don')`. Hva betyr svarene?\n",
    "\n",
    "b)\n",
    "Skriv et program som spør brukeren om en tekst. Programmet skal skrive teksten ut igjen med store bokstaver."
   ]
  },
  {
   "cell_type": "markdown",
   "metadata": {},
   "source": [
    "### Oppgave 17\n",
    "\n",
    "Strenger har også metoden `replace`.\n",
    "En av vennen dine har skrevet en lang tekst, der minst to ord er skrevet feil.\n",
    "\n",
    "`Mari gik till skolen. Hun gik klokka åtte. På skolen hadde hun mattematikk, nrosk, engelsk og gym. På ettermiddagen gikk Mari hjem. Når hun gik hjem, drodde hun innom en butik. På butiken kjøpte hun en\n",
    "baget med laks og egg. Når Mari kom hjem, gjorde hun nrosk leksa før hun så hun på TV. Programmet handlet om en full man som gik rundt i en stue, og sa \"same procedure as last year!\". I stua satt det en dame og skålte for \n",
    "Lord Pomeroy og andre venner. Hun sa alltid \"same procedure as everey year, James!\" Mari kom alltid i jule stemmning når hun så dete programmet. På kvelden ringte bestemor till Mari. Di snakket lenge i telefonen. Det var lenge siden di hadde snakket med verandre. I sommerfeiren pleide Mari og besøke bestemoren og slekta. Da brukte di å kjøre bil till bestemor. Bestemor var også kommet i jule stemmning, så de hade mye å snakke om. Etterpå sa di hade bra till verandre.`.\n",
    "\n",
    "Se etter noen ord som ofte er skrevet feil. Bruk python og metoden `str.replace` til å rydde *litt* i teksten\n",
    "slik at den ser noe bedre ut."
   ]
  },
  {
   "cell_type": "code",
   "execution_count": 22,
   "metadata": {},
   "outputs": [
    {
     "data": {
      "text/plain": [
       "'Mari gikk till skolen. Hun gikk klokka åtte. På skolen hadde hun mattematikk, nrosk, engelsk og gym. På ettermiddagen gikkk Mari hjem. Når hun gikk hjem, drodde hun innom en butik. På butiken kjøpte hun en\\nbaget med laks og egg. Når Mari kom hjem, gjorde hun nrosk leksa før hun så hun på TV. Programmet handlet om en full man som gikk rundt i\\nen stue, og sa \"same procedure as last year!\". I stua satt det en dame og skålte for Lord Pomeroy og andre\\nvenner. Hun sa alltid \"same procedure as everey year, James!\" Mari kom alltid i jule stemmning når hun så dete \\nprogrammet. På kvelden ringte bestemor till Mari. Di snakket lenge i telefonen. Det var lenge siden di hadde snakket sammen.\\nI sommerfeiren pleide Mari og besøke bestemoren og slekta. Da brukte di å kjøre bil till bestemor. Bestemor var også kommet\\ni jule stemmning, så de hade mye å snakke om. Etterpå sa di hade bra till hverandre.\\n'"
      ]
     },
     "execution_count": 22,
     "metadata": {},
     "output_type": "execute_result"
    }
   ],
   "source": [
    "# du kan løse oppgaven her, kopier teksten og sett den inn i variabelen \"tekst\"\n",
    "\n",
    "tekst = \"\"\"Mari gik till skolen. Hun gik klokka åtte. På skolen hadde hun mattematikk, nrosk, engelsk og gym. På ettermiddagen gikk Mari hjem. Når hun gik hjem, drodde hun innom en butik. På butiken kjøpte hun en\n",
    "baget med laks og egg. Når Mari kom hjem, gjorde hun nrosk leksa før hun så hun på TV. Programmet handlet om en full man som gik rundt i\n",
    "en stue, og sa \"same procedure as last year!\". I stua satt det en dame og skålte for Lord Pomeroy og andre\n",
    "venner. Hun sa alltid \"same procedure as everey year, James!\" Mari kom alltid i jule stemmning når hun så dete \n",
    "programmet. På kvelden ringte bestemor till Mari. Di snakket lenge i telefonen. Det var lenge siden di hadde snakket sammen.\n",
    "I sommerfeiren pleide Mari og besøke bestemoren og slekta. Da brukte di å kjøre bil till bestemor. Bestemor var også kommet\n",
    "i jule stemmning, så de hade mye å snakke om. Etterpå sa di hade bra till hverandre.\n",
    "\"\"\"\n",
    "\n",
    "# Fortsett med å erstatte flere ord under\n",
    "tekst = tekst.replace('gik', 'gikk')"
   ]
  },
  {
   "cell_type": "markdown",
   "metadata": {
    "slideshow": {
     "slide_type": "subslide"
    }
   },
   "source": [
    "c) **Refleksjon**: Kan du komme på tilfeller der `str.replace` vil bytte ut ord som faktisk er riktige? Finnes det særtrekk for disse tilfellene? Kan du  for noen slike ord beskrive en *systematisk* måte å unngå å bytte ut feil ord? Du skal ikke skrive kode, bare gi en systematisk fremgangsmåte."
   ]
  },
  {
   "cell_type": "markdown",
   "metadata": {},
   "source": []
  },
  {
   "cell_type": "markdown",
   "metadata": {},
   "source": [
    "### Oppgave 18\n",
    "Modifiser programmet til Pål i oppgave 15 slik at den leser inn informasjon fra kommandolinja"
   ]
  },
  {
   "cell_type": "markdown",
   "metadata": {
    "slideshow": {
     "slide_type": "slide"
    }
   },
   "source": [
    "### Oppgave 19\n",
    "I denne oppgaven må du modifesere programmet `aplot_andergradsfunksjon.py`. Du kan selvfølgelig velge å heller\n",
    "modifisere programmet `plot_andregradsfunksjon.py`.\n",
    "\n",
    "Vi skal starte med å stille opp en annen matematisk modell. Du har følgende scenarie:\n",
    "\n",
    "Antall bakterier i en bakteriekultur er ved morgenen klokken 8.00 målt til 12 000 bakterier.\n",
    "Klokken 10.00 er antall bakterier målt til 13 000 bakterier.\n",
    "\n",
    "##### a)\n",
    "Still opp to ulike modeller $A(t)$ og $B(t)$ for antall bakterier i bakteriekulturen.\n",
    "For hver modell skal du tegne grafen til modellen.\n",
    "\n",
    "------------\n",
    "\n",
    "Tenk gjennom følgende for hver av modellene:\n",
    "\n",
    "* Hvilken informasjon trenger du fra brukeren for å tegne grafen?\n",
    "* Hva må endres i programmet?\n",
    "\n",
    "------------\n",
    "\n",
    "##### c)\n",
    "Velg modellen fra oppgave b) du syns er mest realistisk.\n",
    "\n",
    "Gjør de nødvendige endringene i programmet slik at du kan plotte grafen til funksjonen.\n",
    "\n",
    "Lagre endringene i et nytt program `plot_bakteriepopulasjon.py`"
   ]
  },
  {
   "cell_type": "code",
   "execution_count": 15,
   "metadata": {
    "slideshow": {
     "slide_type": "skip"
    }
   },
   "outputs": [
    {
     "name": "stdout",
     "output_type": "stream",
     "text": [
      "Writing plot_bakteriepopulasjon.py\n"
     ]
    }
   ],
   "source": [
    "%%writefile plot_bakteriepopulasjon.py\n",
    "# Du kan skrive koden din her"
   ]
  },
  {
   "cell_type": "markdown",
   "metadata": {
    "slideshow": {
     "slide_type": "skip"
    }
   },
   "source": [
    "------------"
   ]
  },
  {
   "cell_type": "markdown",
   "metadata": {
    "slideshow": {
     "slide_type": "skip"
    }
   },
   "source": [
    "### Oppave 20\n",
    "Les inn noen data for loddrett kast i programmet over og plot grafen slik at du\n",
    "får høyde over bakken på y-aksen som funksjon av tiden etter kastet i sekunder på x-aksen."
   ]
  },
  {
   "cell_type": "code",
   "execution_count": null,
   "metadata": {},
   "outputs": [],
   "source": []
  }
 ],
 "metadata": {
  "celltoolbar": "Slideshow",
  "kernelspec": {
   "display_name": "Python 3",
   "language": "python",
   "name": "python3"
  },
  "language_info": {
   "codemirror_mode": {
    "name": "ipython",
    "version": 3
   },
   "file_extension": ".py",
   "mimetype": "text/x-python",
   "name": "python",
   "nbconvert_exporter": "python",
   "pygments_lexer": "ipython3",
   "version": "3.7.4"
  },
  "latex_envs": {
   "LaTeX_envs_menu_present": true,
   "autoclose": false,
   "autocomplete": true,
   "bibliofile": "biblio.bib",
   "cite_by": "apalike",
   "current_citInitial": 1,
   "eqLabelWithNumbers": true,
   "eqNumInitial": 1,
   "hotkeys": {
    "equation": "Ctrl-E",
    "itemize": "Ctrl-I"
   },
   "labels_anchors": false,
   "latex_user_defs": false,
   "report_style_numbering": false,
   "user_envs_cfg": false
  }
 },
 "nbformat": 4,
 "nbformat_minor": 4
}
